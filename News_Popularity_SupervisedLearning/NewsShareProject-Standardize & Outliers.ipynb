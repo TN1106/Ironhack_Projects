{
 "cells": [
  {
   "cell_type": "code",
   "execution_count": 1,
   "metadata": {},
   "outputs": [],
   "source": [
    "import pandas as pd\n",
    "import numpy as np\n",
    "\n",
    "import matplotlib.pyplot as plt\n",
    "from matplotlib import style\n",
    "import seaborn as sns"
   ]
  },
  {
   "cell_type": "code",
   "execution_count": 2,
   "metadata": {},
   "outputs": [],
   "source": [
    "df = pd.read_csv('OnlineNewsPopularity.csv')"
   ]
  },
  {
   "cell_type": "code",
   "execution_count": 3,
   "metadata": {},
   "outputs": [
    {
     "data": {
      "text/html": [
       "<div>\n",
       "<style scoped>\n",
       "    .dataframe tbody tr th:only-of-type {\n",
       "        vertical-align: middle;\n",
       "    }\n",
       "\n",
       "    .dataframe tbody tr th {\n",
       "        vertical-align: top;\n",
       "    }\n",
       "\n",
       "    .dataframe thead th {\n",
       "        text-align: right;\n",
       "    }\n",
       "</style>\n",
       "<table border=\"1\" class=\"dataframe\">\n",
       "  <thead>\n",
       "    <tr style=\"text-align: right;\">\n",
       "      <th></th>\n",
       "      <th>url</th>\n",
       "      <th>timedelta</th>\n",
       "      <th>n_tokens_title</th>\n",
       "      <th>n_tokens_content</th>\n",
       "      <th>n_unique_tokens</th>\n",
       "      <th>n_non_stop_words</th>\n",
       "      <th>n_non_stop_unique_tokens</th>\n",
       "      <th>num_hrefs</th>\n",
       "      <th>num_self_hrefs</th>\n",
       "      <th>num_imgs</th>\n",
       "      <th>...</th>\n",
       "      <th>min_positive_polarity</th>\n",
       "      <th>max_positive_polarity</th>\n",
       "      <th>avg_negative_polarity</th>\n",
       "      <th>min_negative_polarity</th>\n",
       "      <th>max_negative_polarity</th>\n",
       "      <th>title_subjectivity</th>\n",
       "      <th>title_sentiment_polarity</th>\n",
       "      <th>abs_title_subjectivity</th>\n",
       "      <th>abs_title_sentiment_polarity</th>\n",
       "      <th>shares</th>\n",
       "    </tr>\n",
       "  </thead>\n",
       "  <tbody>\n",
       "    <tr>\n",
       "      <th>0</th>\n",
       "      <td>http://mashable.com/2013/01/07/amazon-instant-...</td>\n",
       "      <td>731.0</td>\n",
       "      <td>12.0</td>\n",
       "      <td>219.0</td>\n",
       "      <td>0.663594</td>\n",
       "      <td>1.0</td>\n",
       "      <td>0.815385</td>\n",
       "      <td>4.0</td>\n",
       "      <td>2.0</td>\n",
       "      <td>1.0</td>\n",
       "      <td>...</td>\n",
       "      <td>0.100000</td>\n",
       "      <td>0.7</td>\n",
       "      <td>-0.350000</td>\n",
       "      <td>-0.600</td>\n",
       "      <td>-0.200000</td>\n",
       "      <td>0.500000</td>\n",
       "      <td>-0.187500</td>\n",
       "      <td>0.000000</td>\n",
       "      <td>0.187500</td>\n",
       "      <td>593</td>\n",
       "    </tr>\n",
       "    <tr>\n",
       "      <th>1</th>\n",
       "      <td>http://mashable.com/2013/01/07/ap-samsung-spon...</td>\n",
       "      <td>731.0</td>\n",
       "      <td>9.0</td>\n",
       "      <td>255.0</td>\n",
       "      <td>0.604743</td>\n",
       "      <td>1.0</td>\n",
       "      <td>0.791946</td>\n",
       "      <td>3.0</td>\n",
       "      <td>1.0</td>\n",
       "      <td>1.0</td>\n",
       "      <td>...</td>\n",
       "      <td>0.033333</td>\n",
       "      <td>0.7</td>\n",
       "      <td>-0.118750</td>\n",
       "      <td>-0.125</td>\n",
       "      <td>-0.100000</td>\n",
       "      <td>0.000000</td>\n",
       "      <td>0.000000</td>\n",
       "      <td>0.500000</td>\n",
       "      <td>0.000000</td>\n",
       "      <td>711</td>\n",
       "    </tr>\n",
       "    <tr>\n",
       "      <th>2</th>\n",
       "      <td>http://mashable.com/2013/01/07/apple-40-billio...</td>\n",
       "      <td>731.0</td>\n",
       "      <td>9.0</td>\n",
       "      <td>211.0</td>\n",
       "      <td>0.575130</td>\n",
       "      <td>1.0</td>\n",
       "      <td>0.663866</td>\n",
       "      <td>3.0</td>\n",
       "      <td>1.0</td>\n",
       "      <td>1.0</td>\n",
       "      <td>...</td>\n",
       "      <td>0.100000</td>\n",
       "      <td>1.0</td>\n",
       "      <td>-0.466667</td>\n",
       "      <td>-0.800</td>\n",
       "      <td>-0.133333</td>\n",
       "      <td>0.000000</td>\n",
       "      <td>0.000000</td>\n",
       "      <td>0.500000</td>\n",
       "      <td>0.000000</td>\n",
       "      <td>1500</td>\n",
       "    </tr>\n",
       "    <tr>\n",
       "      <th>3</th>\n",
       "      <td>http://mashable.com/2013/01/07/astronaut-notre...</td>\n",
       "      <td>731.0</td>\n",
       "      <td>9.0</td>\n",
       "      <td>531.0</td>\n",
       "      <td>0.503788</td>\n",
       "      <td>1.0</td>\n",
       "      <td>0.665635</td>\n",
       "      <td>9.0</td>\n",
       "      <td>0.0</td>\n",
       "      <td>1.0</td>\n",
       "      <td>...</td>\n",
       "      <td>0.136364</td>\n",
       "      <td>0.8</td>\n",
       "      <td>-0.369697</td>\n",
       "      <td>-0.600</td>\n",
       "      <td>-0.166667</td>\n",
       "      <td>0.000000</td>\n",
       "      <td>0.000000</td>\n",
       "      <td>0.500000</td>\n",
       "      <td>0.000000</td>\n",
       "      <td>1200</td>\n",
       "    </tr>\n",
       "    <tr>\n",
       "      <th>4</th>\n",
       "      <td>http://mashable.com/2013/01/07/att-u-verse-apps/</td>\n",
       "      <td>731.0</td>\n",
       "      <td>13.0</td>\n",
       "      <td>1072.0</td>\n",
       "      <td>0.415646</td>\n",
       "      <td>1.0</td>\n",
       "      <td>0.540890</td>\n",
       "      <td>19.0</td>\n",
       "      <td>19.0</td>\n",
       "      <td>20.0</td>\n",
       "      <td>...</td>\n",
       "      <td>0.033333</td>\n",
       "      <td>1.0</td>\n",
       "      <td>-0.220192</td>\n",
       "      <td>-0.500</td>\n",
       "      <td>-0.050000</td>\n",
       "      <td>0.454545</td>\n",
       "      <td>0.136364</td>\n",
       "      <td>0.045455</td>\n",
       "      <td>0.136364</td>\n",
       "      <td>505</td>\n",
       "    </tr>\n",
       "  </tbody>\n",
       "</table>\n",
       "<p>5 rows × 61 columns</p>\n",
       "</div>"
      ],
      "text/plain": [
       "                                                 url   timedelta  \\\n",
       "0  http://mashable.com/2013/01/07/amazon-instant-...       731.0   \n",
       "1  http://mashable.com/2013/01/07/ap-samsung-spon...       731.0   \n",
       "2  http://mashable.com/2013/01/07/apple-40-billio...       731.0   \n",
       "3  http://mashable.com/2013/01/07/astronaut-notre...       731.0   \n",
       "4   http://mashable.com/2013/01/07/att-u-verse-apps/       731.0   \n",
       "\n",
       "    n_tokens_title   n_tokens_content   n_unique_tokens   n_non_stop_words  \\\n",
       "0             12.0              219.0          0.663594                1.0   \n",
       "1              9.0              255.0          0.604743                1.0   \n",
       "2              9.0              211.0          0.575130                1.0   \n",
       "3              9.0              531.0          0.503788                1.0   \n",
       "4             13.0             1072.0          0.415646                1.0   \n",
       "\n",
       "    n_non_stop_unique_tokens   num_hrefs   num_self_hrefs   num_imgs  ...  \\\n",
       "0                   0.815385         4.0              2.0        1.0  ...   \n",
       "1                   0.791946         3.0              1.0        1.0  ...   \n",
       "2                   0.663866         3.0              1.0        1.0  ...   \n",
       "3                   0.665635         9.0              0.0        1.0  ...   \n",
       "4                   0.540890        19.0             19.0       20.0  ...   \n",
       "\n",
       "    min_positive_polarity   max_positive_polarity   avg_negative_polarity  \\\n",
       "0                0.100000                     0.7               -0.350000   \n",
       "1                0.033333                     0.7               -0.118750   \n",
       "2                0.100000                     1.0               -0.466667   \n",
       "3                0.136364                     0.8               -0.369697   \n",
       "4                0.033333                     1.0               -0.220192   \n",
       "\n",
       "    min_negative_polarity   max_negative_polarity   title_subjectivity  \\\n",
       "0                  -0.600               -0.200000             0.500000   \n",
       "1                  -0.125               -0.100000             0.000000   \n",
       "2                  -0.800               -0.133333             0.000000   \n",
       "3                  -0.600               -0.166667             0.000000   \n",
       "4                  -0.500               -0.050000             0.454545   \n",
       "\n",
       "    title_sentiment_polarity   abs_title_subjectivity  \\\n",
       "0                  -0.187500                 0.000000   \n",
       "1                   0.000000                 0.500000   \n",
       "2                   0.000000                 0.500000   \n",
       "3                   0.000000                 0.500000   \n",
       "4                   0.136364                 0.045455   \n",
       "\n",
       "    abs_title_sentiment_polarity   shares  \n",
       "0                       0.187500      593  \n",
       "1                       0.000000      711  \n",
       "2                       0.000000     1500  \n",
       "3                       0.000000     1200  \n",
       "4                       0.136364      505  \n",
       "\n",
       "[5 rows x 61 columns]"
      ]
     },
     "execution_count": 3,
     "metadata": {},
     "output_type": "execute_result"
    }
   ],
   "source": [
    "df.head()"
   ]
  },
  {
   "cell_type": "code",
   "execution_count": null,
   "metadata": {},
   "outputs": [],
   "source": []
  },
  {
   "cell_type": "markdown",
   "metadata": {},
   "source": [
    "# Clean The Data"
   ]
  },
  {
   "cell_type": "markdown",
   "metadata": {},
   "source": [
    "##### There are no missing values, and the data set appears to be super clean, with dummies already included."
   ]
  },
  {
   "cell_type": "code",
   "execution_count": 4,
   "metadata": {},
   "outputs": [],
   "source": [
    "df.columns = df.columns.str.replace(' ','')"
   ]
  },
  {
   "cell_type": "code",
   "execution_count": null,
   "metadata": {},
   "outputs": [],
   "source": []
  },
  {
   "cell_type": "code",
   "execution_count": 6,
   "metadata": {},
   "outputs": [],
   "source": [
    "df.drop(['url','timedelta'],axis=1,inplace=True)"
   ]
  },
  {
   "cell_type": "code",
   "execution_count": 7,
   "metadata": {},
   "outputs": [],
   "source": [
    "import statsmodels.formula.api as smf\n",
    "\n",
    "def get_vif(exogs, data):\n",
    "    vif_array = np.array([])\n",
    "    tolerance_array = np.array([])\n",
    "    \n",
    "    for exog in exogs:\n",
    "        not_exog = [i for i in exogs if i != exog]\n",
    "        formula = f\"{exog} ~ {' + '.join(not_exog)}\"\n",
    "        \n",
    "        r_squared = smf.ols(formula, data=data).fit().rsquared   #rsquared is the fitting of the model.\n",
    "        \n",
    "        vif = 1/(1-r_squared)\n",
    "        vif_array = np.append(vif_array,vif).round(2)\n",
    "        \n",
    "        tolerance = 1-r_squared\n",
    "        tolerance_array = np.append(tolerance_array,tolerance).round(2)\n",
    "    \n",
    "    df_vif = pd.DataFrame({'VIF':vif_array,'Tolerance':tolerance_array},index=exogs)\n",
    "    \n",
    "    return df_vif"
   ]
  },
  {
   "cell_type": "code",
   "execution_count": 9,
   "metadata": {},
   "outputs": [],
   "source": [
    "df_v = df.copy()"
   ]
  },
  {
   "cell_type": "code",
   "execution_count": 10,
   "metadata": {},
   "outputs": [],
   "source": [
    "df_v.drop(['is_weekend'],axis=1,inplace=True)\n",
    "df_v.drop(['weekday_is_monday'],axis=1,inplace=True)\n",
    "df_v.drop(['LDA_04'],axis=1,inplace=True)\n",
    "df_v.drop(['n_unique_tokens'],axis=1,inplace=True)\n",
    "df_v.drop(['n_non_stop_unique_tokens'],axis=1,inplace=True)\n",
    "df_v.drop(['self_reference_avg_sharess'],axis=1,inplace=True)\n",
    "df_v.drop(['rate_positive_words'],axis=1,inplace=True)\n",
    "df_v.drop(['kw_max_min'],axis=1,inplace=True)"
   ]
  },
  {
   "cell_type": "code",
   "execution_count": 11,
   "metadata": {},
   "outputs": [
    {
     "data": {
      "text/html": [
       "<div>\n",
       "<style scoped>\n",
       "    .dataframe tbody tr th:only-of-type {\n",
       "        vertical-align: middle;\n",
       "    }\n",
       "\n",
       "    .dataframe tbody tr th {\n",
       "        vertical-align: top;\n",
       "    }\n",
       "\n",
       "    .dataframe thead th {\n",
       "        text-align: right;\n",
       "    }\n",
       "</style>\n",
       "<table border=\"1\" class=\"dataframe\">\n",
       "  <thead>\n",
       "    <tr style=\"text-align: right;\">\n",
       "      <th></th>\n",
       "      <th>VIF</th>\n",
       "      <th>Tolerance</th>\n",
       "    </tr>\n",
       "  </thead>\n",
       "  <tbody>\n",
       "    <tr>\n",
       "      <th>n_tokens_title</th>\n",
       "      <td>1.09</td>\n",
       "      <td>0.92</td>\n",
       "    </tr>\n",
       "    <tr>\n",
       "      <th>n_tokens_content</th>\n",
       "      <td>2.19</td>\n",
       "      <td>0.46</td>\n",
       "    </tr>\n",
       "    <tr>\n",
       "      <th>n_non_stop_words</th>\n",
       "      <td>1.00</td>\n",
       "      <td>1.00</td>\n",
       "    </tr>\n",
       "    <tr>\n",
       "      <th>num_hrefs</th>\n",
       "      <td>1.64</td>\n",
       "      <td>0.61</td>\n",
       "    </tr>\n",
       "    <tr>\n",
       "      <th>num_self_hrefs</th>\n",
       "      <td>1.37</td>\n",
       "      <td>0.73</td>\n",
       "    </tr>\n",
       "    <tr>\n",
       "      <th>num_imgs</th>\n",
       "      <td>1.43</td>\n",
       "      <td>0.70</td>\n",
       "    </tr>\n",
       "    <tr>\n",
       "      <th>num_videos</th>\n",
       "      <td>1.24</td>\n",
       "      <td>0.81</td>\n",
       "    </tr>\n",
       "    <tr>\n",
       "      <th>average_token_length</th>\n",
       "      <td>2.95</td>\n",
       "      <td>0.34</td>\n",
       "    </tr>\n",
       "    <tr>\n",
       "      <th>num_keywords</th>\n",
       "      <td>1.49</td>\n",
       "      <td>0.67</td>\n",
       "    </tr>\n",
       "    <tr>\n",
       "      <th>data_channel_is_lifestyle</th>\n",
       "      <td>2.32</td>\n",
       "      <td>0.43</td>\n",
       "    </tr>\n",
       "    <tr>\n",
       "      <th>data_channel_is_entertainment</th>\n",
       "      <td>2.82</td>\n",
       "      <td>0.35</td>\n",
       "    </tr>\n",
       "    <tr>\n",
       "      <th>data_channel_is_bus</th>\n",
       "      <td>5.78</td>\n",
       "      <td>0.17</td>\n",
       "    </tr>\n",
       "    <tr>\n",
       "      <th>data_channel_is_socmed</th>\n",
       "      <td>2.28</td>\n",
       "      <td>0.44</td>\n",
       "    </tr>\n",
       "    <tr>\n",
       "      <th>data_channel_is_tech</th>\n",
       "      <td>6.18</td>\n",
       "      <td>0.16</td>\n",
       "    </tr>\n",
       "    <tr>\n",
       "      <th>data_channel_is_world</th>\n",
       "      <td>7.04</td>\n",
       "      <td>0.14</td>\n",
       "    </tr>\n",
       "    <tr>\n",
       "      <th>kw_min_min</th>\n",
       "      <td>3.81</td>\n",
       "      <td>0.26</td>\n",
       "    </tr>\n",
       "    <tr>\n",
       "      <th>kw_avg_min</th>\n",
       "      <td>1.57</td>\n",
       "      <td>0.64</td>\n",
       "    </tr>\n",
       "    <tr>\n",
       "      <th>kw_min_max</th>\n",
       "      <td>1.39</td>\n",
       "      <td>0.72</td>\n",
       "    </tr>\n",
       "    <tr>\n",
       "      <th>kw_max_max</th>\n",
       "      <td>4.61</td>\n",
       "      <td>0.22</td>\n",
       "    </tr>\n",
       "    <tr>\n",
       "      <th>kw_avg_max</th>\n",
       "      <td>3.62</td>\n",
       "      <td>0.28</td>\n",
       "    </tr>\n",
       "    <tr>\n",
       "      <th>kw_min_avg</th>\n",
       "      <td>2.15</td>\n",
       "      <td>0.46</td>\n",
       "    </tr>\n",
       "    <tr>\n",
       "      <th>kw_max_avg</th>\n",
       "      <td>6.25</td>\n",
       "      <td>0.16</td>\n",
       "    </tr>\n",
       "    <tr>\n",
       "      <th>kw_avg_avg</th>\n",
       "      <td>9.91</td>\n",
       "      <td>0.10</td>\n",
       "    </tr>\n",
       "    <tr>\n",
       "      <th>self_reference_min_shares</th>\n",
       "      <td>1.33</td>\n",
       "      <td>0.75</td>\n",
       "    </tr>\n",
       "    <tr>\n",
       "      <th>self_reference_max_shares</th>\n",
       "      <td>1.40</td>\n",
       "      <td>0.71</td>\n",
       "    </tr>\n",
       "    <tr>\n",
       "      <th>weekday_is_tuesday</th>\n",
       "      <td>1.72</td>\n",
       "      <td>0.58</td>\n",
       "    </tr>\n",
       "    <tr>\n",
       "      <th>weekday_is_wednesday</th>\n",
       "      <td>1.72</td>\n",
       "      <td>0.58</td>\n",
       "    </tr>\n",
       "    <tr>\n",
       "      <th>weekday_is_thursday</th>\n",
       "      <td>1.71</td>\n",
       "      <td>0.58</td>\n",
       "    </tr>\n",
       "    <tr>\n",
       "      <th>weekday_is_friday</th>\n",
       "      <td>1.60</td>\n",
       "      <td>0.63</td>\n",
       "    </tr>\n",
       "    <tr>\n",
       "      <th>weekday_is_saturday</th>\n",
       "      <td>1.30</td>\n",
       "      <td>0.77</td>\n",
       "    </tr>\n",
       "    <tr>\n",
       "      <th>weekday_is_sunday</th>\n",
       "      <td>1.33</td>\n",
       "      <td>0.75</td>\n",
       "    </tr>\n",
       "    <tr>\n",
       "      <th>LDA_00</th>\n",
       "      <td>4.33</td>\n",
       "      <td>0.23</td>\n",
       "    </tr>\n",
       "    <tr>\n",
       "      <th>LDA_01</th>\n",
       "      <td>3.70</td>\n",
       "      <td>0.27</td>\n",
       "    </tr>\n",
       "    <tr>\n",
       "      <th>LDA_02</th>\n",
       "      <td>4.96</td>\n",
       "      <td>0.20</td>\n",
       "    </tr>\n",
       "    <tr>\n",
       "      <th>LDA_03</th>\n",
       "      <td>5.99</td>\n",
       "      <td>0.17</td>\n",
       "    </tr>\n",
       "    <tr>\n",
       "      <th>global_subjectivity</th>\n",
       "      <td>2.77</td>\n",
       "      <td>0.36</td>\n",
       "    </tr>\n",
       "    <tr>\n",
       "      <th>global_sentiment_polarity</th>\n",
       "      <td>7.81</td>\n",
       "      <td>0.13</td>\n",
       "    </tr>\n",
       "    <tr>\n",
       "      <th>global_rate_positive_words</th>\n",
       "      <td>4.35</td>\n",
       "      <td>0.23</td>\n",
       "    </tr>\n",
       "    <tr>\n",
       "      <th>global_rate_negative_words</th>\n",
       "      <td>6.40</td>\n",
       "      <td>0.16</td>\n",
       "    </tr>\n",
       "    <tr>\n",
       "      <th>rate_negative_words</th>\n",
       "      <td>8.65</td>\n",
       "      <td>0.12</td>\n",
       "    </tr>\n",
       "    <tr>\n",
       "      <th>avg_positive_polarity</th>\n",
       "      <td>6.08</td>\n",
       "      <td>0.16</td>\n",
       "    </tr>\n",
       "    <tr>\n",
       "      <th>min_positive_polarity</th>\n",
       "      <td>1.93</td>\n",
       "      <td>0.52</td>\n",
       "    </tr>\n",
       "    <tr>\n",
       "      <th>max_positive_polarity</th>\n",
       "      <td>3.29</td>\n",
       "      <td>0.30</td>\n",
       "    </tr>\n",
       "    <tr>\n",
       "      <th>avg_negative_polarity</th>\n",
       "      <td>7.74</td>\n",
       "      <td>0.13</td>\n",
       "    </tr>\n",
       "    <tr>\n",
       "      <th>min_negative_polarity</th>\n",
       "      <td>5.25</td>\n",
       "      <td>0.19</td>\n",
       "    </tr>\n",
       "    <tr>\n",
       "      <th>max_negative_polarity</th>\n",
       "      <td>2.94</td>\n",
       "      <td>0.34</td>\n",
       "    </tr>\n",
       "    <tr>\n",
       "      <th>title_subjectivity</th>\n",
       "      <td>2.37</td>\n",
       "      <td>0.42</td>\n",
       "    </tr>\n",
       "    <tr>\n",
       "      <th>title_sentiment_polarity</th>\n",
       "      <td>1.32</td>\n",
       "      <td>0.76</td>\n",
       "    </tr>\n",
       "    <tr>\n",
       "      <th>abs_title_subjectivity</th>\n",
       "      <td>1.42</td>\n",
       "      <td>0.71</td>\n",
       "    </tr>\n",
       "    <tr>\n",
       "      <th>abs_title_sentiment_polarity</th>\n",
       "      <td>2.40</td>\n",
       "      <td>0.42</td>\n",
       "    </tr>\n",
       "    <tr>\n",
       "      <th>shares</th>\n",
       "      <td>1.02</td>\n",
       "      <td>0.98</td>\n",
       "    </tr>\n",
       "  </tbody>\n",
       "</table>\n",
       "</div>"
      ],
      "text/plain": [
       "                                VIF  Tolerance\n",
       "n_tokens_title                 1.09       0.92\n",
       "n_tokens_content               2.19       0.46\n",
       "n_non_stop_words               1.00       1.00\n",
       "num_hrefs                      1.64       0.61\n",
       "num_self_hrefs                 1.37       0.73\n",
       "num_imgs                       1.43       0.70\n",
       "num_videos                     1.24       0.81\n",
       "average_token_length           2.95       0.34\n",
       "num_keywords                   1.49       0.67\n",
       "data_channel_is_lifestyle      2.32       0.43\n",
       "data_channel_is_entertainment  2.82       0.35\n",
       "data_channel_is_bus            5.78       0.17\n",
       "data_channel_is_socmed         2.28       0.44\n",
       "data_channel_is_tech           6.18       0.16\n",
       "data_channel_is_world          7.04       0.14\n",
       "kw_min_min                     3.81       0.26\n",
       "kw_avg_min                     1.57       0.64\n",
       "kw_min_max                     1.39       0.72\n",
       "kw_max_max                     4.61       0.22\n",
       "kw_avg_max                     3.62       0.28\n",
       "kw_min_avg                     2.15       0.46\n",
       "kw_max_avg                     6.25       0.16\n",
       "kw_avg_avg                     9.91       0.10\n",
       "self_reference_min_shares      1.33       0.75\n",
       "self_reference_max_shares      1.40       0.71\n",
       "weekday_is_tuesday             1.72       0.58\n",
       "weekday_is_wednesday           1.72       0.58\n",
       "weekday_is_thursday            1.71       0.58\n",
       "weekday_is_friday              1.60       0.63\n",
       "weekday_is_saturday            1.30       0.77\n",
       "weekday_is_sunday              1.33       0.75\n",
       "LDA_00                         4.33       0.23\n",
       "LDA_01                         3.70       0.27\n",
       "LDA_02                         4.96       0.20\n",
       "LDA_03                         5.99       0.17\n",
       "global_subjectivity            2.77       0.36\n",
       "global_sentiment_polarity      7.81       0.13\n",
       "global_rate_positive_words     4.35       0.23\n",
       "global_rate_negative_words     6.40       0.16\n",
       "rate_negative_words            8.65       0.12\n",
       "avg_positive_polarity          6.08       0.16\n",
       "min_positive_polarity          1.93       0.52\n",
       "max_positive_polarity          3.29       0.30\n",
       "avg_negative_polarity          7.74       0.13\n",
       "min_negative_polarity          5.25       0.19\n",
       "max_negative_polarity          2.94       0.34\n",
       "title_subjectivity             2.37       0.42\n",
       "title_sentiment_polarity       1.32       0.76\n",
       "abs_title_subjectivity         1.42       0.71\n",
       "abs_title_sentiment_polarity   2.40       0.42\n",
       "shares                         1.02       0.98"
      ]
     },
     "execution_count": 11,
     "metadata": {},
     "output_type": "execute_result"
    }
   ],
   "source": [
    "get_vif(exogs=df_v.columns,data=df_v)"
   ]
  },
  {
   "cell_type": "code",
   "execution_count": 20,
   "metadata": {},
   "outputs": [
    {
     "data": {
      "text/plain": [
       "(39644, 51)"
      ]
     },
     "execution_count": 20,
     "metadata": {},
     "output_type": "execute_result"
    }
   ],
   "source": [
    "df_v.shape"
   ]
  },
  {
   "cell_type": "markdown",
   "metadata": {},
   "source": [
    "# Remove Outliers First"
   ]
  },
  {
   "cell_type": "code",
   "execution_count": 88,
   "metadata": {},
   "outputs": [],
   "source": [
    "df1 = df_v.copy()\n",
    "def iqr_fun(i,dff):\n",
    "    Q25 = dff[i].quantile(0.25)\n",
    "    Q75 = dff[i].quantile(0.75)\n",
    "    IQR = Q75-Q25\n",
    "    MaxQ = round(Q75+1.5*IQR,0)+1\n",
    "    MinQ = round((Q25-1.5*IQR),0)-1\n",
    "    print(MinQ, MaxQ)\n",
    "    return [MinQ, MaxQ]"
   ]
  },
  {
   "cell_type": "code",
   "execution_count": 89,
   "metadata": {},
   "outputs": [
    {
     "name": "stdout",
     "output_type": "stream",
     "text": [
      "0.0 5581.0\n"
     ]
    }
   ],
   "source": [
    "Q25 = df1['shares'].quantile(0.25)\n",
    "Q75 = df1['shares'].quantile(0.75)\n",
    "IQR = Q75-Q25\n",
    "sMaxQ = Q75+1.5*IQR\n",
    "sMinQ = max(Q25-1.5*IQR,0.0)\n",
    "print(sMinQ, sMaxQ)"
   ]
  },
  {
   "cell_type": "code",
   "execution_count": null,
   "metadata": {},
   "outputs": [],
   "source": []
  },
  {
   "cell_type": "code",
   "execution_count": 90,
   "metadata": {},
   "outputs": [
    {
     "name": "stdout",
     "output_type": "stream",
     "text": [
      "n_tokens_title\n",
      "3.0 17.0\n",
      "[3.0, 17.0]\n",
      "n_tokens_content\n",
      "-460.0 1422.0\n",
      "[-460.0, 1422.0]\n",
      "num_hrefs\n",
      "-11.0 27.0\n",
      "[-11.0, 27.0]\n",
      "num_self_hrefs\n",
      "-5.0 9.0\n",
      "[-5.0, 9.0]\n",
      "num_imgs\n",
      "-1.0 5.0\n",
      "[-1.0, 5.0]\n",
      "num_videos\n",
      "-3.0 3.0\n",
      "[-3.0, 3.0]\n",
      "num_keywords\n",
      "1.0 15.0\n",
      "[1.0, 15.0]\n",
      "kw_min_min\n",
      "-9.0 13.0\n",
      "[-9.0, 13.0]\n",
      "kw_avg_min\n",
      "-158.0 602.0\n",
      "[-158.0, 602.0]\n",
      "kw_min_max\n",
      "-11851.0 19751.0\n",
      "[-11851.0, 19751.0]\n",
      "kw_avg_max\n",
      "-10158.0 521534.0\n",
      "[-10158.0, 521534.0]\n",
      "kw_min_avg\n",
      "-2347.0 3911.0\n",
      "[-2347.0, 3911.0]\n",
      "kw_max_avg\n",
      "903.0 7858.0\n",
      "[903.0, 7858.0]\n",
      "kw_avg_avg\n",
      "1106.0 4204.0\n",
      "[1106.0, 4204.0]\n",
      "self_reference_min_shares\n",
      "-2073.0 5085.0\n",
      "[-2073.0, 5085.0]\n",
      "self_reference_max_shares\n",
      "-4361.0 9177.0\n",
      "[-4361.0, 9177.0]\n"
     ]
    }
   ],
   "source": [
    "df1.drop(['kw_max_max'],axis=1,inplace=True)\n",
    "\n",
    "columns_out = ['n_tokens_title','n_tokens_content','num_hrefs','num_self_hrefs','num_imgs','num_videos','num_keywords',\n",
    "              'kw_min_min',\"kw_avg_min\", \"kw_min_max\",\"kw_avg_max\", \"kw_min_avg\",\n",
    "               \"kw_max_avg\",\"kw_avg_avg\",\"self_reference_min_shares\",\"self_reference_max_shares\"]\n",
    "\n",
    "for n in columns_out:\n",
    "    print(n)\n",
    "    \n",
    "    q = iqr_fun(n,df1)\n",
    "    print(q)\n",
    "    \n",
    "    df1 = df1[(df1[n]<=q[1]) & (df1[n]>=q[0])  ]"
   ]
  },
  {
   "cell_type": "code",
   "execution_count": 91,
   "metadata": {},
   "outputs": [],
   "source": [
    "df1 = df1[df1.shares<=sMaxQ+1000]\n",
    "df1.reset_index(drop=True, inplace=True)"
   ]
  },
  {
   "cell_type": "code",
   "execution_count": 92,
   "metadata": {},
   "outputs": [
    {
     "data": {
      "text/plain": [
       "(12762, 50)"
      ]
     },
     "execution_count": 92,
     "metadata": {},
     "output_type": "execute_result"
    }
   ],
   "source": [
    "df1.shape"
   ]
  },
  {
   "cell_type": "markdown",
   "metadata": {},
   "source": [
    "# Standardize"
   ]
  },
  {
   "cell_type": "code",
   "execution_count": null,
   "metadata": {},
   "outputs": [],
   "source": []
  },
  {
   "cell_type": "code",
   "execution_count": null,
   "metadata": {},
   "outputs": [],
   "source": []
  },
  {
   "cell_type": "code",
   "execution_count": null,
   "metadata": {},
   "outputs": [],
   "source": []
  },
  {
   "cell_type": "code",
   "execution_count": 22,
   "metadata": {},
   "outputs": [],
   "source": [
    "def standardize(x):\n",
    "    #This function takes as input a numpy array and returns a stadardized numpy array of the same dimensions.\n",
    "    #For standardizing columns \n",
    "    return (x-x.mean())/x.std()"
   ]
  },
  {
   "cell_type": "code",
   "execution_count": 93,
   "metadata": {},
   "outputs": [],
   "source": [
    "cols_stand = ['n_tokens_title','n_tokens_content',\"average_token_length\",'num_hrefs','num_self_hrefs','num_imgs',\n",
    "              'num_videos','num_keywords',\n",
    "              'kw_min_min', \"kw_avg_min\", \"kw_min_max\",\"kw_avg_max\", \"kw_min_avg\",\n",
    "               \"kw_max_avg\",\"kw_avg_avg\",\"self_reference_min_shares\",\"self_reference_max_shares\"]\n",
    "\n",
    "for i in cols_stand:\n",
    "    df1[i] = standardize(df1[i])"
   ]
  },
  {
   "cell_type": "code",
   "execution_count": 94,
   "metadata": {},
   "outputs": [
    {
     "data": {
      "text/html": [
       "<div>\n",
       "<style scoped>\n",
       "    .dataframe tbody tr th:only-of-type {\n",
       "        vertical-align: middle;\n",
       "    }\n",
       "\n",
       "    .dataframe tbody tr th {\n",
       "        vertical-align: top;\n",
       "    }\n",
       "\n",
       "    .dataframe thead th {\n",
       "        text-align: right;\n",
       "    }\n",
       "</style>\n",
       "<table border=\"1\" class=\"dataframe\">\n",
       "  <thead>\n",
       "    <tr style=\"text-align: right;\">\n",
       "      <th></th>\n",
       "      <th>n_tokens_title</th>\n",
       "      <th>n_tokens_content</th>\n",
       "      <th>n_non_stop_words</th>\n",
       "      <th>num_hrefs</th>\n",
       "      <th>num_self_hrefs</th>\n",
       "      <th>num_imgs</th>\n",
       "      <th>num_videos</th>\n",
       "      <th>average_token_length</th>\n",
       "      <th>num_keywords</th>\n",
       "      <th>data_channel_is_lifestyle</th>\n",
       "      <th>...</th>\n",
       "      <th>min_positive_polarity</th>\n",
       "      <th>max_positive_polarity</th>\n",
       "      <th>avg_negative_polarity</th>\n",
       "      <th>min_negative_polarity</th>\n",
       "      <th>max_negative_polarity</th>\n",
       "      <th>title_subjectivity</th>\n",
       "      <th>title_sentiment_polarity</th>\n",
       "      <th>abs_title_subjectivity</th>\n",
       "      <th>abs_title_sentiment_polarity</th>\n",
       "      <th>shares</th>\n",
       "    </tr>\n",
       "  </thead>\n",
       "  <tbody>\n",
       "    <tr>\n",
       "      <th>0</th>\n",
       "      <td>0.226315</td>\n",
       "      <td>-0.000912</td>\n",
       "      <td>1.0</td>\n",
       "      <td>0.693619</td>\n",
       "      <td>-1.202038</td>\n",
       "      <td>-0.175771</td>\n",
       "      <td>-0.576702</td>\n",
       "      <td>-0.466654</td>\n",
       "      <td>-0.119859</td>\n",
       "      <td>1.0</td>\n",
       "      <td>...</td>\n",
       "      <td>0.100000</td>\n",
       "      <td>0.750000</td>\n",
       "      <td>-0.202083</td>\n",
       "      <td>-0.4</td>\n",
       "      <td>-0.05</td>\n",
       "      <td>0.400</td>\n",
       "      <td>0.200</td>\n",
       "      <td>0.100</td>\n",
       "      <td>0.200</td>\n",
       "      <td>2000</td>\n",
       "    </tr>\n",
       "    <tr>\n",
       "      <th>1</th>\n",
       "      <td>0.702215</td>\n",
       "      <td>-1.047326</td>\n",
       "      <td>1.0</td>\n",
       "      <td>-0.531934</td>\n",
       "      <td>-0.714577</td>\n",
       "      <td>-0.175771</td>\n",
       "      <td>-0.576702</td>\n",
       "      <td>0.170269</td>\n",
       "      <td>-1.784318</td>\n",
       "      <td>0.0</td>\n",
       "      <td>...</td>\n",
       "      <td>0.050000</td>\n",
       "      <td>1.000000</td>\n",
       "      <td>-0.400000</td>\n",
       "      <td>-0.4</td>\n",
       "      <td>-0.40</td>\n",
       "      <td>0.350</td>\n",
       "      <td>-0.200</td>\n",
       "      <td>0.150</td>\n",
       "      <td>0.200</td>\n",
       "      <td>1200</td>\n",
       "    </tr>\n",
       "    <tr>\n",
       "      <th>2</th>\n",
       "      <td>-0.725484</td>\n",
       "      <td>-0.216453</td>\n",
       "      <td>1.0</td>\n",
       "      <td>0.285101</td>\n",
       "      <td>-1.202038</td>\n",
       "      <td>-0.175771</td>\n",
       "      <td>-0.576702</td>\n",
       "      <td>0.606613</td>\n",
       "      <td>0.989780</td>\n",
       "      <td>0.0</td>\n",
       "      <td>...</td>\n",
       "      <td>0.100000</td>\n",
       "      <td>0.600000</td>\n",
       "      <td>-0.288889</td>\n",
       "      <td>-0.5</td>\n",
       "      <td>-0.10</td>\n",
       "      <td>0.200</td>\n",
       "      <td>-0.075</td>\n",
       "      <td>0.300</td>\n",
       "      <td>0.075</td>\n",
       "      <td>761</td>\n",
       "    </tr>\n",
       "    <tr>\n",
       "      <th>3</th>\n",
       "      <td>-0.725484</td>\n",
       "      <td>-0.943032</td>\n",
       "      <td>1.0</td>\n",
       "      <td>-0.327675</td>\n",
       "      <td>0.260346</td>\n",
       "      <td>-0.175771</td>\n",
       "      <td>-0.576702</td>\n",
       "      <td>0.198480</td>\n",
       "      <td>-0.674678</td>\n",
       "      <td>0.0</td>\n",
       "      <td>...</td>\n",
       "      <td>0.100000</td>\n",
       "      <td>0.285714</td>\n",
       "      <td>-0.275000</td>\n",
       "      <td>-0.3</td>\n",
       "      <td>-0.25</td>\n",
       "      <td>0.050</td>\n",
       "      <td>0.000</td>\n",
       "      <td>0.450</td>\n",
       "      <td>0.000</td>\n",
       "      <td>2700</td>\n",
       "    </tr>\n",
       "    <tr>\n",
       "      <th>4</th>\n",
       "      <td>1.178114</td>\n",
       "      <td>-1.189861</td>\n",
       "      <td>1.0</td>\n",
       "      <td>-0.736193</td>\n",
       "      <td>0.260346</td>\n",
       "      <td>-1.275373</td>\n",
       "      <td>-0.576702</td>\n",
       "      <td>-0.243867</td>\n",
       "      <td>0.989780</td>\n",
       "      <td>0.0</td>\n",
       "      <td>...</td>\n",
       "      <td>0.136364</td>\n",
       "      <td>0.800000</td>\n",
       "      <td>-0.300000</td>\n",
       "      <td>-0.4</td>\n",
       "      <td>-0.20</td>\n",
       "      <td>0.375</td>\n",
       "      <td>-0.125</td>\n",
       "      <td>0.125</td>\n",
       "      <td>0.125</td>\n",
       "      <td>1100</td>\n",
       "    </tr>\n",
       "  </tbody>\n",
       "</table>\n",
       "<p>5 rows × 50 columns</p>\n",
       "</div>"
      ],
      "text/plain": [
       "   n_tokens_title  n_tokens_content  n_non_stop_words  num_hrefs  \\\n",
       "0        0.226315         -0.000912               1.0   0.693619   \n",
       "1        0.702215         -1.047326               1.0  -0.531934   \n",
       "2       -0.725484         -0.216453               1.0   0.285101   \n",
       "3       -0.725484         -0.943032               1.0  -0.327675   \n",
       "4        1.178114         -1.189861               1.0  -0.736193   \n",
       "\n",
       "   num_self_hrefs  num_imgs  num_videos  average_token_length  num_keywords  \\\n",
       "0       -1.202038 -0.175771   -0.576702             -0.466654     -0.119859   \n",
       "1       -0.714577 -0.175771   -0.576702              0.170269     -1.784318   \n",
       "2       -1.202038 -0.175771   -0.576702              0.606613      0.989780   \n",
       "3        0.260346 -0.175771   -0.576702              0.198480     -0.674678   \n",
       "4        0.260346 -1.275373   -0.576702             -0.243867      0.989780   \n",
       "\n",
       "   data_channel_is_lifestyle  ...  min_positive_polarity  \\\n",
       "0                        1.0  ...               0.100000   \n",
       "1                        0.0  ...               0.050000   \n",
       "2                        0.0  ...               0.100000   \n",
       "3                        0.0  ...               0.100000   \n",
       "4                        0.0  ...               0.136364   \n",
       "\n",
       "   max_positive_polarity  avg_negative_polarity  min_negative_polarity  \\\n",
       "0               0.750000              -0.202083                   -0.4   \n",
       "1               1.000000              -0.400000                   -0.4   \n",
       "2               0.600000              -0.288889                   -0.5   \n",
       "3               0.285714              -0.275000                   -0.3   \n",
       "4               0.800000              -0.300000                   -0.4   \n",
       "\n",
       "   max_negative_polarity  title_subjectivity  title_sentiment_polarity  \\\n",
       "0                  -0.05               0.400                     0.200   \n",
       "1                  -0.40               0.350                    -0.200   \n",
       "2                  -0.10               0.200                    -0.075   \n",
       "3                  -0.25               0.050                     0.000   \n",
       "4                  -0.20               0.375                    -0.125   \n",
       "\n",
       "   abs_title_subjectivity  abs_title_sentiment_polarity  shares  \n",
       "0                   0.100                         0.200    2000  \n",
       "1                   0.150                         0.200    1200  \n",
       "2                   0.300                         0.075     761  \n",
       "3                   0.450                         0.000    2700  \n",
       "4                   0.125                         0.125    1100  \n",
       "\n",
       "[5 rows x 50 columns]"
      ]
     },
     "execution_count": 94,
     "metadata": {},
     "output_type": "execute_result"
    }
   ],
   "source": [
    "df1.head()\n"
   ]
  },
  {
   "cell_type": "code",
   "execution_count": 95,
   "metadata": {},
   "outputs": [
    {
     "data": {
      "text/plain": [
       "(12762, 50)"
      ]
     },
     "execution_count": 95,
     "metadata": {},
     "output_type": "execute_result"
    }
   ],
   "source": [
    "df1.shape"
   ]
  },
  {
   "cell_type": "markdown",
   "metadata": {},
   "source": [
    "# Check for Multicollinearity"
   ]
  },
  {
   "cell_type": "code",
   "execution_count": null,
   "metadata": {},
   "outputs": [],
   "source": []
  },
  {
   "cell_type": "code",
   "execution_count": null,
   "metadata": {},
   "outputs": [],
   "source": []
  },
  {
   "cell_type": "code",
   "execution_count": null,
   "metadata": {},
   "outputs": [],
   "source": []
  },
  {
   "cell_type": "markdown",
   "metadata": {},
   "source": [
    "# Categorize Shares into Bins. Start with 2."
   ]
  },
  {
   "cell_type": "code",
   "execution_count": 96,
   "metadata": {},
   "outputs": [],
   "source": [
    "df6 = df1.copy()"
   ]
  },
  {
   "cell_type": "code",
   "execution_count": 27,
   "metadata": {},
   "outputs": [],
   "source": [
    "sns.set()"
   ]
  },
  {
   "cell_type": "code",
   "execution_count": null,
   "metadata": {},
   "outputs": [],
   "source": []
  },
  {
   "cell_type": "code",
   "execution_count": 97,
   "metadata": {},
   "outputs": [],
   "source": [
    "ser, bins = pd.qcut(df6[\"shares\"], 2, retbins=True, labels=['poor','good'])\n",
    "df6['share_cat'] = pd.cut(df6[\"shares\"], bins=bins, labels=[0,1], include_lowest=True)"
   ]
  },
  {
   "cell_type": "code",
   "execution_count": 98,
   "metadata": {},
   "outputs": [
    {
     "data": {
      "text/plain": [
       "n_tokens_title                   0\n",
       "n_tokens_content                 0\n",
       "n_non_stop_words                 0\n",
       "num_hrefs                        0\n",
       "num_self_hrefs                   0\n",
       "num_imgs                         0\n",
       "num_videos                       0\n",
       "average_token_length             0\n",
       "num_keywords                     0\n",
       "data_channel_is_lifestyle        0\n",
       "data_channel_is_entertainment    0\n",
       "data_channel_is_bus              0\n",
       "data_channel_is_socmed           0\n",
       "data_channel_is_tech             0\n",
       "data_channel_is_world            0\n",
       "kw_min_min                       0\n",
       "kw_avg_min                       0\n",
       "kw_min_max                       0\n",
       "kw_avg_max                       0\n",
       "kw_min_avg                       0\n",
       "kw_max_avg                       0\n",
       "kw_avg_avg                       0\n",
       "self_reference_min_shares        0\n",
       "self_reference_max_shares        0\n",
       "weekday_is_tuesday               0\n",
       "weekday_is_wednesday             0\n",
       "weekday_is_thursday              0\n",
       "weekday_is_friday                0\n",
       "weekday_is_saturday              0\n",
       "weekday_is_sunday                0\n",
       "LDA_00                           0\n",
       "LDA_01                           0\n",
       "LDA_02                           0\n",
       "LDA_03                           0\n",
       "global_subjectivity              0\n",
       "global_sentiment_polarity        0\n",
       "global_rate_positive_words       0\n",
       "global_rate_negative_words       0\n",
       "rate_negative_words              0\n",
       "avg_positive_polarity            0\n",
       "min_positive_polarity            0\n",
       "max_positive_polarity            0\n",
       "avg_negative_polarity            0\n",
       "min_negative_polarity            0\n",
       "max_negative_polarity            0\n",
       "title_subjectivity               0\n",
       "title_sentiment_polarity         0\n",
       "abs_title_subjectivity           0\n",
       "abs_title_sentiment_polarity     0\n",
       "shares                           0\n",
       "share_cat                        0\n",
       "dtype: int64"
      ]
     },
     "execution_count": 98,
     "metadata": {},
     "output_type": "execute_result"
    }
   ],
   "source": [
    "df6.isna().sum()"
   ]
  },
  {
   "cell_type": "code",
   "execution_count": null,
   "metadata": {},
   "outputs": [],
   "source": []
  },
  {
   "cell_type": "code",
   "execution_count": 99,
   "metadata": {},
   "outputs": [],
   "source": [
    "df6.drop(['shares'],axis=1,inplace=True)"
   ]
  },
  {
   "cell_type": "code",
   "execution_count": 100,
   "metadata": {},
   "outputs": [
    {
     "data": {
      "text/html": [
       "<div>\n",
       "<style scoped>\n",
       "    .dataframe tbody tr th:only-of-type {\n",
       "        vertical-align: middle;\n",
       "    }\n",
       "\n",
       "    .dataframe tbody tr th {\n",
       "        vertical-align: top;\n",
       "    }\n",
       "\n",
       "    .dataframe thead th {\n",
       "        text-align: right;\n",
       "    }\n",
       "</style>\n",
       "<table border=\"1\" class=\"dataframe\">\n",
       "  <thead>\n",
       "    <tr style=\"text-align: right;\">\n",
       "      <th></th>\n",
       "      <th>n_tokens_title</th>\n",
       "      <th>n_tokens_content</th>\n",
       "      <th>n_non_stop_words</th>\n",
       "      <th>num_hrefs</th>\n",
       "      <th>num_self_hrefs</th>\n",
       "      <th>num_imgs</th>\n",
       "      <th>num_videos</th>\n",
       "      <th>average_token_length</th>\n",
       "      <th>num_keywords</th>\n",
       "      <th>data_channel_is_lifestyle</th>\n",
       "      <th>...</th>\n",
       "      <th>min_positive_polarity</th>\n",
       "      <th>max_positive_polarity</th>\n",
       "      <th>avg_negative_polarity</th>\n",
       "      <th>min_negative_polarity</th>\n",
       "      <th>max_negative_polarity</th>\n",
       "      <th>title_subjectivity</th>\n",
       "      <th>title_sentiment_polarity</th>\n",
       "      <th>abs_title_subjectivity</th>\n",
       "      <th>abs_title_sentiment_polarity</th>\n",
       "      <th>share_cat</th>\n",
       "    </tr>\n",
       "  </thead>\n",
       "  <tbody>\n",
       "    <tr>\n",
       "      <th>0</th>\n",
       "      <td>0.226315</td>\n",
       "      <td>-0.000912</td>\n",
       "      <td>1.0</td>\n",
       "      <td>0.693619</td>\n",
       "      <td>-1.202038</td>\n",
       "      <td>-0.175771</td>\n",
       "      <td>-0.576702</td>\n",
       "      <td>-0.466654</td>\n",
       "      <td>-0.119859</td>\n",
       "      <td>1.0</td>\n",
       "      <td>...</td>\n",
       "      <td>0.100000</td>\n",
       "      <td>0.750000</td>\n",
       "      <td>-0.202083</td>\n",
       "      <td>-0.4</td>\n",
       "      <td>-0.05</td>\n",
       "      <td>0.400</td>\n",
       "      <td>0.200</td>\n",
       "      <td>0.100</td>\n",
       "      <td>0.200</td>\n",
       "      <td>1</td>\n",
       "    </tr>\n",
       "    <tr>\n",
       "      <th>1</th>\n",
       "      <td>0.702215</td>\n",
       "      <td>-1.047326</td>\n",
       "      <td>1.0</td>\n",
       "      <td>-0.531934</td>\n",
       "      <td>-0.714577</td>\n",
       "      <td>-0.175771</td>\n",
       "      <td>-0.576702</td>\n",
       "      <td>0.170269</td>\n",
       "      <td>-1.784318</td>\n",
       "      <td>0.0</td>\n",
       "      <td>...</td>\n",
       "      <td>0.050000</td>\n",
       "      <td>1.000000</td>\n",
       "      <td>-0.400000</td>\n",
       "      <td>-0.4</td>\n",
       "      <td>-0.40</td>\n",
       "      <td>0.350</td>\n",
       "      <td>-0.200</td>\n",
       "      <td>0.150</td>\n",
       "      <td>0.200</td>\n",
       "      <td>1</td>\n",
       "    </tr>\n",
       "    <tr>\n",
       "      <th>2</th>\n",
       "      <td>-0.725484</td>\n",
       "      <td>-0.216453</td>\n",
       "      <td>1.0</td>\n",
       "      <td>0.285101</td>\n",
       "      <td>-1.202038</td>\n",
       "      <td>-0.175771</td>\n",
       "      <td>-0.576702</td>\n",
       "      <td>0.606613</td>\n",
       "      <td>0.989780</td>\n",
       "      <td>0.0</td>\n",
       "      <td>...</td>\n",
       "      <td>0.100000</td>\n",
       "      <td>0.600000</td>\n",
       "      <td>-0.288889</td>\n",
       "      <td>-0.5</td>\n",
       "      <td>-0.10</td>\n",
       "      <td>0.200</td>\n",
       "      <td>-0.075</td>\n",
       "      <td>0.300</td>\n",
       "      <td>0.075</td>\n",
       "      <td>0</td>\n",
       "    </tr>\n",
       "    <tr>\n",
       "      <th>3</th>\n",
       "      <td>-0.725484</td>\n",
       "      <td>-0.943032</td>\n",
       "      <td>1.0</td>\n",
       "      <td>-0.327675</td>\n",
       "      <td>0.260346</td>\n",
       "      <td>-0.175771</td>\n",
       "      <td>-0.576702</td>\n",
       "      <td>0.198480</td>\n",
       "      <td>-0.674678</td>\n",
       "      <td>0.0</td>\n",
       "      <td>...</td>\n",
       "      <td>0.100000</td>\n",
       "      <td>0.285714</td>\n",
       "      <td>-0.275000</td>\n",
       "      <td>-0.3</td>\n",
       "      <td>-0.25</td>\n",
       "      <td>0.050</td>\n",
       "      <td>0.000</td>\n",
       "      <td>0.450</td>\n",
       "      <td>0.000</td>\n",
       "      <td>1</td>\n",
       "    </tr>\n",
       "    <tr>\n",
       "      <th>4</th>\n",
       "      <td>1.178114</td>\n",
       "      <td>-1.189861</td>\n",
       "      <td>1.0</td>\n",
       "      <td>-0.736193</td>\n",
       "      <td>0.260346</td>\n",
       "      <td>-1.275373</td>\n",
       "      <td>-0.576702</td>\n",
       "      <td>-0.243867</td>\n",
       "      <td>0.989780</td>\n",
       "      <td>0.0</td>\n",
       "      <td>...</td>\n",
       "      <td>0.136364</td>\n",
       "      <td>0.800000</td>\n",
       "      <td>-0.300000</td>\n",
       "      <td>-0.4</td>\n",
       "      <td>-0.20</td>\n",
       "      <td>0.375</td>\n",
       "      <td>-0.125</td>\n",
       "      <td>0.125</td>\n",
       "      <td>0.125</td>\n",
       "      <td>0</td>\n",
       "    </tr>\n",
       "  </tbody>\n",
       "</table>\n",
       "<p>5 rows × 50 columns</p>\n",
       "</div>"
      ],
      "text/plain": [
       "   n_tokens_title  n_tokens_content  n_non_stop_words  num_hrefs  \\\n",
       "0        0.226315         -0.000912               1.0   0.693619   \n",
       "1        0.702215         -1.047326               1.0  -0.531934   \n",
       "2       -0.725484         -0.216453               1.0   0.285101   \n",
       "3       -0.725484         -0.943032               1.0  -0.327675   \n",
       "4        1.178114         -1.189861               1.0  -0.736193   \n",
       "\n",
       "   num_self_hrefs  num_imgs  num_videos  average_token_length  num_keywords  \\\n",
       "0       -1.202038 -0.175771   -0.576702             -0.466654     -0.119859   \n",
       "1       -0.714577 -0.175771   -0.576702              0.170269     -1.784318   \n",
       "2       -1.202038 -0.175771   -0.576702              0.606613      0.989780   \n",
       "3        0.260346 -0.175771   -0.576702              0.198480     -0.674678   \n",
       "4        0.260346 -1.275373   -0.576702             -0.243867      0.989780   \n",
       "\n",
       "   data_channel_is_lifestyle  ...  min_positive_polarity  \\\n",
       "0                        1.0  ...               0.100000   \n",
       "1                        0.0  ...               0.050000   \n",
       "2                        0.0  ...               0.100000   \n",
       "3                        0.0  ...               0.100000   \n",
       "4                        0.0  ...               0.136364   \n",
       "\n",
       "   max_positive_polarity  avg_negative_polarity  min_negative_polarity  \\\n",
       "0               0.750000              -0.202083                   -0.4   \n",
       "1               1.000000              -0.400000                   -0.4   \n",
       "2               0.600000              -0.288889                   -0.5   \n",
       "3               0.285714              -0.275000                   -0.3   \n",
       "4               0.800000              -0.300000                   -0.4   \n",
       "\n",
       "   max_negative_polarity  title_subjectivity  title_sentiment_polarity  \\\n",
       "0                  -0.05               0.400                     0.200   \n",
       "1                  -0.40               0.350                    -0.200   \n",
       "2                  -0.10               0.200                    -0.075   \n",
       "3                  -0.25               0.050                     0.000   \n",
       "4                  -0.20               0.375                    -0.125   \n",
       "\n",
       "   abs_title_subjectivity  abs_title_sentiment_polarity  share_cat  \n",
       "0                   0.100                         0.200          1  \n",
       "1                   0.150                         0.200          1  \n",
       "2                   0.300                         0.075          0  \n",
       "3                   0.450                         0.000          1  \n",
       "4                   0.125                         0.125          0  \n",
       "\n",
       "[5 rows x 50 columns]"
      ]
     },
     "execution_count": 100,
     "metadata": {},
     "output_type": "execute_result"
    }
   ],
   "source": [
    "df6.head()"
   ]
  },
  {
   "cell_type": "code",
   "execution_count": 129,
   "metadata": {},
   "outputs": [],
   "source": [
    "from sklearn.model_selection import train_test_split\n",
    "\n",
    "X_tr1, X_t1, y_tr1,y_t1 = train_test_split(df6.drop('share_cat',axis=1), df6['share_cat'], test_size=0.2)"
   ]
  },
  {
   "cell_type": "code",
   "execution_count": 130,
   "metadata": {},
   "outputs": [
    {
     "name": "stderr",
     "output_type": "stream",
     "text": [
      "C:\\Users\\Tom N\\Anaconda3\\lib\\site-packages\\sklearn\\linear_model\\logistic.py:433: FutureWarning: Default solver will be changed to 'lbfgs' in 0.22. Specify a solver to silence this warning.\n",
      "  FutureWarning)\n"
     ]
    }
   ],
   "source": [
    "from sklearn.linear_model import LogisticRegression\n",
    "\n",
    "log2_model = LogisticRegression()\n",
    "\n",
    "log2_model.fit(X_tr1,y_tr1)\n",
    "\n",
    "y_p_tr1= log2_model.predict(X_tr1)\n",
    "y_p_t1= log2_model.predict(X_t1)"
   ]
  },
  {
   "cell_type": "code",
   "execution_count": 131,
   "metadata": {},
   "outputs": [
    {
     "name": "stdout",
     "output_type": "stream",
     "text": [
      "Acc Score on traning set: 0.656577529630718\n",
      "Acc Score on testing set: 0.6564825695260478\n",
      "\n",
      "Balanced Acc Score on traning set: 0.6558845575456018\n",
      "Balanced Acc Score on testing set: 0.6569099378881988\n",
      "Precision Score on training set: 0.6645021645021645\n",
      "Precision Score on testing set: 0.6773080241587576\n",
      "\n",
      "Recall Score on training set: 0.6108237166732988\n",
      "Recall Score on testing set: 0.609472049689441\n",
      "\n",
      "F1 Score on training set: 0.636533278042712\n",
      "F1 Score on testing set: 0.6416019615856151\n"
     ]
    }
   ],
   "source": [
    "from sklearn.metrics import accuracy_score\n",
    "acc_score_tr1 = accuracy_score(y_tr1, y_p_tr1)\n",
    "acc_score_t1 = accuracy_score(y_t1, y_p_t1)\n",
    "\n",
    "print(\"Acc Score on traning set: {}\".format(acc_score_tr1))\n",
    "print(\"Acc Score on testing set: {}\".format(acc_score_t1)) \n",
    "print(\"\")\n",
    "\n",
    "from sklearn.metrics import balanced_accuracy_score\n",
    "\n",
    "bacc_score_tr1 = balanced_accuracy_score(y_tr1, y_p_tr1)\n",
    "bacc_score_t1 = balanced_accuracy_score(y_t1, y_p_t1)\n",
    "\n",
    "print(\"Balanced Acc Score on traning set: {}\".format(bacc_score_tr1))\n",
    "print(\"Balanced Acc Score on testing set: {}\".format(bacc_score_t1)) \n",
    "\n",
    "precision_tr2 = precision_score(y_tr1, y_p_tr1)\n",
    "precision_t2 = precision_score(y_t1, y_p_t1)\n",
    "\n",
    "print(\"Precision Score on training set: {}\".format(precision_tr2))\n",
    "print(\"Precision Score on testing set: {}\".format(precision_t2)) \n",
    "print(\"\")\n",
    "\n",
    "recall_tr2 = recall_score(y_tr1, y_p_tr1)\n",
    "recall_t2 = recall_score(y_t1, y_p_t1)\n",
    "\n",
    "print(\"Recall Score on training set: {}\".format(recall_tr2))\n",
    "print(\"Recall Score on testing set: {}\".format(recall_t2)) \n",
    "print(\"\")\n",
    "\n",
    "f1_score_tr = f1_score(y_tr1, y_p_tr1)\n",
    "f1_score_t = f1_score(y_t1, y_p_t1)\n",
    "               \n",
    "print(\"F1 Score on training set: {}\".format(f1_score_tr))\n",
    "print(\"F1 Score on testing set: {}\".format(f1_score_t)) "
   ]
  },
  {
   "cell_type": "code",
   "execution_count": 104,
   "metadata": {},
   "outputs": [
    {
     "data": {
      "text/plain": [
       "array([[879, 393],\n",
       "       [524, 757]], dtype=int64)"
      ]
     },
     "execution_count": 104,
     "metadata": {},
     "output_type": "execute_result"
    }
   ],
   "source": [
    "from sklearn.metrics import confusion_matrix\n",
    "\n",
    "confusion_matrix(y_t1, y_p_t1)"
   ]
  },
  {
   "cell_type": "code",
   "execution_count": 105,
   "metadata": {
    "scrolled": false
   },
   "outputs": [
    {
     "data": {
      "image/png": "[encoded data removed]",
      "text/plain": [
       "<Figure size 576x432 with 1 Axes>"
      ]
     },
     "metadata": {},
     "output_type": "display_data"
    }
   ],
   "source": [
    "from sklearn.metrics import roc_auc_score\n",
    "from sklearn.metrics import roc_curve\n",
    "\n",
    "logit_roc_auc = roc_auc_score(y_t1, y_p_t1)\n",
    "fpr, tpr, thresholds = roc_curve(y_t1, log2_model.predict_proba(X_t1)[::,1])\n",
    "\n",
    "plt.figure(figsize=(8,6))\n",
    "plt.plot(fpr, tpr, color='g' ,label='Logistic Regression (area = %0.2f)' % logit_roc_auc)\n",
    "plt.plot([0, 1], [0, 1],'r--')\n",
    "plt.xlim([0.0, 1.0])\n",
    "plt.ylim([0.0, 1.05])\n",
    "plt.xlabel('False Positive Rate',fontsize=16)\n",
    "plt.ylabel('True Positive Rate',fontsize=16)\n",
    "plt.title('I Wanna ROC: Receiver Operating Characteristic\\nStandardized w/ Outliers Gone',fontsize=24)\n",
    "plt.legend(loc=\"lower right\",fontsize=16)\n",
    "plt.savefig('Log_ROC')\n",
    "plt.show()"
   ]
  },
  {
   "cell_type": "markdown",
   "metadata": {},
   "source": [
    "### Try first doing some feature selection."
   ]
  },
  {
   "cell_type": "code",
   "execution_count": 106,
   "metadata": {},
   "outputs": [],
   "source": [
    "df2 = df.copy()"
   ]
  },
  {
   "cell_type": "code",
   "execution_count": 107,
   "metadata": {},
   "outputs": [
    {
     "name": "stdout",
     "output_type": "stream",
     "text": [
      "n_tokens_title\n",
      "3.0 17.0\n",
      "[3.0, 17.0]\n",
      "n_tokens_content\n",
      "-460.0 1422.0\n",
      "[-460.0, 1422.0]\n",
      "num_hrefs\n",
      "-11.0 27.0\n",
      "[-11.0, 27.0]\n",
      "num_self_hrefs\n",
      "-5.0 9.0\n",
      "[-5.0, 9.0]\n",
      "num_imgs\n",
      "-1.0 5.0\n",
      "[-1.0, 5.0]\n",
      "num_videos\n",
      "-3.0 3.0\n",
      "[-3.0, 3.0]\n",
      "num_keywords\n",
      "1.0 15.0\n",
      "[1.0, 15.0]\n",
      "kw_min_min\n",
      "-9.0 13.0\n",
      "[-9.0, 13.0]\n",
      "kw_avg_min\n",
      "-158.0 602.0\n",
      "[-158.0, 602.0]\n",
      "kw_min_max\n",
      "-11851.0 19751.0\n",
      "[-11851.0, 19751.0]\n",
      "kw_avg_max\n",
      "-10158.0 521534.0\n",
      "[-10158.0, 521534.0]\n",
      "kw_min_avg\n",
      "-2347.0 3911.0\n",
      "[-2347.0, 3911.0]\n",
      "kw_max_avg\n",
      "903.0 7858.0\n",
      "[903.0, 7858.0]\n",
      "kw_avg_avg\n",
      "1106.0 4204.0\n",
      "[1106.0, 4204.0]\n",
      "self_reference_min_shares\n",
      "-2073.0 5085.0\n",
      "[-2073.0, 5085.0]\n",
      "self_reference_max_shares\n",
      "-4361.0 9177.0\n",
      "[-4361.0, 9177.0]\n"
     ]
    }
   ],
   "source": [
    "df2.drop(['kw_max_max'],axis=1,inplace=True)\n",
    "\n",
    "columns_out = ['n_tokens_title','n_tokens_content','num_hrefs','num_self_hrefs','num_imgs','num_videos','num_keywords',\n",
    "              'kw_min_min',\"kw_avg_min\", \"kw_min_max\",\"kw_avg_max\", \"kw_min_avg\",\n",
    "               \"kw_max_avg\",\"kw_avg_avg\",\"self_reference_min_shares\",\"self_reference_max_shares\"]\n",
    "\n",
    "for n in columns_out:\n",
    "    print(n)\n",
    "    \n",
    "    q = iqr_fun(n,df2)\n",
    "    print(q)\n",
    "    \n",
    "    df2 = df2[(df2[n]<=q[1]) & (df2[n]>=q[0])  ]"
   ]
  },
  {
   "cell_type": "code",
   "execution_count": 108,
   "metadata": {},
   "outputs": [],
   "source": [
    "df2 = df2[df2.shares<=sMaxQ+1000]\n",
    "df2.reset_index(drop=True, inplace=True)"
   ]
  },
  {
   "cell_type": "code",
   "execution_count": 109,
   "metadata": {},
   "outputs": [],
   "source": [
    "cols_stand = ['n_tokens_title','n_tokens_content',\"average_token_length\",'num_hrefs','num_self_hrefs','num_imgs',\n",
    "              'num_videos','num_keywords',\n",
    "              'kw_min_min', \"kw_avg_min\", \"kw_min_max\",\"kw_avg_max\", \"kw_min_avg\",\n",
    "               \"kw_max_avg\",\"kw_avg_avg\",\"self_reference_min_shares\",\"self_reference_max_shares\"]\n",
    "\n",
    "for i in cols_stand:\n",
    "    df2[i] = standardize(df2[i])"
   ]
  },
  {
   "cell_type": "code",
   "execution_count": 110,
   "metadata": {},
   "outputs": [],
   "source": [
    "ser, bins = pd.qcut(df2[\"shares\"], 2, retbins=True, labels=['poor','good'])\n",
    "df2['share_cat'] = pd.cut(df2[\"shares\"], bins=bins, labels=[0,1], include_lowest=True)"
   ]
  },
  {
   "cell_type": "code",
   "execution_count": 111,
   "metadata": {},
   "outputs": [],
   "source": [
    "df2.drop(['shares'],axis=1,inplace=True)"
   ]
  },
  {
   "cell_type": "code",
   "execution_count": 112,
   "metadata": {},
   "outputs": [],
   "source": [
    "X_tr1, X_t1, y_tr1,y_t1 = train_test_split(df2.drop('share_cat',axis=1), df2['share_cat'], test_size=0.2)"
   ]
  },
  {
   "cell_type": "code",
   "execution_count": 153,
   "metadata": {},
   "outputs": [
    {
     "data": {
      "text/plain": [
       "<bound method BaseEstimator.get_params of LogisticRegression(C=1.0, class_weight=None, dual=False, fit_intercept=True,\n",
       "          intercept_scaling=1, max_iter=100, multi_class='warn',\n",
       "          n_jobs=None, penalty='l2', random_state=None, solver='liblinear',\n",
       "          tol=0.0001, verbose=0, warm_start=False)>"
      ]
     },
     "execution_count": 153,
     "metadata": {},
     "output_type": "execute_result"
    }
   ],
   "source": [
    "log2_model2.get_params"
   ]
  },
  {
   "cell_type": "code",
   "execution_count": 113,
   "metadata": {},
   "outputs": [],
   "source": [
    "log2_model2 = LogisticRegression(solver='liblinear') #lbfgs/liblinear is default"
   ]
  },
  {
   "cell_type": "code",
   "execution_count": 114,
   "metadata": {},
   "outputs": [],
   "source": [
    "from sklearn.feature_selection import RFE"
   ]
  },
  {
   "cell_type": "code",
   "execution_count": 115,
   "metadata": {},
   "outputs": [],
   "source": [
    "rfe1 = RFE(log2_model2,n_features_to_select=8)"
   ]
  },
  {
   "cell_type": "code",
   "execution_count": 116,
   "metadata": {
    "scrolled": true
   },
   "outputs": [
    {
     "name": "stdout",
     "output_type": "stream",
     "text": [
      "[48 39  1 36 14 34 42 25 32 37 47 13 44 23  1  1 15 45 50 29 46 24 27 28\n",
      "  6 12 43 49 21 20 18 19 35  3  2  1  1  5 40 26  1  1  7  1 11 41  8 31\n",
      "  4 30  9 38 10 17 33 16 22]\n",
      "[False False  True False False False False False False False False False\n",
      " False False  True  True False False False False False False False False\n",
      " False False False False False False False False False False False  True\n",
      "  True False False False  True  True False  True False False False False\n",
      " False False False False False False False False False]\n"
     ]
    }
   ],
   "source": [
    "rfe1.fit(X_tr1,y_tr1)\n",
    "print(rfe1.ranking_)\n",
    "print(rfe1.support_)"
   ]
  },
  {
   "cell_type": "code",
   "execution_count": 76,
   "metadata": {},
   "outputs": [
    {
     "data": {
      "text/plain": [
       "Index(['n_unique_tokens', 'data_channel_is_socmed', 'data_channel_is_tech',\n",
       "       'weekday_is_saturday', 'is_weekend', 'LDA_00', 'LDA_04',\n",
       "       'global_subjectivity'],\n",
       "      dtype='object')"
      ]
     },
     "execution_count": 76,
     "metadata": {},
     "output_type": "execute_result"
    }
   ],
   "source": [
    "cols = X_tr1.columns[rfe1.support_]\n",
    "cols"
   ]
  },
  {
   "cell_type": "code",
   "execution_count": 77,
   "metadata": {
    "scrolled": true
   },
   "outputs": [],
   "source": [
    "X_tr2, X_t2, y_tr2, y_t2 = train_test_split(df2[cols], df2['share_cat'], test_size=0.20, \n",
    "                                                    random_state=0)"
   ]
  },
  {
   "cell_type": "code",
   "execution_count": 64,
   "metadata": {},
   "outputs": [],
   "source": [
    "from sklearn.metrics import precision_score, recall_score, f1_score"
   ]
  },
  {
   "cell_type": "code",
   "execution_count": 78,
   "metadata": {},
   "outputs": [
    {
     "name": "stdout",
     "output_type": "stream",
     "text": [
      "Acc Score on traning set: 0.6304241355666569\n",
      "Acc Score on testing set: 0.6149627888758323\n",
      "\n",
      "Balanced Acc Score on traning set: 0.629404042832183\n",
      "Balanced Acc Score on testing set: 0.6155067758328627\n",
      "\n",
      "Precision Score on training set: 0.6421601996823236\n",
      "Precision Score on testing set: 0.6355555555555555\n",
      "\n",
      "Recall Score on training set: 0.5630720254675686\n",
      "Recall Score on testing set: 0.5551242236024845\n",
      "\n",
      "F1 Score on training set: 0.6000212021626207\n",
      "F1 Score on testing set: 0.5926232905097388\n"
     ]
    }
   ],
   "source": [
    "log2_model2.fit(X_tr2,y_tr2)\n",
    "\n",
    "y_p_tr2= log2_model2.predict(X_tr2)\n",
    "y_p_t2= log2_model2.predict(X_t2)\n",
    "\n",
    "acc_score_tr2 = accuracy_score(y_tr2, y_p_tr2)\n",
    "acc_score_t2 = accuracy_score(y_t2, y_p_t2)\n",
    "\n",
    "print(\"Acc Score on traning set: {}\".format(acc_score_tr2))\n",
    "print(\"Acc Score on testing set: {}\".format(acc_score_t2)) \n",
    "print(\"\")\n",
    "\n",
    "bacc_score_tr2 = balanced_accuracy_score(y_tr2, y_p_tr2)\n",
    "bacc_score_t2 = balanced_accuracy_score(y_t2, y_p_t2)\n",
    "\n",
    "print(\"Balanced Acc Score on traning set: {}\".format(bacc_score_tr2))\n",
    "print(\"Balanced Acc Score on testing set: {}\".format(bacc_score_t2)) \n",
    "print(\"\")\n",
    "\n",
    "precision_tr2 = precision_score(y_tr2, y_p_tr2)\n",
    "precision_t2 = precision_score(y_t2, y_p_t2)\n",
    "\n",
    "print(\"Precision Score on training set: {}\".format(precision_tr2))\n",
    "print(\"Precision Score on testing set: {}\".format(precision_t2)) \n",
    "print(\"\")\n",
    "\n",
    "recall_tr2 = recall_score(y_tr2, y_p_tr2)\n",
    "recall_t2 = recall_score(y_t2, y_p_t2)\n",
    "\n",
    "print(\"Recall Score on training set: {}\".format(recall_tr2))\n",
    "print(\"Recall Score on testing set: {}\".format(recall_t2)) \n",
    "print(\"\")\n",
    "\n",
    "f1_score_tr = f1_score(y_tr2, y_p_tr2)\n",
    "f1_score_t = f1_score(y_t2, y_p_t2)\n",
    "               \n",
    "print(\"F1 Score on training set: {}\".format(f1_score_tr))\n",
    "print(\"F1 Score on testing set: {}\".format(f1_score_t)) "
   ]
  },
  {
   "cell_type": "code",
   "execution_count": 79,
   "metadata": {},
   "outputs": [
    {
     "data": {
      "text/plain": [
       "array([[855, 410],\n",
       "       [573, 715]], dtype=int64)"
      ]
     },
     "execution_count": 79,
     "metadata": {},
     "output_type": "execute_result"
    }
   ],
   "source": [
    "confusion_matrix(y_t2, y_p_t2)"
   ]
  },
  {
   "cell_type": "code",
   "execution_count": 80,
   "metadata": {},
   "outputs": [
    {
     "name": "stdout",
     "output_type": "stream",
     "text": [
      "              precision    recall  f1-score   support\n",
      "\n",
      "           0       0.60      0.68      0.63      1265\n",
      "           1       0.64      0.56      0.59      1288\n",
      "\n",
      "   micro avg       0.61      0.61      0.61      2553\n",
      "   macro avg       0.62      0.62      0.61      2553\n",
      "weighted avg       0.62      0.61      0.61      2553\n",
      "\n"
     ]
    }
   ],
   "source": [
    "from sklearn.metrics import classification_report\n",
    "print(classification_report(y_t2, y_p_t2))"
   ]
  },
  {
   "cell_type": "code",
   "execution_count": 82,
   "metadata": {},
   "outputs": [
    {
     "data": {
      "image/png": "[encoded data removed]",
      "text/plain": [
       "<Figure size 576x432 with 1 Axes>"
      ]
     },
     "metadata": {},
     "output_type": "display_data"
    }
   ],
   "source": [
    "from sklearn.metrics import roc_auc_score\n",
    "from sklearn.metrics import roc_curve\n",
    "logit_roc_auc = roc_auc_score(y_t2, y_p_t2)\n",
    "fpr, tpr, thresholds = roc_curve(y_t2, log2_model2.predict_proba(X_t2)[:,1])\n",
    "\n",
    "plt.figure(figsize=(8,6))\n",
    "plt.plot(fpr, tpr, color='g' ,label='Logistic Regression (area = %0.2f)' % logit_roc_auc)\n",
    "plt.plot([0, 1], [0, 1],'r--')\n",
    "plt.xlim([0.0, 1.0])\n",
    "plt.ylim([0.0, 1.05])\n",
    "plt.xlabel('False Positive Rate',fontsize=16)\n",
    "plt.ylabel('True Positive Rate',fontsize=16)\n",
    "plt.title('About to ROC: Receiver Operating Characteristic\\nStandardized - Outliers Removed',fontsize=24)\n",
    "plt.legend(loc=\"lower right\",fontsize=16)\n",
    "plt.savefig('Log_ROC')\n",
    "plt.show()"
   ]
  },
  {
   "cell_type": "code",
   "execution_count": null,
   "metadata": {},
   "outputs": [],
   "source": []
  },
  {
   "cell_type": "markdown",
   "metadata": {},
   "source": [
    "# RANDOM FOREST"
   ]
  },
  {
   "cell_type": "code",
   "execution_count": 138,
   "metadata": {},
   "outputs": [
    {
     "name": "stderr",
     "output_type": "stream",
     "text": [
      "C:\\Users\\Tom N\\Anaconda3\\lib\\site-packages\\sklearn\\ensemble\\forest.py:246: FutureWarning: The default value of n_estimators will change from 10 in version 0.20 to 100 in 0.22.\n",
      "  \"10 in version 0.20 to 100 in 0.22.\", FutureWarning)\n"
     ]
    }
   ],
   "source": [
    "from sklearn.ensemble import RandomForestClassifier\n",
    "\n",
    "ks_rf = RandomForestClassifier().fit(X_tr1,y_tr1)"
   ]
  },
  {
   "cell_type": "code",
   "execution_count": 141,
   "metadata": {},
   "outputs": [
    {
     "data": {
      "text/plain": [
       "array([[884, 381],\n",
       "       [634, 654]], dtype=int64)"
      ]
     },
     "execution_count": 141,
     "metadata": {},
     "output_type": "execute_result"
    }
   ],
   "source": [
    "y_p_t_RF = ks_rf.predict(X_t1)\n",
    "y_p_tr_RF = ks_rf.predict(X_tr1)\n",
    "confusion_matrix(y_t1,y_p_t_RF)"
   ]
  },
  {
   "cell_type": "code",
   "execution_count": 140,
   "metadata": {},
   "outputs": [
    {
     "data": {
      "image/png": "[encoded data removed]",
      "text/plain": [
       "<Figure size 576x576 with 1 Axes>"
      ]
     },
     "metadata": {},
     "output_type": "display_data"
    }
   ],
   "source": [
    "y_pred_proba_RF = ks_rf.predict_proba(X_t1)[:,1]\n",
    "\n",
    "logit_roc_auc = roc_auc_score(y_t1, y_p_t_RF)\n",
    "\n",
    "fpr, tpr, thresholds = roc_curve(y_t1, y_pred_proba_RF)\n",
    "\n",
    "plt.figure(figsize=(8,8))\n",
    "plt.plot(fpr, tpr, color='c' ,label='Logistic Regression (area = %0.2f)' % logit_roc_auc)\n",
    "plt.plot([0, 1], [0, 1],'r--')\n",
    "plt.xlim([0.0, 1.0])\n",
    "plt.ylim([0.0, 1.05])\n",
    "plt.xlabel('False Positive Rate',fontsize=16)\n",
    "plt.ylabel('True Positive Rate',fontsize=16)\n",
    "plt.title('Time to ROC: Receiver Operating Characteristic\\nOutliers Not Removed\\nRandom Forest',fontsize=24)\n",
    "plt.legend(loc=\"lower right\",fontsize=16)\n",
    "plt.savefig('Log_ROC')\n",
    "plt.show()\n"
   ]
  },
  {
   "cell_type": "code",
   "execution_count": 142,
   "metadata": {},
   "outputs": [
    {
     "name": "stdout",
     "output_type": "stream",
     "text": [
      "Acc Score on traning set: 0.9842296013321579\n",
      "Acc Score on testing set: 0.6024285154719937\n",
      "\n",
      "Balanced Acc Score on traning set: 0.9840254753998099\n",
      "Balanced Acc Score on testing set: 0.6032891022021456\n",
      "Precision Score on training set: 0.9971387696709585\n",
      "Precision Score on testing set: 0.6318840579710145\n",
      "\n",
      "Recall Score on training set: 0.9707520891364902\n",
      "Recall Score on testing set: 0.5077639751552795\n",
      "\n",
      "F1 Score on training set: 0.9837685250529287\n",
      "F1 Score on testing set: 0.5630650021523893\n"
     ]
    }
   ],
   "source": [
    "from sklearn.metrics import accuracy_score\n",
    "acc_score_tr1 = accuracy_score(y_tr1, y_p_tr_RF)\n",
    "acc_score_t1 = accuracy_score(y_t1, y_p_t_RF)\n",
    "\n",
    "print(\"Acc Score on traning set: {}\".format(acc_score_tr1))\n",
    "print(\"Acc Score on testing set: {}\".format(acc_score_t1)) \n",
    "print(\"\")\n",
    "\n",
    "from sklearn.metrics import balanced_accuracy_score\n",
    "\n",
    "bacc_score_tr1 = balanced_accuracy_score(y_tr1, y_p_tr_RF)\n",
    "bacc_score_t1 = balanced_accuracy_score(y_t1, y_p_t_RF)\n",
    "\n",
    "print(\"Balanced Acc Score on traning set: {}\".format(bacc_score_tr1))\n",
    "print(\"Balanced Acc Score on testing set: {}\".format(bacc_score_t1)) \n",
    "\n",
    "precision_tr2 = precision_score(y_tr1, y_p_tr_RF)\n",
    "precision_t2 = precision_score(y_t1, y_p_t_RF)\n",
    "\n",
    "print(\"Precision Score on training set: {}\".format(precision_tr2))\n",
    "print(\"Precision Score on testing set: {}\".format(precision_t2)) \n",
    "print(\"\")\n",
    "\n",
    "recall_tr2 = recall_score(y_tr1, y_p_tr_RF)\n",
    "recall_t2 = recall_score(y_t1, y_p_t_RF)\n",
    "\n",
    "print(\"Recall Score on training set: {}\".format(recall_tr2))\n",
    "print(\"Recall Score on testing set: {}\".format(recall_t2)) \n",
    "print(\"\")\n",
    "\n",
    "f1_score_tr = f1_score(y_tr1, y_p_tr_RF)\n",
    "f1_score_t = f1_score(y_t1, y_p_t_RF)\n",
    "               \n",
    "print(\"F1 Score on training set: {}\".format(f1_score_tr))\n",
    "print(\"F1 Score on testing set: {}\".format(f1_score_t)) "
   ]
  },
  {
   "cell_type": "code",
   "execution_count": null,
   "metadata": {},
   "outputs": [],
   "source": []
  },
  {
   "cell_type": "code",
   "execution_count": null,
   "metadata": {},
   "outputs": [],
   "source": []
  },
  {
   "cell_type": "code",
   "execution_count": null,
   "metadata": {},
   "outputs": [],
   "source": []
  },
  {
   "cell_type": "code",
   "execution_count": null,
   "metadata": {},
   "outputs": [],
   "source": []
  },
  {
   "cell_type": "code",
   "execution_count": null,
   "metadata": {},
   "outputs": [],
   "source": []
  },
  {
   "cell_type": "code",
   "execution_count": 117,
   "metadata": {},
   "outputs": [],
   "source": [
    "df8 = df1.copy()"
   ]
  },
  {
   "cell_type": "code",
   "execution_count": 118,
   "metadata": {},
   "outputs": [],
   "source": [
    "ser, bins = pd.qcut(df8[\"shares\"], [0,0.333,0.667,1], retbins=True, labels=['poor','good','viral'])\n",
    "df8['share_cat'] = pd.cut(df8[\"shares\"], bins=bins, labels=[0,1,2], include_lowest=True)"
   ]
  },
  {
   "cell_type": "code",
   "execution_count": 119,
   "metadata": {},
   "outputs": [],
   "source": [
    "df8.drop(['shares'],axis=1,inplace=True)"
   ]
  },
  {
   "cell_type": "code",
   "execution_count": 120,
   "metadata": {},
   "outputs": [],
   "source": [
    "X_tr8, X_t8, y_tr8,y_t8 = train_test_split(df8.drop('share_cat',axis=1), df8['share_cat'], test_size=0.2)"
   ]
  },
  {
   "cell_type": "code",
   "execution_count": 123,
   "metadata": {},
   "outputs": [
    {
     "name": "stderr",
     "output_type": "stream",
     "text": [
      "C:\\Users\\Tom N\\Anaconda3\\lib\\site-packages\\sklearn\\linear_model\\logistic.py:433: FutureWarning: Default solver will be changed to 'lbfgs' in 0.22. Specify a solver to silence this warning.\n",
      "  FutureWarning)\n",
      "C:\\Users\\Tom N\\Anaconda3\\lib\\site-packages\\sklearn\\linear_model\\logistic.py:460: FutureWarning: Default multi_class will be changed to 'auto' in 0.22. Specify the multi_class option to silence this warning.\n",
      "  \"this warning.\", FutureWarning)\n"
     ]
    }
   ],
   "source": [
    "log_model8 = LogisticRegression()\n",
    "\n",
    "log_model8.fit(X_tr8,y_tr8)\n",
    "\n",
    "y_p_tr8= log_model8.predict(X_tr8)\n",
    "y_p_t8= log_model8.predict(X_t8)"
   ]
  },
  {
   "cell_type": "code",
   "execution_count": 124,
   "metadata": {},
   "outputs": [
    {
     "name": "stdout",
     "output_type": "stream",
     "text": [
      "Acc Score on traning set: 0.4811440885493192\n",
      "Acc Score on testing set: 0.46650998824911866\n",
      "\n",
      "Balanced Acc Score on traning set: 0.4852421117976995\n",
      "Balanced Acc Score on testing set: 0.4698253408685688\n",
      "\n",
      "Precision Score on training set: 0.4811440885493192\n",
      "Precision Score on testing set: 0.46650998824911866\n",
      "\n",
      "Recall Score on training set: 0.4811440885493192\n",
      "Recall Score on testing set: 0.46650998824911866\n",
      "\n",
      "F1 Score on training set: 0.4811440885493192\n",
      "F1 Score on testing set: 0.46650998824911866\n"
     ]
    }
   ],
   "source": [
    "acc_score_tr8 = accuracy_score(y_tr8, y_p_tr8)\n",
    "acc_score_t8 = accuracy_score(y_t8, y_p_t8)\n",
    "\n",
    "print(\"Acc Score on traning set: {}\".format(acc_score_tr8))\n",
    "print(\"Acc Score on testing set: {}\".format(acc_score_t8)) \n",
    "print(\"\")\n",
    "\n",
    "bacc_score_tr2 = balanced_accuracy_score(y_tr8, y_p_tr8)\n",
    "bacc_score_t2 = balanced_accuracy_score(y_t8, y_p_t8)\n",
    "\n",
    "print(\"Balanced Acc Score on traning set: {}\".format(bacc_score_tr2))\n",
    "print(\"Balanced Acc Score on testing set: {}\".format(bacc_score_t2)) \n",
    "print(\"\")\n",
    "\n",
    "precision_tr2 = precision_score(y_tr8, y_p_tr8, average='micro')\n",
    "precision_t2 = precision_score(y_t8, y_p_t8,average='micro')\n",
    "\n",
    "print(\"Precision Score on training set: {}\".format(precision_tr2))\n",
    "print(\"Precision Score on testing set: {}\".format(precision_t2)) \n",
    "print(\"\")\n",
    "\n",
    "recall_tr2 = recall_score(y_tr8, y_p_tr8, average='micro')\n",
    "recall_t2 = recall_score(y_t8, y_p_t8, average='micro')\n",
    "\n",
    "print(\"Recall Score on training set: {}\".format(recall_tr2))\n",
    "print(\"Recall Score on testing set: {}\".format(recall_t2)) \n",
    "print(\"\")\n",
    "\n",
    "f1_score_tr = f1_score(y_tr8, y_p_tr8, average='micro')\n",
    "f1_score_t = f1_score(y_t8, y_p_t8, average='micro')\n",
    "               \n",
    "print(\"F1 Score on training set: {}\".format(f1_score_tr))\n",
    "print(\"F1 Score on testing set: {}\".format(f1_score_t)) "
   ]
  },
  {
   "cell_type": "code",
   "execution_count": 125,
   "metadata": {},
   "outputs": [
    {
     "data": {
      "text/plain": [
       "array([[519, 191, 129],\n",
       "       [355, 279, 258],\n",
       "       [215, 214, 393]], dtype=int64)"
      ]
     },
     "execution_count": 125,
     "metadata": {},
     "output_type": "execute_result"
    }
   ],
   "source": [
    "confusion_matrix(y_t8, y_p_t8)"
   ]
  },
  {
   "cell_type": "code",
   "execution_count": 126,
   "metadata": {},
   "outputs": [
    {
     "name": "stdout",
     "output_type": "stream",
     "text": [
      "              precision    recall  f1-score   support\n",
      "\n",
      "           0       0.48      0.62      0.54       839\n",
      "           1       0.41      0.31      0.35       892\n",
      "           2       0.50      0.48      0.49       822\n",
      "\n",
      "   micro avg       0.47      0.47      0.47      2553\n",
      "   macro avg       0.46      0.47      0.46      2553\n",
      "weighted avg       0.46      0.47      0.46      2553\n",
      "\n"
     ]
    }
   ],
   "source": [
    "print(classification_report(y_t8, y_p_t8))"
   ]
  },
  {
   "cell_type": "code",
   "execution_count": null,
   "metadata": {},
   "outputs": [],
   "source": []
  },
  {
   "cell_type": "code",
   "execution_count": 149,
   "metadata": {},
   "outputs": [],
   "source": [
    "dict1= {'Take':[1,2,3,4,5,6,7,8],\"SKLearn Algorithm\":['LogisticRegression','LogisticRegression','LogisticRegression',\n",
    "                                                   'Random Forest','Random Forest','LogisticRegression','LogisticRegression','Random Forest'],\n",
    "       \"Outliers Removed?\":['Yes', 'Yes', 'No', 'Yes','No','Yes','Yes','Yes'], \"Standardized\":['No','No','No','No','No','Yes','Yes','Yes'],\n",
    "       \"Feature Selection\":['No','Yes','Yes', 'Yes','Yes','No','Yes','Yes'], \"AUC\":[0.59,0.62,0.62,0.6,0.6,0.65,0.62,0.61],\"Accuracy\":\n",
    "       [0.607,0.62,0.62,0.6,0.6,0.65,0.615,0.602],\"Balanced Accuracy\":[0.59,0.61,0.62,0.6,0.6,0.65,0.62,0.603],\"Precision\":[0.61, 0.64,\n",
    "                                                                                                               0.61, 0.59, 0.6,0.68,\n",
    "                                                                                                               0.64,0.64],\n",
    "       \"Recall\":[0.403,0.42,0.63,0.46,0.5,0.61,0.56,0.5],\"F1 Score\":[0.485,0.565,0.62,0.52,0.55,0.64,0.59,0.56]}"
   ]
  },
  {
   "cell_type": "code",
   "execution_count": 150,
   "metadata": {},
   "outputs": [],
   "source": [
    "summary = pd.DataFrame(dict1)"
   ]
  },
  {
   "cell_type": "code",
   "execution_count": 151,
   "metadata": {},
   "outputs": [
    {
     "data": {
      "text/html": [
       "<div>\n",
       "<style scoped>\n",
       "    .dataframe tbody tr th:only-of-type {\n",
       "        vertical-align: middle;\n",
       "    }\n",
       "\n",
       "    .dataframe tbody tr th {\n",
       "        vertical-align: top;\n",
       "    }\n",
       "\n",
       "    .dataframe thead th {\n",
       "        text-align: right;\n",
       "    }\n",
       "</style>\n",
       "<table border=\"1\" class=\"dataframe\">\n",
       "  <thead>\n",
       "    <tr style=\"text-align: right;\">\n",
       "      <th></th>\n",
       "      <th>Take</th>\n",
       "      <th>SKLearn Algorithm</th>\n",
       "      <th>Outliers Removed?</th>\n",
       "      <th>Standardized</th>\n",
       "      <th>Feature Selection</th>\n",
       "      <th>AUC</th>\n",
       "      <th>Accuracy</th>\n",
       "      <th>Balanced Accuracy</th>\n",
       "      <th>Precision</th>\n",
       "      <th>Recall</th>\n",
       "      <th>F1 Score</th>\n",
       "    </tr>\n",
       "  </thead>\n",
       "  <tbody>\n",
       "    <tr>\n",
       "      <th>0</th>\n",
       "      <td>1</td>\n",
       "      <td>LogisticRegression</td>\n",
       "      <td>Yes</td>\n",
       "      <td>No</td>\n",
       "      <td>No</td>\n",
       "      <td>0.59</td>\n",
       "      <td>0.607</td>\n",
       "      <td>0.590</td>\n",
       "      <td>0.61</td>\n",
       "      <td>0.403</td>\n",
       "      <td>0.485</td>\n",
       "    </tr>\n",
       "    <tr>\n",
       "      <th>1</th>\n",
       "      <td>2</td>\n",
       "      <td>LogisticRegression</td>\n",
       "      <td>Yes</td>\n",
       "      <td>No</td>\n",
       "      <td>Yes</td>\n",
       "      <td>0.62</td>\n",
       "      <td>0.620</td>\n",
       "      <td>0.610</td>\n",
       "      <td>0.64</td>\n",
       "      <td>0.420</td>\n",
       "      <td>0.565</td>\n",
       "    </tr>\n",
       "    <tr>\n",
       "      <th>2</th>\n",
       "      <td>3</td>\n",
       "      <td>LogisticRegression</td>\n",
       "      <td>No</td>\n",
       "      <td>No</td>\n",
       "      <td>Yes</td>\n",
       "      <td>0.62</td>\n",
       "      <td>0.620</td>\n",
       "      <td>0.620</td>\n",
       "      <td>0.61</td>\n",
       "      <td>0.630</td>\n",
       "      <td>0.620</td>\n",
       "    </tr>\n",
       "    <tr>\n",
       "      <th>3</th>\n",
       "      <td>4</td>\n",
       "      <td>Random Forest</td>\n",
       "      <td>Yes</td>\n",
       "      <td>No</td>\n",
       "      <td>Yes</td>\n",
       "      <td>0.60</td>\n",
       "      <td>0.600</td>\n",
       "      <td>0.600</td>\n",
       "      <td>0.59</td>\n",
       "      <td>0.460</td>\n",
       "      <td>0.520</td>\n",
       "    </tr>\n",
       "    <tr>\n",
       "      <th>4</th>\n",
       "      <td>5</td>\n",
       "      <td>Random Forest</td>\n",
       "      <td>No</td>\n",
       "      <td>No</td>\n",
       "      <td>Yes</td>\n",
       "      <td>0.60</td>\n",
       "      <td>0.600</td>\n",
       "      <td>0.600</td>\n",
       "      <td>0.60</td>\n",
       "      <td>0.500</td>\n",
       "      <td>0.550</td>\n",
       "    </tr>\n",
       "    <tr>\n",
       "      <th>5</th>\n",
       "      <td>6</td>\n",
       "      <td>LogisticRegression</td>\n",
       "      <td>Yes</td>\n",
       "      <td>Yes</td>\n",
       "      <td>No</td>\n",
       "      <td>0.65</td>\n",
       "      <td>0.650</td>\n",
       "      <td>0.650</td>\n",
       "      <td>0.68</td>\n",
       "      <td>0.610</td>\n",
       "      <td>0.640</td>\n",
       "    </tr>\n",
       "    <tr>\n",
       "      <th>6</th>\n",
       "      <td>7</td>\n",
       "      <td>LogisticRegression</td>\n",
       "      <td>Yes</td>\n",
       "      <td>Yes</td>\n",
       "      <td>Yes</td>\n",
       "      <td>0.62</td>\n",
       "      <td>0.615</td>\n",
       "      <td>0.620</td>\n",
       "      <td>0.64</td>\n",
       "      <td>0.560</td>\n",
       "      <td>0.590</td>\n",
       "    </tr>\n",
       "    <tr>\n",
       "      <th>7</th>\n",
       "      <td>8</td>\n",
       "      <td>Random Forest</td>\n",
       "      <td>Yes</td>\n",
       "      <td>Yes</td>\n",
       "      <td>Yes</td>\n",
       "      <td>0.61</td>\n",
       "      <td>0.602</td>\n",
       "      <td>0.603</td>\n",
       "      <td>0.64</td>\n",
       "      <td>0.500</td>\n",
       "      <td>0.560</td>\n",
       "    </tr>\n",
       "  </tbody>\n",
       "</table>\n",
       "</div>"
      ],
      "text/plain": [
       "   Take   SKLearn Algorithm Outliers Removed? Standardized Feature Selection  \\\n",
       "0     1  LogisticRegression               Yes           No                No   \n",
       "1     2  LogisticRegression               Yes           No               Yes   \n",
       "2     3  LogisticRegression                No           No               Yes   \n",
       "3     4       Random Forest               Yes           No               Yes   \n",
       "4     5       Random Forest                No           No               Yes   \n",
       "5     6  LogisticRegression               Yes          Yes                No   \n",
       "6     7  LogisticRegression               Yes          Yes               Yes   \n",
       "7     8       Random Forest               Yes          Yes               Yes   \n",
       "\n",
       "    AUC  Accuracy  Balanced Accuracy  Precision  Recall  F1 Score  \n",
       "0  0.59     0.607              0.590       0.61   0.403     0.485  \n",
       "1  0.62     0.620              0.610       0.64   0.420     0.565  \n",
       "2  0.62     0.620              0.620       0.61   0.630     0.620  \n",
       "3  0.60     0.600              0.600       0.59   0.460     0.520  \n",
       "4  0.60     0.600              0.600       0.60   0.500     0.550  \n",
       "5  0.65     0.650              0.650       0.68   0.610     0.640  \n",
       "6  0.62     0.615              0.620       0.64   0.560     0.590  \n",
       "7  0.61     0.602              0.603       0.64   0.500     0.560  "
      ]
     },
     "execution_count": 151,
     "metadata": {},
     "output_type": "execute_result"
    }
   ],
   "source": [
    "summary"
   ]
  },
  {
   "cell_type": "code",
   "execution_count": null,
   "metadata": {},
   "outputs": [],
   "source": []
  }
 ],
 "metadata": {
  "kernelspec": {
   "display_name": "Python 3",
   "language": "python",
   "name": "python3"
  },
  "language_info": {
   "codemirror_mode": {
    "name": "ipython",
    "version": 3
   },
   "file_extension": ".py",
   "mimetype": "text/x-python",
   "name": "python",
   "nbconvert_exporter": "python",
   "pygments_lexer": "ipython3",
   "version": "3.7.3"
  }
 },
 "nbformat": 4,
 "nbformat_minor": 2
}
