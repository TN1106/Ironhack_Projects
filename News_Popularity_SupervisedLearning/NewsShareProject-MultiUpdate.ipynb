{
 "cells": [
  {
   "cell_type": "code",
   "execution_count": 104,
   "metadata": {},
   "outputs": [],
   "source": [
    "import pandas as pd\n",
    "import numpy as np\n",
    "\n",
    "import matplotlib.pyplot as plt\n",
    "from matplotlib import style\n",
    "import seaborn as sns"
   ]
  },
  {
   "cell_type": "code",
   "execution_count": null,
   "metadata": {},
   "outputs": [],
   "source": []
  },
  {
   "cell_type": "code",
   "execution_count": 2,
   "metadata": {},
   "outputs": [],
   "source": [
    "df = pd.read_csv('OnlineNewsPopularity.csv')"
   ]
  },
  {
   "cell_type": "code",
   "execution_count": null,
   "metadata": {},
   "outputs": [],
   "source": [
    "df.head()"
   ]
  },
  {
   "cell_type": "code",
   "execution_count": null,
   "metadata": {},
   "outputs": [],
   "source": [
    "df.shape"
   ]
  },
  {
   "cell_type": "code",
   "execution_count": null,
   "metadata": {},
   "outputs": [],
   "source": [
    "df.dtypes"
   ]
  },
  {
   "cell_type": "markdown",
   "metadata": {},
   "source": [
    "# Clean The Data"
   ]
  },
  {
   "cell_type": "code",
   "execution_count": null,
   "metadata": {},
   "outputs": [],
   "source": [
    "#Check for missing numbers\n",
    "\n",
    "missing_values = df[df.isnull().any(axis=1)]\n",
    "missing_values.head()"
   ]
  },
  {
   "cell_type": "code",
   "execution_count": null,
   "metadata": {},
   "outputs": [],
   "source": [
    "max(missing_values.isna().sum())"
   ]
  },
  {
   "cell_type": "markdown",
   "metadata": {},
   "source": [
    "##### There are no missing values, and the data set appears to be super clean, with dummies already included."
   ]
  },
  {
   "cell_type": "code",
   "execution_count": null,
   "metadata": {},
   "outputs": [],
   "source": [
    "#Reverse-clean for visualization purposes\n",
    "df_rev = df.copy()\n",
    "df_rev.columns = df_rev.columns.str.replace(' ','')"
   ]
  },
  {
   "cell_type": "code",
   "execution_count": null,
   "metadata": {},
   "outputs": [],
   "source": [
    "df_rev.columns"
   ]
  },
  {
   "cell_type": "code",
   "execution_count": null,
   "metadata": {},
   "outputs": [],
   "source": []
  },
  {
   "cell_type": "code",
   "execution_count": null,
   "metadata": {},
   "outputs": [],
   "source": [
    "df_rev['Channel'] = 'Other'"
   ]
  },
  {
   "cell_type": "code",
   "execution_count": null,
   "metadata": {},
   "outputs": [],
   "source": [
    "col_channel = {'data_channel_is_lifestyle':'Lifestyle','data_channel_is_entertainment':'Entertainment',\n",
    "               'data_channel_is_bus':'Business',\n",
    "               'data_channel_is_socmed':'Social_Media', 'data_channel_is_tech':\"Tech\",\n",
    "               'data_channel_is_world':'World'}\n",
    "\n",
    "for i in col_channel.keys():\n",
    "    df_rev['Channel'] = np.where(df_rev[i]==1.0, col_channel[i],df_rev['Channel'])\n"
   ]
  },
  {
   "cell_type": "code",
   "execution_count": null,
   "metadata": {},
   "outputs": [],
   "source": [
    "df_rev[df_rev['Channel']=='0']['url']\n",
    "df_rev['Channel'].value_counts()"
   ]
  },
  {
   "cell_type": "code",
   "execution_count": null,
   "metadata": {},
   "outputs": [],
   "source": []
  },
  {
   "cell_type": "code",
   "execution_count": null,
   "metadata": {},
   "outputs": [],
   "source": []
  },
  {
   "cell_type": "code",
   "execution_count": null,
   "metadata": {},
   "outputs": [],
   "source": [
    "day_channel = {'weekday_is_monday':'Monday', 'weekday_is_tuesday':'Tuesday',\n",
    "       'weekday_is_wednesday':'Wednesday', 'weekday_is_thursday':'Thursday', 'weekday_is_friday':'Friday',\n",
    "       'weekday_is_saturday':'Saturday', 'weekday_is_sunday':'Sunday'}\n",
    "\n",
    "df_rev['Day_of_Week'] = None\n",
    "\n",
    "for i in day_channel.keys():\n",
    "    df_rev['Day_of_Week'] = np.where(df_rev[i]==1, day_channel[i],df_rev['Day_of_Week'])"
   ]
  },
  {
   "cell_type": "code",
   "execution_count": null,
   "metadata": {},
   "outputs": [],
   "source": [
    "cols_drop = ['weekday_is_monday', 'weekday_is_tuesday',\n",
    "       'weekday_is_wednesday', 'weekday_is_thursday', 'weekday_is_friday',\n",
    "       'weekday_is_saturday', 'weekday_is_sunday','data_channel_is_lifestyle',\n",
    "       'data_channel_is_entertainment', 'data_channel_is_bus',\n",
    "       'data_channel_is_socmed', 'data_channel_is_tech',\n",
    "       'data_channel_is_world']\n",
    "\n",
    "df_rev.drop(columns=cols_drop, inplace=True)"
   ]
  },
  {
   "cell_type": "code",
   "execution_count": null,
   "metadata": {},
   "outputs": [],
   "source": [
    "df_rev.shape"
   ]
  },
  {
   "cell_type": "markdown",
   "metadata": {},
   "source": [
    "\n",
    "\n",
    "# Visualize"
   ]
  },
  {
   "cell_type": "code",
   "execution_count": null,
   "metadata": {},
   "outputs": [],
   "source": [
    "df.corr()"
   ]
  },
  {
   "cell_type": "code",
   "execution_count": null,
   "metadata": {},
   "outputs": [],
   "source": [
    "plt.figure(figsize=(16,8))\n",
    "sns.heatmap(df.corr(),cmap=\"coolwarm\")\n",
    "plt.title('Correlation matrix',fontsize=24)\n",
    "\n",
    "plt.show()"
   ]
  },
  {
   "cell_type": "code",
   "execution_count": null,
   "metadata": {},
   "outputs": [],
   "source": [
    "df_rev.shape"
   ]
  },
  {
   "cell_type": "code",
   "execution_count": null,
   "metadata": {},
   "outputs": [],
   "source": []
  },
  {
   "cell_type": "code",
   "execution_count": null,
   "metadata": {},
   "outputs": [],
   "source": [
    "df_rev['Channel'].isna().sum()"
   ]
  },
  {
   "cell_type": "code",
   "execution_count": null,
   "metadata": {},
   "outputs": [],
   "source": [
    "df_agg_C = df_rev.groupby(['Channel'])['shares'].agg(['mean','sum',np.size]).reset_index()"
   ]
  },
  {
   "cell_type": "code",
   "execution_count": null,
   "metadata": {},
   "outputs": [],
   "source": [
    "df_agg_C.set_index('Channel',inplace=True)"
   ]
  },
  {
   "cell_type": "code",
   "execution_count": null,
   "metadata": {},
   "outputs": [],
   "source": [
    "df_agg_C.sort_values(by='mean',inplace=True, ascending=False)\n",
    "df_agg_C"
   ]
  },
  {
   "cell_type": "code",
   "execution_count": null,
   "metadata": {},
   "outputs": [],
   "source": [
    "sns.set()"
   ]
  },
  {
   "cell_type": "code",
   "execution_count": null,
   "metadata": {},
   "outputs": [],
   "source": [
    "cross = pd.crosstab(df_rev.Channel,df_rev.Day_of_Week)\n"
   ]
  },
  {
   "cell_type": "code",
   "execution_count": null,
   "metadata": {},
   "outputs": [],
   "source": [
    "cross.sum()"
   ]
  },
  {
   "cell_type": "code",
   "execution_count": null,
   "metadata": {},
   "outputs": [],
   "source": [
    "colors1 = sns.color_palette(\"GnBu_d\", len(df_agg_C.index))\n",
    "colors2 = sns.color_palette(\"BuGn_d\", len(df_agg_C.index))\n",
    "\n",
    "fig, [ax1, ax2] = plt.subplots(1,2, figsize=(20,5))\n",
    "df_agg_C = df_agg_C[df_agg_C.index != 'Other']\n",
    "\n",
    "ax = sns.barplot(y = df_agg_C.index, x = df_agg_C['mean'], orient='h', palette = colors1, ax=ax1)\n",
    "ax = sns.barplot(y = df_agg_C.index, x = df_agg_C['size'], orient='h', palette = colors2, ax=ax2)\n",
    "\n",
    "ax1.set_xlabel(xlabel='Average Number of Shares per Article', fontsize=16)\n",
    "ax1.set_ylabel(ylabel=\"Channel\", fontsize=16)\n",
    "ax1.set_title(label=\"Average Number of Shares on Social per Article, by Channel\", fontsize=22)\n",
    "\n",
    "ax2.set_xlabel(xlabel='Number of Articles', fontsize=16)\n",
    "ax2.set_ylabel(ylabel=\"Channel\", fontsize=16)\n",
    "ax2.set_title(label=\"Count of Articles\", fontsize=22)\n",
    "\n",
    "\n",
    "plt.show()"
   ]
  },
  {
   "cell_type": "code",
   "execution_count": null,
   "metadata": {},
   "outputs": [],
   "source": [
    "df_agg2 = df_rev.groupby(['Day_of_Week'])['shares'].agg(['mean','sum',np.size])\n",
    "df_agg2 = df_agg2.sort_values('mean',ascending=False)"
   ]
  },
  {
   "cell_type": "code",
   "execution_count": null,
   "metadata": {},
   "outputs": [],
   "source": [
    "df_agg2"
   ]
  },
  {
   "cell_type": "code",
   "execution_count": null,
   "metadata": {},
   "outputs": [],
   "source": [
    "sns.set()"
   ]
  },
  {
   "cell_type": "code",
   "execution_count": null,
   "metadata": {},
   "outputs": [],
   "source": [
    "colors1 = sns.color_palette(\"Blues_d\", len(df_agg2.index))\n",
    "colors2 = sns.color_palette(\"BuGn_d\", len(df_agg2.index))\n",
    "\n",
    "fig, [ax1, ax2] = plt.subplots(1,2, figsize=(20,5))\n",
    "\n",
    "plt.figure(figsize=(16,8))\n",
    "\n",
    "ax = sns.barplot(y = df_agg2.index, x = df_agg2['mean'], orient='h', palette = colors1, ax=ax1)\n",
    "ax = sns.barplot(y = df_agg2.index, x = df_agg2['size'], orient='h', palette = colors2, ax=ax2)\n",
    "\n",
    "ax1.set_xlabel(xlabel='Average Number of Sharesper Article, by Day of Week Released', fontsize=16)\n",
    "ax1.set_ylabel(ylabel=\"Day\", fontsize=16)\n",
    "ax1.set_title(label=\"Average Number of Shares on Social per Article\", fontsize=24)\n",
    "\n",
    "ax2.set_xlabel(xlabel='Number of Articles by Day Released', fontsize=16)\n",
    "ax2.set_ylabel(ylabel=\"Day\", fontsize=16)\n",
    "ax2.set_title(label=\"Count of Articles\", fontsize=24)\n",
    "\n",
    "\n",
    "plt.show()"
   ]
  },
  {
   "cell_type": "code",
   "execution_count": null,
   "metadata": {
    "scrolled": false
   },
   "outputs": [],
   "source": [
    "cross = cross[['Monday','Tuesday','Wednesday','Thursday','Friday','Saturday','Sunday']]\n",
    "plt.figure(figsize=(16,8))\n",
    "sns.heatmap(cross,cmap=\"viridis\", annot=True, fmt=\"d\")\n",
    "plt.title('Total Number of Articles',fontsize=24)\n",
    "\n",
    "plt.show()"
   ]
  },
  {
   "cell_type": "code",
   "execution_count": null,
   "metadata": {},
   "outputs": [],
   "source": []
  },
  {
   "cell_type": "code",
   "execution_count": null,
   "metadata": {
    "scrolled": false
   },
   "outputs": [],
   "source": [
    "df_rev1 = df_rev[df_rev['Channel']!='Other']\n",
    "\n",
    "ch = ['Entertainment','Business','Tech','Lifestyle','World','Social_Media']\n",
    "\n",
    "\n",
    "medians = df_rev1.groupby(['Channel'])['shares'].median()\n",
    "medians = medians[ch].values\n",
    "\n",
    "median_labels = [str(np.round(s, 2)) for s in medians]\n",
    "\n",
    "\n",
    "means = df_rev1.groupby(['Channel'])['shares'].mean()\n",
    "means = means[ch].values\n",
    "mean_labels = [str(np.round(s, 2)) for s in means]\n",
    "\n",
    "plt.figure(figsize=(18,9))\n",
    "\n",
    "ax = sns.boxplot(x=df_rev1['Channel'], y=df_rev1['shares'],data=df_rev1, hue='is_weekend', palette='RdPu', \n",
    "                 showfliers=False, showmeans=True, linewidth=3.)\n",
    "ax.set_ylabel(ylabel='# Shares on Social', fontsize=20)\n",
    "ax.set_title(label='Article Shares by Channel', fontsize=20)\n",
    "\n",
    "leg = ax.get_legend()\n",
    "\n",
    "new_title = 'Weekend?'\n",
    "leg.set_title(new_title)\n",
    "new_labels = ['No', 'Yes']\n",
    "for t, l in zip(leg.texts, new_labels): t.set_text(l)\n",
    "    \n",
    "plt.setp(ax.get_legend().get_texts(), fontsize='18') # for legend text\n",
    "plt.setp(ax.get_legend().get_title(), fontsize='22') # for legend title\n",
    "\n",
    "pos = range(len(medians))\n",
    "for tick,label in zip(pos,ax.get_xticklabels()):\n",
    "    ax.text(pos[tick], medians[tick], f'med={median_labels[tick]}', \n",
    "            horizontalalignment='center', size='x-small', color='c', weight='semibold',fontsize=20)\n",
    "    ax.text(pos[tick], means[tick], f'mean={mean_labels[tick]}', \n",
    "            horizontalalignment='center', size='x-small', color='g', weight='bold',fontsize=20)\n",
    "\n",
    "plt.show()"
   ]
  },
  {
   "cell_type": "code",
   "execution_count": null,
   "metadata": {},
   "outputs": [],
   "source": [
    "plt.figure(figsize=(8,6))\n",
    "\n",
    "\n",
    "\n",
    "ax = sns.scatterplot(y='shares',x='n_tokens_content',data=df_rev, hue='is_weekend') #Hue\n",
    "ax.set_xlabel(xlabel='Article Word Count', fontsize=16)\n",
    "ax.set_ylabel(ylabel='Number of Shares', fontsize=16)\n",
    "ax.set_title(label='Shares by Length of Article', fontsize=20)\n",
    "ax.set_ylim(0,120000)\n",
    "\n",
    "\n",
    "plt.show()"
   ]
  },
  {
   "cell_type": "code",
   "execution_count": null,
   "metadata": {},
   "outputs": [],
   "source": [
    "df_rev.columns"
   ]
  },
  {
   "cell_type": "code",
   "execution_count": null,
   "metadata": {},
   "outputs": [],
   "source": [
    "plt.figure(figsize=(8,6))\n",
    "\n",
    "\n",
    "\n",
    "ax = sns.scatterplot(y='shares',x='global_subjectivity',data=df_rev, hue='Channel') #Hue\n",
    "ax.set_xlabel(xlabel='Global Subjectivity Score', fontsize=16)\n",
    "ax.set_ylabel(ylabel='Number of Shares', fontsize=16)\n",
    "ax.set_title(label='Shares by Subjectivity', fontsize=20)\n",
    "ax.set_ylim(0,150000)\n",
    "\n",
    "plt.show()"
   ]
  },
  {
   "cell_type": "code",
   "execution_count": null,
   "metadata": {},
   "outputs": [],
   "source": []
  },
  {
   "cell_type": "code",
   "execution_count": null,
   "metadata": {},
   "outputs": [],
   "source": [
    "plt.figure(figsize=(8,6))\n",
    "\n",
    "\n",
    "\n",
    "ax = sns.scatterplot(x='global_sentiment_polarity',y='shares',data=df_rev, hue='Channel') #Hue\n",
    "ax.set_ylabel(ylabel='Number of Shares', fontsize=16)\n",
    "ax.set_xlabel(xlabel='Global Sentiment Polarity', fontsize=16)\n",
    "ax.set_title(label='Shares by Global Sentiment', fontsize=20)\n",
    "ax.set_ylim(0,150000)\n",
    "\n",
    "plt.show()"
   ]
  },
  {
   "cell_type": "code",
   "execution_count": null,
   "metadata": {},
   "outputs": [],
   "source": [
    "df_rev['num_imgs'].describe()"
   ]
  },
  {
   "cell_type": "code",
   "execution_count": null,
   "metadata": {},
   "outputs": [],
   "source": []
  },
  {
   "cell_type": "code",
   "execution_count": null,
   "metadata": {},
   "outputs": [],
   "source": []
  },
  {
   "cell_type": "markdown",
   "metadata": {},
   "source": [
    "# Remove Outliers"
   ]
  },
  {
   "cell_type": "code",
   "execution_count": null,
   "metadata": {},
   "outputs": [],
   "source": [
    "#def iqr_fun():\n",
    "    \n",
    "for i in ['shares']:\n",
    "    Q25 = df_rev[i].quantile(0.25)\n",
    "    Q75 = df_rev[i].quantile(0.75)\n",
    "    IQR = Q75-Q25\n",
    "    sMaxQ = Q75+1.5*IQR\n",
    "    sMinQ = max(Q25-1.5*IQR,0.0)\n",
    "    print(sMinQ, sMaxQ)"
   ]
  },
  {
   "cell_type": "code",
   "execution_count": null,
   "metadata": {},
   "outputs": [],
   "source": [
    "#df_revO = df_rev[(df_rev['shares']<MaxQ) & (df_rev['shares']>MinQ)  ]"
   ]
  },
  {
   "cell_type": "code",
   "execution_count": null,
   "metadata": {},
   "outputs": [],
   "source": [
    "df_rev.shape"
   ]
  },
  {
   "cell_type": "code",
   "execution_count": null,
   "metadata": {},
   "outputs": [],
   "source": [
    "df_rev['shares'].describe()"
   ]
  },
  {
   "cell_type": "code",
   "execution_count": null,
   "metadata": {},
   "outputs": [],
   "source": [
    "plt.figure(figsize=(8,6))\n",
    "\n",
    "df1 = df_rev[(df_rev['shares']<sMaxQ) & (df_rev['shares']>sMinQ)  ]\n",
    "\n",
    "ax= df1['shares'].hist(bins=54)\n",
    "   \n",
    "ax.set_ylabel('Articles', fontsize=20)\n",
    "ax.set_xlabel('Number of Shares', fontsize=20)\n",
    "ax.set_title(label='Shares by Number of Articles', fontsize=20)\n",
    "\n",
    "plt.show()"
   ]
  },
  {
   "cell_type": "markdown",
   "metadata": {},
   "source": [
    "#### Number of Words in Article"
   ]
  },
  {
   "cell_type": "code",
   "execution_count": null,
   "metadata": {},
   "outputs": [],
   "source": [
    "#def iqr_fun():\n",
    "    \n",
    "for i in ['n_tokens_content']:\n",
    "    Q25 = df_rev[i].quantile(0.25)\n",
    "    Q75 = df_rev[i].quantile(0.75)\n",
    "    IQR = Q75-Q25\n",
    "    MaxQ = Q75+1.5*IQR\n",
    "    MinQ = max(Q25-1.5*IQR,0.0)\n",
    "    print(MinQ, MaxQ)"
   ]
  },
  {
   "cell_type": "code",
   "execution_count": null,
   "metadata": {},
   "outputs": [],
   "source": [
    "df_revO = df_rev[(df_rev['n_tokens_content']<MaxQ) & (df_rev['n_tokens_content']>MinQ)  ]"
   ]
  },
  {
   "cell_type": "code",
   "execution_count": null,
   "metadata": {},
   "outputs": [],
   "source": [
    "df_rev.shape"
   ]
  },
  {
   "cell_type": "code",
   "execution_count": null,
   "metadata": {},
   "outputs": [],
   "source": [
    "plt.figure(figsize=(16,8))\n",
    "\n",
    "\n",
    "ax= df_revO['n_tokens_content'].hist(bins=54)\n",
    "   \n",
    "ax.set_ylabel('Articles', fontsize=20)\n",
    "ax.set_xlabel('Number of Words', fontsize=20)\n",
    "\n",
    "plt.show()"
   ]
  },
  {
   "cell_type": "code",
   "execution_count": null,
   "metadata": {},
   "outputs": [],
   "source": [
    "for i in ['num_videos']:\n",
    "    Q25 = df_rev[i].quantile(0.25)\n",
    "    Q75 = df_rev[i].quantile(0.75)\n",
    "    IQR = Q75-Q25\n",
    "    MaxQ = Q75+2*IQR\n",
    "    MinQ = max(Q25-1.5*IQR,0.0)\n",
    "    print(MinQ, MaxQ)"
   ]
  },
  {
   "cell_type": "code",
   "execution_count": null,
   "metadata": {},
   "outputs": [],
   "source": [
    "df_revO = df_revO[(df_revO['num_videos']<=MaxQ) & (df_revO['num_videos']>=MinQ)  ]"
   ]
  },
  {
   "cell_type": "code",
   "execution_count": null,
   "metadata": {},
   "outputs": [],
   "source": [
    "df_revO.shape"
   ]
  },
  {
   "cell_type": "code",
   "execution_count": null,
   "metadata": {},
   "outputs": [],
   "source": [
    "plt.figure(figsize=(16,8))\n",
    "\n",
    "ax= df_revO['num_videos'].hist(bins=4)\n",
    "   \n",
    "ax.set_ylabel('Articles', fontsize=20)\n",
    "ax.set_xlabel('Number of Videos', fontsize=20)\n",
    "\n",
    "plt.show()"
   ]
  },
  {
   "cell_type": "code",
   "execution_count": null,
   "metadata": {},
   "outputs": [],
   "source": []
  },
  {
   "cell_type": "code",
   "execution_count": null,
   "metadata": {},
   "outputs": [],
   "source": []
  },
  {
   "cell_type": "markdown",
   "metadata": {},
   "source": [
    "# Develop Model for Analysis"
   ]
  },
  {
   "cell_type": "code",
   "execution_count": 3,
   "metadata": {},
   "outputs": [],
   "source": [
    "df.columns = df.columns.str.replace(' ','')"
   ]
  },
  {
   "cell_type": "code",
   "execution_count": 4,
   "metadata": {},
   "outputs": [
    {
     "data": {
      "text/plain": [
       "Index(['url', 'timedelta', 'n_tokens_title', 'n_tokens_content',\n",
       "       'n_unique_tokens', 'n_non_stop_words', 'n_non_stop_unique_tokens',\n",
       "       'num_hrefs', 'num_self_hrefs', 'num_imgs', 'num_videos',\n",
       "       'average_token_length', 'num_keywords', 'data_channel_is_lifestyle',\n",
       "       'data_channel_is_entertainment', 'data_channel_is_bus',\n",
       "       'data_channel_is_socmed', 'data_channel_is_tech',\n",
       "       'data_channel_is_world', 'kw_min_min', 'kw_max_min', 'kw_avg_min',\n",
       "       'kw_min_max', 'kw_max_max', 'kw_avg_max', 'kw_min_avg', 'kw_max_avg',\n",
       "       'kw_avg_avg', 'self_reference_min_shares', 'self_reference_max_shares',\n",
       "       'self_reference_avg_sharess', 'weekday_is_monday', 'weekday_is_tuesday',\n",
       "       'weekday_is_wednesday', 'weekday_is_thursday', 'weekday_is_friday',\n",
       "       'weekday_is_saturday', 'weekday_is_sunday', 'is_weekend', 'LDA_00',\n",
       "       'LDA_01', 'LDA_02', 'LDA_03', 'LDA_04', 'global_subjectivity',\n",
       "       'global_sentiment_polarity', 'global_rate_positive_words',\n",
       "       'global_rate_negative_words', 'rate_positive_words',\n",
       "       'rate_negative_words', 'avg_positive_polarity', 'min_positive_polarity',\n",
       "       'max_positive_polarity', 'avg_negative_polarity',\n",
       "       'min_negative_polarity', 'max_negative_polarity', 'title_subjectivity',\n",
       "       'title_sentiment_polarity', 'abs_title_subjectivity',\n",
       "       'abs_title_sentiment_polarity', 'shares'],\n",
       "      dtype='object')"
      ]
     },
     "execution_count": 4,
     "metadata": {},
     "output_type": "execute_result"
    }
   ],
   "source": [
    "df.columns"
   ]
  },
  {
   "cell_type": "code",
   "execution_count": 44,
   "metadata": {},
   "outputs": [],
   "source": [
    "dff = df.copy()\n",
    "\n",
    "def iqr_fun(i,dff):\n",
    "    Q25 = dff[i].quantile(0.25)\n",
    "    Q75 = dff[i].quantile(0.75)\n",
    "    IQR = Q75-Q25\n",
    "    MaxQ = round(Q75+1.5*IQR,0)+1\n",
    "    MinQ = round((Q25-1.5*IQR),0)-1\n",
    "    print(MinQ, MaxQ)\n",
    "    return [MinQ, MaxQ]"
   ]
  },
  {
   "cell_type": "code",
   "execution_count": 45,
   "metadata": {},
   "outputs": [
    {
     "data": {
      "text/plain": [
       "(39644, 61)"
      ]
     },
     "execution_count": 45,
     "metadata": {},
     "output_type": "execute_result"
    }
   ],
   "source": [
    "dff.shape"
   ]
  },
  {
   "cell_type": "code",
   "execution_count": 46,
   "metadata": {},
   "outputs": [],
   "source": [
    "dff.drop(['url','timedelta'],axis=1,inplace=True)"
   ]
  },
  {
   "cell_type": "code",
   "execution_count": 47,
   "metadata": {},
   "outputs": [],
   "source": [
    "import statsmodels.formula.api as smf\n",
    "\n",
    "def get_vif(exogs, data):\n",
    "    vif_array = np.array([])\n",
    "    tolerance_array = np.array([])\n",
    "    \n",
    "    for exog in exogs:\n",
    "        not_exog = [i for i in exogs if i != exog]\n",
    "        formula = f\"{exog} ~ {' + '.join(not_exog)}\"\n",
    "        \n",
    "        r_squared = smf.ols(formula, data=data).fit().rsquared   #rsquared is the fitting of the model.\n",
    "        \n",
    "        vif = 1/(1-r_squared)\n",
    "        vif_array = np.append(vif_array,vif).round(2)\n",
    "        \n",
    "        tolerance = 1-r_squared\n",
    "        tolerance_array = np.append(tolerance_array,tolerance).round(2)\n",
    "    \n",
    "    df_vif = pd.DataFrame({'VIF':vif_array,'Tolerance':tolerance_array},index=exogs)\n",
    "    \n",
    "    return df_vif"
   ]
  },
  {
   "cell_type": "code",
   "execution_count": 48,
   "metadata": {},
   "outputs": [
    {
     "name": "stderr",
     "output_type": "stream",
     "text": [
      "C:\\Users\\Tom N\\Anaconda3\\lib\\site-packages\\ipykernel_launcher.py:13: RuntimeWarning: divide by zero encountered in double_scalars\n",
      "  del sys.path[0]\n"
     ]
    },
    {
     "data": {
      "text/html": [
       "<div>\n",
       "<style scoped>\n",
       "    .dataframe tbody tr th:only-of-type {\n",
       "        vertical-align: middle;\n",
       "    }\n",
       "\n",
       "    .dataframe tbody tr th {\n",
       "        vertical-align: top;\n",
       "    }\n",
       "\n",
       "    .dataframe thead th {\n",
       "        text-align: right;\n",
       "    }\n",
       "</style>\n",
       "<table border=\"1\" class=\"dataframe\">\n",
       "  <thead>\n",
       "    <tr style=\"text-align: right;\">\n",
       "      <th></th>\n",
       "      <th>VIF</th>\n",
       "      <th>Tolerance</th>\n",
       "    </tr>\n",
       "  </thead>\n",
       "  <tbody>\n",
       "    <tr>\n",
       "      <th>n_tokens_title</th>\n",
       "      <td>1.100000e+00</td>\n",
       "      <td>0.91</td>\n",
       "    </tr>\n",
       "    <tr>\n",
       "      <th>n_tokens_content</th>\n",
       "      <td>3.320000e+00</td>\n",
       "      <td>0.30</td>\n",
       "    </tr>\n",
       "    <tr>\n",
       "      <th>n_unique_tokens</th>\n",
       "      <td>1.367823e+04</td>\n",
       "      <td>0.00</td>\n",
       "    </tr>\n",
       "    <tr>\n",
       "      <th>n_non_stop_words</th>\n",
       "      <td>2.866077e+05</td>\n",
       "      <td>0.00</td>\n",
       "    </tr>\n",
       "    <tr>\n",
       "      <th>n_non_stop_unique_tokens</th>\n",
       "      <td>8.483750e+03</td>\n",
       "      <td>0.00</td>\n",
       "    </tr>\n",
       "    <tr>\n",
       "      <th>num_hrefs</th>\n",
       "      <td>1.730000e+00</td>\n",
       "      <td>0.58</td>\n",
       "    </tr>\n",
       "    <tr>\n",
       "      <th>num_self_hrefs</th>\n",
       "      <td>1.410000e+00</td>\n",
       "      <td>0.71</td>\n",
       "    </tr>\n",
       "    <tr>\n",
       "      <th>num_imgs</th>\n",
       "      <td>1.650000e+00</td>\n",
       "      <td>0.60</td>\n",
       "    </tr>\n",
       "    <tr>\n",
       "      <th>num_videos</th>\n",
       "      <td>1.250000e+00</td>\n",
       "      <td>0.80</td>\n",
       "    </tr>\n",
       "    <tr>\n",
       "      <th>average_token_length</th>\n",
       "      <td>1.261000e+01</td>\n",
       "      <td>0.08</td>\n",
       "    </tr>\n",
       "    <tr>\n",
       "      <th>num_keywords</th>\n",
       "      <td>1.510000e+00</td>\n",
       "      <td>0.66</td>\n",
       "    </tr>\n",
       "    <tr>\n",
       "      <th>data_channel_is_lifestyle</th>\n",
       "      <td>2.340000e+00</td>\n",
       "      <td>0.43</td>\n",
       "    </tr>\n",
       "    <tr>\n",
       "      <th>data_channel_is_entertainment</th>\n",
       "      <td>2.860000e+00</td>\n",
       "      <td>0.35</td>\n",
       "    </tr>\n",
       "    <tr>\n",
       "      <th>data_channel_is_bus</th>\n",
       "      <td>5.840000e+00</td>\n",
       "      <td>0.17</td>\n",
       "    </tr>\n",
       "    <tr>\n",
       "      <th>data_channel_is_socmed</th>\n",
       "      <td>2.290000e+00</td>\n",
       "      <td>0.44</td>\n",
       "    </tr>\n",
       "    <tr>\n",
       "      <th>data_channel_is_tech</th>\n",
       "      <td>6.240000e+00</td>\n",
       "      <td>0.16</td>\n",
       "    </tr>\n",
       "    <tr>\n",
       "      <th>data_channel_is_world</th>\n",
       "      <td>7.110000e+00</td>\n",
       "      <td>0.14</td>\n",
       "    </tr>\n",
       "    <tr>\n",
       "      <th>kw_min_min</th>\n",
       "      <td>3.830000e+00</td>\n",
       "      <td>0.26</td>\n",
       "    </tr>\n",
       "    <tr>\n",
       "      <th>kw_max_min</th>\n",
       "      <td>1.121000e+01</td>\n",
       "      <td>0.09</td>\n",
       "    </tr>\n",
       "    <tr>\n",
       "      <th>kw_avg_min</th>\n",
       "      <td>1.095000e+01</td>\n",
       "      <td>0.09</td>\n",
       "    </tr>\n",
       "    <tr>\n",
       "      <th>kw_min_max</th>\n",
       "      <td>1.390000e+00</td>\n",
       "      <td>0.72</td>\n",
       "    </tr>\n",
       "    <tr>\n",
       "      <th>kw_max_max</th>\n",
       "      <td>4.620000e+00</td>\n",
       "      <td>0.22</td>\n",
       "    </tr>\n",
       "    <tr>\n",
       "      <th>kw_avg_max</th>\n",
       "      <td>3.760000e+00</td>\n",
       "      <td>0.27</td>\n",
       "    </tr>\n",
       "    <tr>\n",
       "      <th>kw_min_avg</th>\n",
       "      <td>2.220000e+00</td>\n",
       "      <td>0.45</td>\n",
       "    </tr>\n",
       "    <tr>\n",
       "      <th>kw_max_avg</th>\n",
       "      <td>7.150000e+00</td>\n",
       "      <td>0.14</td>\n",
       "    </tr>\n",
       "    <tr>\n",
       "      <th>kw_avg_avg</th>\n",
       "      <td>1.081000e+01</td>\n",
       "      <td>0.09</td>\n",
       "    </tr>\n",
       "    <tr>\n",
       "      <th>self_reference_min_shares</th>\n",
       "      <td>6.620000e+00</td>\n",
       "      <td>0.15</td>\n",
       "    </tr>\n",
       "    <tr>\n",
       "      <th>self_reference_max_shares</th>\n",
       "      <td>8.410000e+00</td>\n",
       "      <td>0.12</td>\n",
       "    </tr>\n",
       "    <tr>\n",
       "      <th>self_reference_avg_sharess</th>\n",
       "      <td>1.915000e+01</td>\n",
       "      <td>0.05</td>\n",
       "    </tr>\n",
       "    <tr>\n",
       "      <th>weekday_is_monday</th>\n",
       "      <td>inf</td>\n",
       "      <td>0.00</td>\n",
       "    </tr>\n",
       "    <tr>\n",
       "      <th>weekday_is_tuesday</th>\n",
       "      <td>inf</td>\n",
       "      <td>0.00</td>\n",
       "    </tr>\n",
       "    <tr>\n",
       "      <th>weekday_is_wednesday</th>\n",
       "      <td>inf</td>\n",
       "      <td>0.00</td>\n",
       "    </tr>\n",
       "    <tr>\n",
       "      <th>weekday_is_thursday</th>\n",
       "      <td>inf</td>\n",
       "      <td>0.00</td>\n",
       "    </tr>\n",
       "    <tr>\n",
       "      <th>weekday_is_friday</th>\n",
       "      <td>inf</td>\n",
       "      <td>0.00</td>\n",
       "    </tr>\n",
       "    <tr>\n",
       "      <th>weekday_is_saturday</th>\n",
       "      <td>inf</td>\n",
       "      <td>0.00</td>\n",
       "    </tr>\n",
       "    <tr>\n",
       "      <th>weekday_is_sunday</th>\n",
       "      <td>inf</td>\n",
       "      <td>0.00</td>\n",
       "    </tr>\n",
       "    <tr>\n",
       "      <th>is_weekend</th>\n",
       "      <td>inf</td>\n",
       "      <td>0.00</td>\n",
       "    </tr>\n",
       "    <tr>\n",
       "      <th>LDA_00</th>\n",
       "      <td>7.788946e+08</td>\n",
       "      <td>0.00</td>\n",
       "    </tr>\n",
       "    <tr>\n",
       "      <th>LDA_01</th>\n",
       "      <td>5.436743e+08</td>\n",
       "      <td>0.00</td>\n",
       "    </tr>\n",
       "    <tr>\n",
       "      <th>LDA_02</th>\n",
       "      <td>8.965942e+08</td>\n",
       "      <td>0.00</td>\n",
       "    </tr>\n",
       "    <tr>\n",
       "      <th>LDA_03</th>\n",
       "      <td>9.814193e+08</td>\n",
       "      <td>0.00</td>\n",
       "    </tr>\n",
       "    <tr>\n",
       "      <th>LDA_04</th>\n",
       "      <td>9.418827e+08</td>\n",
       "      <td>0.00</td>\n",
       "    </tr>\n",
       "    <tr>\n",
       "      <th>global_subjectivity</th>\n",
       "      <td>2.950000e+00</td>\n",
       "      <td>0.34</td>\n",
       "    </tr>\n",
       "    <tr>\n",
       "      <th>global_sentiment_polarity</th>\n",
       "      <td>7.830000e+00</td>\n",
       "      <td>0.13</td>\n",
       "    </tr>\n",
       "    <tr>\n",
       "      <th>global_rate_positive_words</th>\n",
       "      <td>4.680000e+00</td>\n",
       "      <td>0.21</td>\n",
       "    </tr>\n",
       "    <tr>\n",
       "      <th>global_rate_negative_words</th>\n",
       "      <td>6.570000e+00</td>\n",
       "      <td>0.15</td>\n",
       "    </tr>\n",
       "    <tr>\n",
       "      <th>rate_positive_words</th>\n",
       "      <td>3.618600e+02</td>\n",
       "      <td>0.00</td>\n",
       "    </tr>\n",
       "    <tr>\n",
       "      <th>rate_negative_words</th>\n",
       "      <td>2.477700e+02</td>\n",
       "      <td>0.00</td>\n",
       "    </tr>\n",
       "    <tr>\n",
       "      <th>avg_positive_polarity</th>\n",
       "      <td>6.120000e+00</td>\n",
       "      <td>0.16</td>\n",
       "    </tr>\n",
       "    <tr>\n",
       "      <th>min_positive_polarity</th>\n",
       "      <td>2.000000e+00</td>\n",
       "      <td>0.50</td>\n",
       "    </tr>\n",
       "    <tr>\n",
       "      <th>max_positive_polarity</th>\n",
       "      <td>3.420000e+00</td>\n",
       "      <td>0.29</td>\n",
       "    </tr>\n",
       "    <tr>\n",
       "      <th>avg_negative_polarity</th>\n",
       "      <td>7.750000e+00</td>\n",
       "      <td>0.13</td>\n",
       "    </tr>\n",
       "    <tr>\n",
       "      <th>min_negative_polarity</th>\n",
       "      <td>5.320000e+00</td>\n",
       "      <td>0.19</td>\n",
       "    </tr>\n",
       "    <tr>\n",
       "      <th>max_negative_polarity</th>\n",
       "      <td>2.990000e+00</td>\n",
       "      <td>0.33</td>\n",
       "    </tr>\n",
       "    <tr>\n",
       "      <th>title_subjectivity</th>\n",
       "      <td>2.370000e+00</td>\n",
       "      <td>0.42</td>\n",
       "    </tr>\n",
       "    <tr>\n",
       "      <th>title_sentiment_polarity</th>\n",
       "      <td>1.320000e+00</td>\n",
       "      <td>0.75</td>\n",
       "    </tr>\n",
       "    <tr>\n",
       "      <th>abs_title_subjectivity</th>\n",
       "      <td>1.420000e+00</td>\n",
       "      <td>0.71</td>\n",
       "    </tr>\n",
       "    <tr>\n",
       "      <th>abs_title_sentiment_polarity</th>\n",
       "      <td>2.400000e+00</td>\n",
       "      <td>0.42</td>\n",
       "    </tr>\n",
       "    <tr>\n",
       "      <th>shares</th>\n",
       "      <td>1.020000e+00</td>\n",
       "      <td>0.98</td>\n",
       "    </tr>\n",
       "  </tbody>\n",
       "</table>\n",
       "</div>"
      ],
      "text/plain": [
       "                                        VIF  Tolerance\n",
       "n_tokens_title                 1.100000e+00       0.91\n",
       "n_tokens_content               3.320000e+00       0.30\n",
       "n_unique_tokens                1.367823e+04       0.00\n",
       "n_non_stop_words               2.866077e+05       0.00\n",
       "n_non_stop_unique_tokens       8.483750e+03       0.00\n",
       "num_hrefs                      1.730000e+00       0.58\n",
       "num_self_hrefs                 1.410000e+00       0.71\n",
       "num_imgs                       1.650000e+00       0.60\n",
       "num_videos                     1.250000e+00       0.80\n",
       "average_token_length           1.261000e+01       0.08\n",
       "num_keywords                   1.510000e+00       0.66\n",
       "data_channel_is_lifestyle      2.340000e+00       0.43\n",
       "data_channel_is_entertainment  2.860000e+00       0.35\n",
       "data_channel_is_bus            5.840000e+00       0.17\n",
       "data_channel_is_socmed         2.290000e+00       0.44\n",
       "data_channel_is_tech           6.240000e+00       0.16\n",
       "data_channel_is_world          7.110000e+00       0.14\n",
       "kw_min_min                     3.830000e+00       0.26\n",
       "kw_max_min                     1.121000e+01       0.09\n",
       "kw_avg_min                     1.095000e+01       0.09\n",
       "kw_min_max                     1.390000e+00       0.72\n",
       "kw_max_max                     4.620000e+00       0.22\n",
       "kw_avg_max                     3.760000e+00       0.27\n",
       "kw_min_avg                     2.220000e+00       0.45\n",
       "kw_max_avg                     7.150000e+00       0.14\n",
       "kw_avg_avg                     1.081000e+01       0.09\n",
       "self_reference_min_shares      6.620000e+00       0.15\n",
       "self_reference_max_shares      8.410000e+00       0.12\n",
       "self_reference_avg_sharess     1.915000e+01       0.05\n",
       "weekday_is_monday                       inf       0.00\n",
       "weekday_is_tuesday                      inf       0.00\n",
       "weekday_is_wednesday                    inf       0.00\n",
       "weekday_is_thursday                     inf       0.00\n",
       "weekday_is_friday                       inf       0.00\n",
       "weekday_is_saturday                     inf       0.00\n",
       "weekday_is_sunday                       inf       0.00\n",
       "is_weekend                              inf       0.00\n",
       "LDA_00                         7.788946e+08       0.00\n",
       "LDA_01                         5.436743e+08       0.00\n",
       "LDA_02                         8.965942e+08       0.00\n",
       "LDA_03                         9.814193e+08       0.00\n",
       "LDA_04                         9.418827e+08       0.00\n",
       "global_subjectivity            2.950000e+00       0.34\n",
       "global_sentiment_polarity      7.830000e+00       0.13\n",
       "global_rate_positive_words     4.680000e+00       0.21\n",
       "global_rate_negative_words     6.570000e+00       0.15\n",
       "rate_positive_words            3.618600e+02       0.00\n",
       "rate_negative_words            2.477700e+02       0.00\n",
       "avg_positive_polarity          6.120000e+00       0.16\n",
       "min_positive_polarity          2.000000e+00       0.50\n",
       "max_positive_polarity          3.420000e+00       0.29\n",
       "avg_negative_polarity          7.750000e+00       0.13\n",
       "min_negative_polarity          5.320000e+00       0.19\n",
       "max_negative_polarity          2.990000e+00       0.33\n",
       "title_subjectivity             2.370000e+00       0.42\n",
       "title_sentiment_polarity       1.320000e+00       0.75\n",
       "abs_title_subjectivity         1.420000e+00       0.71\n",
       "abs_title_sentiment_polarity   2.400000e+00       0.42\n",
       "shares                         1.020000e+00       0.98"
      ]
     },
     "execution_count": 48,
     "metadata": {},
     "output_type": "execute_result"
    }
   ],
   "source": [
    "get_vif(exogs=dff.columns,data=dff)"
   ]
  },
  {
   "cell_type": "code",
   "execution_count": 49,
   "metadata": {},
   "outputs": [],
   "source": [
    "df_v = dff.copy()"
   ]
  },
  {
   "cell_type": "code",
   "execution_count": 50,
   "metadata": {},
   "outputs": [],
   "source": [
    "df_v.drop(['is_weekend'],axis=1,inplace=True)\n",
    "df_v.drop(['weekday_is_monday'],axis=1,inplace=True)\n",
    "df_v.drop(['LDA_04'],axis=1,inplace=True)\n",
    "df_v.drop(['n_unique_tokens'],axis=1,inplace=True)\n",
    "df_v.drop(['n_non_stop_unique_tokens'],axis=1,inplace=True)\n",
    "df_v.drop(['self_reference_avg_sharess'],axis=1,inplace=True)\n",
    "df_v.drop(['rate_positive_words'],axis=1,inplace=True)\n",
    "df_v.drop(['kw_max_min'],axis=1,inplace=True)"
   ]
  },
  {
   "cell_type": "code",
   "execution_count": 51,
   "metadata": {},
   "outputs": [
    {
     "data": {
      "text/html": [
       "<div>\n",
       "<style scoped>\n",
       "    .dataframe tbody tr th:only-of-type {\n",
       "        vertical-align: middle;\n",
       "    }\n",
       "\n",
       "    .dataframe tbody tr th {\n",
       "        vertical-align: top;\n",
       "    }\n",
       "\n",
       "    .dataframe thead th {\n",
       "        text-align: right;\n",
       "    }\n",
       "</style>\n",
       "<table border=\"1\" class=\"dataframe\">\n",
       "  <thead>\n",
       "    <tr style=\"text-align: right;\">\n",
       "      <th></th>\n",
       "      <th>VIF</th>\n",
       "      <th>Tolerance</th>\n",
       "    </tr>\n",
       "  </thead>\n",
       "  <tbody>\n",
       "    <tr>\n",
       "      <th>n_tokens_title</th>\n",
       "      <td>1.09</td>\n",
       "      <td>0.92</td>\n",
       "    </tr>\n",
       "    <tr>\n",
       "      <th>n_tokens_content</th>\n",
       "      <td>2.19</td>\n",
       "      <td>0.46</td>\n",
       "    </tr>\n",
       "    <tr>\n",
       "      <th>n_non_stop_words</th>\n",
       "      <td>1.00</td>\n",
       "      <td>1.00</td>\n",
       "    </tr>\n",
       "    <tr>\n",
       "      <th>num_hrefs</th>\n",
       "      <td>1.64</td>\n",
       "      <td>0.61</td>\n",
       "    </tr>\n",
       "    <tr>\n",
       "      <th>num_self_hrefs</th>\n",
       "      <td>1.37</td>\n",
       "      <td>0.73</td>\n",
       "    </tr>\n",
       "    <tr>\n",
       "      <th>num_imgs</th>\n",
       "      <td>1.43</td>\n",
       "      <td>0.70</td>\n",
       "    </tr>\n",
       "    <tr>\n",
       "      <th>num_videos</th>\n",
       "      <td>1.24</td>\n",
       "      <td>0.81</td>\n",
       "    </tr>\n",
       "    <tr>\n",
       "      <th>average_token_length</th>\n",
       "      <td>2.95</td>\n",
       "      <td>0.34</td>\n",
       "    </tr>\n",
       "    <tr>\n",
       "      <th>num_keywords</th>\n",
       "      <td>1.49</td>\n",
       "      <td>0.67</td>\n",
       "    </tr>\n",
       "    <tr>\n",
       "      <th>data_channel_is_lifestyle</th>\n",
       "      <td>2.32</td>\n",
       "      <td>0.43</td>\n",
       "    </tr>\n",
       "    <tr>\n",
       "      <th>data_channel_is_entertainment</th>\n",
       "      <td>2.82</td>\n",
       "      <td>0.35</td>\n",
       "    </tr>\n",
       "    <tr>\n",
       "      <th>data_channel_is_bus</th>\n",
       "      <td>5.78</td>\n",
       "      <td>0.17</td>\n",
       "    </tr>\n",
       "    <tr>\n",
       "      <th>data_channel_is_socmed</th>\n",
       "      <td>2.28</td>\n",
       "      <td>0.44</td>\n",
       "    </tr>\n",
       "    <tr>\n",
       "      <th>data_channel_is_tech</th>\n",
       "      <td>6.18</td>\n",
       "      <td>0.16</td>\n",
       "    </tr>\n",
       "    <tr>\n",
       "      <th>data_channel_is_world</th>\n",
       "      <td>7.04</td>\n",
       "      <td>0.14</td>\n",
       "    </tr>\n",
       "    <tr>\n",
       "      <th>kw_min_min</th>\n",
       "      <td>3.81</td>\n",
       "      <td>0.26</td>\n",
       "    </tr>\n",
       "    <tr>\n",
       "      <th>kw_avg_min</th>\n",
       "      <td>1.57</td>\n",
       "      <td>0.64</td>\n",
       "    </tr>\n",
       "    <tr>\n",
       "      <th>kw_min_max</th>\n",
       "      <td>1.39</td>\n",
       "      <td>0.72</td>\n",
       "    </tr>\n",
       "    <tr>\n",
       "      <th>kw_max_max</th>\n",
       "      <td>4.61</td>\n",
       "      <td>0.22</td>\n",
       "    </tr>\n",
       "    <tr>\n",
       "      <th>kw_avg_max</th>\n",
       "      <td>3.62</td>\n",
       "      <td>0.28</td>\n",
       "    </tr>\n",
       "    <tr>\n",
       "      <th>kw_min_avg</th>\n",
       "      <td>2.15</td>\n",
       "      <td>0.46</td>\n",
       "    </tr>\n",
       "    <tr>\n",
       "      <th>kw_max_avg</th>\n",
       "      <td>6.25</td>\n",
       "      <td>0.16</td>\n",
       "    </tr>\n",
       "    <tr>\n",
       "      <th>kw_avg_avg</th>\n",
       "      <td>9.91</td>\n",
       "      <td>0.10</td>\n",
       "    </tr>\n",
       "    <tr>\n",
       "      <th>self_reference_min_shares</th>\n",
       "      <td>1.33</td>\n",
       "      <td>0.75</td>\n",
       "    </tr>\n",
       "    <tr>\n",
       "      <th>self_reference_max_shares</th>\n",
       "      <td>1.40</td>\n",
       "      <td>0.71</td>\n",
       "    </tr>\n",
       "    <tr>\n",
       "      <th>weekday_is_tuesday</th>\n",
       "      <td>1.72</td>\n",
       "      <td>0.58</td>\n",
       "    </tr>\n",
       "    <tr>\n",
       "      <th>weekday_is_wednesday</th>\n",
       "      <td>1.72</td>\n",
       "      <td>0.58</td>\n",
       "    </tr>\n",
       "    <tr>\n",
       "      <th>weekday_is_thursday</th>\n",
       "      <td>1.71</td>\n",
       "      <td>0.58</td>\n",
       "    </tr>\n",
       "    <tr>\n",
       "      <th>weekday_is_friday</th>\n",
       "      <td>1.60</td>\n",
       "      <td>0.63</td>\n",
       "    </tr>\n",
       "    <tr>\n",
       "      <th>weekday_is_saturday</th>\n",
       "      <td>1.30</td>\n",
       "      <td>0.77</td>\n",
       "    </tr>\n",
       "    <tr>\n",
       "      <th>weekday_is_sunday</th>\n",
       "      <td>1.33</td>\n",
       "      <td>0.75</td>\n",
       "    </tr>\n",
       "    <tr>\n",
       "      <th>LDA_00</th>\n",
       "      <td>4.33</td>\n",
       "      <td>0.23</td>\n",
       "    </tr>\n",
       "    <tr>\n",
       "      <th>LDA_01</th>\n",
       "      <td>3.70</td>\n",
       "      <td>0.27</td>\n",
       "    </tr>\n",
       "    <tr>\n",
       "      <th>LDA_02</th>\n",
       "      <td>4.96</td>\n",
       "      <td>0.20</td>\n",
       "    </tr>\n",
       "    <tr>\n",
       "      <th>LDA_03</th>\n",
       "      <td>5.99</td>\n",
       "      <td>0.17</td>\n",
       "    </tr>\n",
       "    <tr>\n",
       "      <th>global_subjectivity</th>\n",
       "      <td>2.77</td>\n",
       "      <td>0.36</td>\n",
       "    </tr>\n",
       "    <tr>\n",
       "      <th>global_sentiment_polarity</th>\n",
       "      <td>7.81</td>\n",
       "      <td>0.13</td>\n",
       "    </tr>\n",
       "    <tr>\n",
       "      <th>global_rate_positive_words</th>\n",
       "      <td>4.35</td>\n",
       "      <td>0.23</td>\n",
       "    </tr>\n",
       "    <tr>\n",
       "      <th>global_rate_negative_words</th>\n",
       "      <td>6.40</td>\n",
       "      <td>0.16</td>\n",
       "    </tr>\n",
       "    <tr>\n",
       "      <th>rate_negative_words</th>\n",
       "      <td>8.65</td>\n",
       "      <td>0.12</td>\n",
       "    </tr>\n",
       "    <tr>\n",
       "      <th>avg_positive_polarity</th>\n",
       "      <td>6.08</td>\n",
       "      <td>0.16</td>\n",
       "    </tr>\n",
       "    <tr>\n",
       "      <th>min_positive_polarity</th>\n",
       "      <td>1.93</td>\n",
       "      <td>0.52</td>\n",
       "    </tr>\n",
       "    <tr>\n",
       "      <th>max_positive_polarity</th>\n",
       "      <td>3.29</td>\n",
       "      <td>0.30</td>\n",
       "    </tr>\n",
       "    <tr>\n",
       "      <th>avg_negative_polarity</th>\n",
       "      <td>7.74</td>\n",
       "      <td>0.13</td>\n",
       "    </tr>\n",
       "    <tr>\n",
       "      <th>min_negative_polarity</th>\n",
       "      <td>5.25</td>\n",
       "      <td>0.19</td>\n",
       "    </tr>\n",
       "    <tr>\n",
       "      <th>max_negative_polarity</th>\n",
       "      <td>2.94</td>\n",
       "      <td>0.34</td>\n",
       "    </tr>\n",
       "    <tr>\n",
       "      <th>title_subjectivity</th>\n",
       "      <td>2.37</td>\n",
       "      <td>0.42</td>\n",
       "    </tr>\n",
       "    <tr>\n",
       "      <th>title_sentiment_polarity</th>\n",
       "      <td>1.32</td>\n",
       "      <td>0.76</td>\n",
       "    </tr>\n",
       "    <tr>\n",
       "      <th>abs_title_subjectivity</th>\n",
       "      <td>1.42</td>\n",
       "      <td>0.71</td>\n",
       "    </tr>\n",
       "    <tr>\n",
       "      <th>abs_title_sentiment_polarity</th>\n",
       "      <td>2.40</td>\n",
       "      <td>0.42</td>\n",
       "    </tr>\n",
       "    <tr>\n",
       "      <th>shares</th>\n",
       "      <td>1.02</td>\n",
       "      <td>0.98</td>\n",
       "    </tr>\n",
       "  </tbody>\n",
       "</table>\n",
       "</div>"
      ],
      "text/plain": [
       "                                VIF  Tolerance\n",
       "n_tokens_title                 1.09       0.92\n",
       "n_tokens_content               2.19       0.46\n",
       "n_non_stop_words               1.00       1.00\n",
       "num_hrefs                      1.64       0.61\n",
       "num_self_hrefs                 1.37       0.73\n",
       "num_imgs                       1.43       0.70\n",
       "num_videos                     1.24       0.81\n",
       "average_token_length           2.95       0.34\n",
       "num_keywords                   1.49       0.67\n",
       "data_channel_is_lifestyle      2.32       0.43\n",
       "data_channel_is_entertainment  2.82       0.35\n",
       "data_channel_is_bus            5.78       0.17\n",
       "data_channel_is_socmed         2.28       0.44\n",
       "data_channel_is_tech           6.18       0.16\n",
       "data_channel_is_world          7.04       0.14\n",
       "kw_min_min                     3.81       0.26\n",
       "kw_avg_min                     1.57       0.64\n",
       "kw_min_max                     1.39       0.72\n",
       "kw_max_max                     4.61       0.22\n",
       "kw_avg_max                     3.62       0.28\n",
       "kw_min_avg                     2.15       0.46\n",
       "kw_max_avg                     6.25       0.16\n",
       "kw_avg_avg                     9.91       0.10\n",
       "self_reference_min_shares      1.33       0.75\n",
       "self_reference_max_shares      1.40       0.71\n",
       "weekday_is_tuesday             1.72       0.58\n",
       "weekday_is_wednesday           1.72       0.58\n",
       "weekday_is_thursday            1.71       0.58\n",
       "weekday_is_friday              1.60       0.63\n",
       "weekday_is_saturday            1.30       0.77\n",
       "weekday_is_sunday              1.33       0.75\n",
       "LDA_00                         4.33       0.23\n",
       "LDA_01                         3.70       0.27\n",
       "LDA_02                         4.96       0.20\n",
       "LDA_03                         5.99       0.17\n",
       "global_subjectivity            2.77       0.36\n",
       "global_sentiment_polarity      7.81       0.13\n",
       "global_rate_positive_words     4.35       0.23\n",
       "global_rate_negative_words     6.40       0.16\n",
       "rate_negative_words            8.65       0.12\n",
       "avg_positive_polarity          6.08       0.16\n",
       "min_positive_polarity          1.93       0.52\n",
       "max_positive_polarity          3.29       0.30\n",
       "avg_negative_polarity          7.74       0.13\n",
       "min_negative_polarity          5.25       0.19\n",
       "max_negative_polarity          2.94       0.34\n",
       "title_subjectivity             2.37       0.42\n",
       "title_sentiment_polarity       1.32       0.76\n",
       "abs_title_subjectivity         1.42       0.71\n",
       "abs_title_sentiment_polarity   2.40       0.42\n",
       "shares                         1.02       0.98"
      ]
     },
     "execution_count": 51,
     "metadata": {},
     "output_type": "execute_result"
    }
   ],
   "source": [
    "get_vif(exogs=df_v.columns,data=df_v)"
   ]
  },
  {
   "cell_type": "code",
   "execution_count": 52,
   "metadata": {},
   "outputs": [
    {
     "data": {
      "text/plain": [
       "(39644, 51)"
      ]
     },
     "execution_count": 52,
     "metadata": {},
     "output_type": "execute_result"
    }
   ],
   "source": [
    "df_v.shape"
   ]
  },
  {
   "cell_type": "code",
   "execution_count": null,
   "metadata": {},
   "outputs": [],
   "source": []
  },
  {
   "cell_type": "code",
   "execution_count": 53,
   "metadata": {},
   "outputs": [
    {
     "name": "stdout",
     "output_type": "stream",
     "text": [
      "n_tokens_title\n",
      "3.0 17.0\n",
      "[3.0, 17.0]\n",
      "n_tokens_content\n",
      "-460.0 1422.0\n",
      "[-460.0, 1422.0]\n",
      "num_hrefs\n",
      "-11.0 27.0\n",
      "[-11.0, 27.0]\n",
      "num_self_hrefs\n",
      "-5.0 9.0\n",
      "[-5.0, 9.0]\n",
      "num_imgs\n",
      "-1.0 5.0\n",
      "[-1.0, 5.0]\n",
      "num_videos\n",
      "-3.0 3.0\n",
      "[-3.0, 3.0]\n",
      "num_keywords\n",
      "1.0 15.0\n",
      "[1.0, 15.0]\n",
      "kw_min_min\n",
      "-9.0 13.0\n",
      "[-9.0, 13.0]\n",
      "kw_avg_min\n",
      "-158.0 602.0\n",
      "[-158.0, 602.0]\n",
      "kw_min_max\n",
      "-11851.0 19751.0\n",
      "[-11851.0, 19751.0]\n",
      "kw_max_max\n",
      "843299.0 843301.0\n",
      "[843299.0, 843301.0]\n",
      "kw_avg_max\n",
      "8396.0 520626.0\n",
      "[8396.0, 520626.0]\n",
      "kw_min_avg\n",
      "-2359.0 3930.0\n",
      "[-2359.0, 3930.0]\n",
      "kw_max_avg\n",
      "862.0 7984.0\n",
      "[862.0, 7984.0]\n",
      "kw_avg_avg\n",
      "1089.0 4240.0\n",
      "[1089.0, 4240.0]\n",
      "self_reference_min_shares\n",
      "-2066.0 5240.0\n",
      "[-2066.0, 5240.0]\n",
      "self_reference_max_shares\n",
      "-4340.0 9484.0\n",
      "[-4340.0, 9484.0]\n"
     ]
    }
   ],
   "source": [
    "columns_out_v = ['n_tokens_title','n_tokens_content','num_hrefs','num_self_hrefs','num_imgs','num_videos','num_keywords',\n",
    "              'kw_min_min', \"kw_avg_min\", \"kw_min_max\", \"kw_max_max\",\"kw_avg_max\", \"kw_min_avg\",\n",
    "               \"kw_max_avg\",\"kw_avg_avg\",\"self_reference_min_shares\",\"self_reference_max_shares\"]\n",
    "\n",
    "for n in columns_out_v:\n",
    "    print(n)\n",
    "    \n",
    "    q = iqr_fun(n,df_v)\n",
    "    print(q)\n",
    "    \n",
    "    df_v = df_v[(df_v[n]<=q[1]) & (df_v[n]>=q[0])  ]"
   ]
  },
  {
   "cell_type": "code",
   "execution_count": 54,
   "metadata": {},
   "outputs": [
    {
     "data": {
      "text/plain": [
       "(11519, 51)"
      ]
     },
     "execution_count": 54,
     "metadata": {},
     "output_type": "execute_result"
    }
   ],
   "source": [
    "df_v.shape"
   ]
  },
  {
   "cell_type": "code",
   "execution_count": null,
   "metadata": {},
   "outputs": [],
   "source": []
  },
  {
   "cell_type": "code",
   "execution_count": null,
   "metadata": {},
   "outputs": [],
   "source": []
  },
  {
   "cell_type": "code",
   "execution_count": 55,
   "metadata": {},
   "outputs": [
    {
     "name": "stdout",
     "output_type": "stream",
     "text": [
      "n_tokens_title\n",
      "3.0 17.0\n",
      "[3.0, 17.0]\n",
      "n_tokens_content\n",
      "-460.0 1422.0\n",
      "[-460.0, 1422.0]\n",
      "num_hrefs\n",
      "-11.0 27.0\n",
      "[-11.0, 27.0]\n",
      "num_self_hrefs\n",
      "-5.0 9.0\n",
      "[-5.0, 9.0]\n",
      "num_imgs\n",
      "-1.0 5.0\n",
      "[-1.0, 5.0]\n",
      "num_videos\n",
      "-3.0 3.0\n",
      "[-3.0, 3.0]\n",
      "num_keywords\n",
      "1.0 15.0\n",
      "[1.0, 15.0]\n",
      "kw_min_min\n",
      "-9.0 13.0\n",
      "[-9.0, 13.0]\n",
      "kw_max_min\n",
      "-419.0 1851.0\n",
      "[-419.0, 1851.0]\n",
      "kw_avg_min\n",
      "-127.0 533.0\n",
      "[-127.0, 533.0]\n",
      "kw_min_max\n",
      "-12601.0 21001.0\n",
      "[-12601.0, 21001.0]\n",
      "kw_max_max\n",
      "843299.0 843301.0\n",
      "[843299.0, 843301.0]\n",
      "kw_avg_max\n",
      "9624.0 521906.0\n",
      "[9624.0, 521906.0]\n",
      "kw_min_avg\n",
      "-2367.0 3944.0\n",
      "[-2367.0, 3944.0]\n",
      "kw_max_avg\n",
      "887.0 7933.0\n",
      "[887.0, 7933.0]\n",
      "kw_avg_avg\n",
      "1092.0 4223.0\n",
      "[1092.0, 4223.0]\n",
      "self_reference_min_shares\n",
      "-1896.0 4978.0\n",
      "[-1896.0, 4978.0]\n",
      "self_reference_max_shares\n",
      "-4169.0 9221.0\n",
      "[-4169.0, 9221.0]\n",
      "self_reference_avg_sharess\n",
      "-1876.0 4966.0\n",
      "[-1876.0, 4966.0]\n"
     ]
    }
   ],
   "source": [
    "columns_out = ['n_tokens_title','n_tokens_content','num_hrefs','num_self_hrefs','num_imgs','num_videos','num_keywords',\n",
    "              'kw_min_min', 'kw_max_min',\"kw_avg_min\", \"kw_min_max\", \"kw_max_max\",\"kw_avg_max\", \"kw_min_avg\",\n",
    "               \"kw_max_avg\",\"kw_avg_avg\",\"self_reference_min_shares\",\"self_reference_max_shares\",\n",
    "               \"self_reference_avg_sharess\"]\n",
    "\n",
    "for n in columns_out:\n",
    "    print(n)\n",
    "    \n",
    "    q = iqr_fun(n,dff)\n",
    "    print(q)\n",
    "    \n",
    "    dff = dff[(dff[n]<=q[1]) & (dff[n]>=q[0])  ]\n",
    "    \n",
    "    #print(dff.shape)"
   ]
  },
  {
   "cell_type": "code",
   "execution_count": 56,
   "metadata": {},
   "outputs": [
    {
     "data": {
      "text/plain": [
       "(11519, 51)"
      ]
     },
     "execution_count": 56,
     "metadata": {},
     "output_type": "execute_result"
    }
   ],
   "source": [
    "df_v.shape"
   ]
  },
  {
   "cell_type": "code",
   "execution_count": 57,
   "metadata": {},
   "outputs": [
    {
     "data": {
      "text/plain": [
       "(10793, 59)"
      ]
     },
     "execution_count": 57,
     "metadata": {},
     "output_type": "execute_result"
    }
   ],
   "source": [
    "dff.shape"
   ]
  },
  {
   "cell_type": "markdown",
   "metadata": {},
   "source": [
    "# Categorize Shares into Bins. Start with 2."
   ]
  },
  {
   "cell_type": "markdown",
   "metadata": {},
   "source": [
    "### Reduced df_v"
   ]
  },
  {
   "cell_type": "code",
   "execution_count": 59,
   "metadata": {},
   "outputs": [
    {
     "name": "stdout",
     "output_type": "stream",
     "text": [
      "0.0 3477.25\n"
     ]
    }
   ],
   "source": [
    "for i in ['shares']:\n",
    "    Q25 = df_v[i].quantile(0.25)\n",
    "    Q75 = df_v[i].quantile(0.75)\n",
    "    IQR = Q75-Q25\n",
    "    sMaxQ = Q75+1.5*IQR\n",
    "    sMinQ = max(Q25-1.5*IQR,0.0)\n",
    "    print(sMinQ, sMaxQ)"
   ]
  },
  {
   "cell_type": "code",
   "execution_count": 63,
   "metadata": {},
   "outputs": [
    {
     "data": {
      "text/plain": [
       "3500.0"
      ]
     },
     "execution_count": 63,
     "metadata": {},
     "output_type": "execute_result"
    }
   ],
   "source": [
    "round(sMaxQ,-2)"
   ]
  },
  {
   "cell_type": "code",
   "execution_count": 65,
   "metadata": {},
   "outputs": [],
   "source": [
    "df_v = df_v[df_v.shares<=(round(sMaxQ,-2))]"
   ]
  },
  {
   "cell_type": "code",
   "execution_count": 66,
   "metadata": {},
   "outputs": [
    {
     "data": {
      "text/plain": [
       "count    10223.000000\n",
       "mean      1279.780202\n",
       "std        668.623119\n",
       "min          5.000000\n",
       "25%        815.500000\n",
       "50%       1100.000000\n",
       "75%       1600.000000\n",
       "max       3500.000000\n",
       "Name: shares, dtype: float64"
      ]
     },
     "execution_count": 66,
     "metadata": {},
     "output_type": "execute_result"
    }
   ],
   "source": [
    "df_v.shares.describe()"
   ]
  },
  {
   "cell_type": "code",
   "execution_count": 68,
   "metadata": {},
   "outputs": [],
   "source": [
    "df_v.reset_index(drop=True, inplace=True)"
   ]
  },
  {
   "cell_type": "code",
   "execution_count": 69,
   "metadata": {},
   "outputs": [
    {
     "name": "stderr",
     "output_type": "stream",
     "text": [
      "C:\\Users\\Tom N\\Anaconda3\\lib\\site-packages\\ipykernel_launcher.py:2: SettingWithCopyWarning: \n",
      "A value is trying to be set on a copy of a slice from a DataFrame.\n",
      "Try using .loc[row_indexer,col_indexer] = value instead\n",
      "\n",
      "See the caveats in the documentation: http://pandas.pydata.org/pandas-docs/stable/indexing.html#indexing-view-versus-copy\n",
      "  \n"
     ]
    }
   ],
   "source": [
    "ser, bins = pd.qcut(df_v[\"shares\"], 2, retbins=True, labels=['poor','good'])\n",
    "df_v['share_cat'] = pd.cut(df_v[\"shares\"], bins=bins, labels=[0,1], include_lowest=True)"
   ]
  },
  {
   "cell_type": "code",
   "execution_count": 70,
   "metadata": {},
   "outputs": [
    {
     "name": "stderr",
     "output_type": "stream",
     "text": [
      "C:\\Users\\Tom N\\Anaconda3\\lib\\site-packages\\pandas\\core\\frame.py:3940: SettingWithCopyWarning: \n",
      "A value is trying to be set on a copy of a slice from a DataFrame\n",
      "\n",
      "See the caveats in the documentation: http://pandas.pydata.org/pandas-docs/stable/indexing.html#indexing-view-versus-copy\n",
      "  errors=errors)\n"
     ]
    }
   ],
   "source": [
    "df_v.drop(['shares'],axis=1,inplace=True)"
   ]
  },
  {
   "cell_type": "code",
   "execution_count": 72,
   "metadata": {},
   "outputs": [],
   "source": [
    "from sklearn.model_selection import train_test_split\n",
    "\n",
    "X_tr1, X_t1, y_tr1,y_t1 = train_test_split(df_v.drop('share_cat',axis=1), df_v['share_cat'], test_size=0.2)"
   ]
  },
  {
   "cell_type": "code",
   "execution_count": 73,
   "metadata": {},
   "outputs": [
    {
     "name": "stderr",
     "output_type": "stream",
     "text": [
      "C:\\Users\\Tom N\\Anaconda3\\lib\\site-packages\\sklearn\\linear_model\\logistic.py:433: FutureWarning: Default solver will be changed to 'lbfgs' in 0.22. Specify a solver to silence this warning.\n",
      "  FutureWarning)\n"
     ]
    }
   ],
   "source": [
    "from sklearn.linear_model import LogisticRegression\n",
    "\n",
    "log_model1 = LogisticRegression()\n",
    "\n",
    "log_model1.fit(X_tr1,y_tr1)\n",
    "\n",
    "y_p_tr1= log_model1.predict(X_tr1)\n",
    "y_p_t1= log_model1.predict(X_t1)"
   ]
  },
  {
   "cell_type": "code",
   "execution_count": 74,
   "metadata": {},
   "outputs": [
    {
     "name": "stdout",
     "output_type": "stream",
     "text": [
      "Acc Score on traning set: 0.6046710687209587\n",
      "Acc Score on testing set: 0.6073349633251833\n",
      "\n",
      "Balanced Acc Score on traning set: 0.5896996070504177\n",
      "Balanced Acc Score on testing set: 0.5885130902440396\n"
     ]
    }
   ],
   "source": [
    "from sklearn.metrics import accuracy_score\n",
    "acc_score_tr1 = accuracy_score(y_tr1, y_p_tr1)\n",
    "acc_score_t1 = accuracy_score(y_t1, y_p_t1)\n",
    "\n",
    "print(\"Acc Score on traning set: {}\".format(acc_score_tr1))\n",
    "print(\"Acc Score on testing set: {}\".format(acc_score_t1)) \n",
    "print(\"\")\n",
    "\n",
    "from sklearn.metrics import balanced_accuracy_score\n",
    "\n",
    "bacc_score_tr1 = balanced_accuracy_score(y_tr1, y_p_tr1)\n",
    "bacc_score_t1 = balanced_accuracy_score(y_t1, y_p_t1)\n",
    "\n",
    "print(\"Balanced Acc Score on traning set: {}\".format(bacc_score_tr1))\n",
    "print(\"Balanced Acc Score on testing set: {}\".format(bacc_score_t1)) "
   ]
  },
  {
   "cell_type": "code",
   "execution_count": 75,
   "metadata": {},
   "outputs": [
    {
     "data": {
      "text/plain": [
       "array([[856, 286],\n",
       "       [517, 386]], dtype=int64)"
      ]
     },
     "execution_count": 75,
     "metadata": {},
     "output_type": "execute_result"
    }
   ],
   "source": [
    "from sklearn.metrics import confusion_matrix\n",
    "\n",
    "confusion_matrix(y_t1, y_p_t1)"
   ]
  },
  {
   "cell_type": "code",
   "execution_count": 77,
   "metadata": {},
   "outputs": [],
   "source": [
    "sns.set()"
   ]
  },
  {
   "cell_type": "code",
   "execution_count": 78,
   "metadata": {},
   "outputs": [
    {
     "data": {
      "image/png": "[encoded data removed]",
      "text/plain": [
       "<Figure size 576x432 with 1 Axes>"
      ]
     },
     "metadata": {},
     "output_type": "display_data"
    }
   ],
   "source": [
    "from sklearn.metrics import roc_auc_score\n",
    "from sklearn.metrics import roc_curve\n",
    "logit_roc_auc = roc_auc_score(y_t1, y_p_t1)\n",
    "fpr, tpr, thresholds = roc_curve(y_t1, log_model1.predict_proba(X_t1)[::,1])\n",
    "\n",
    "plt.figure(figsize=(8,6))\n",
    "plt.plot(fpr, tpr, color='g' ,label='Logistic Regression (area = %0.2f)' % logit_roc_auc)\n",
    "plt.plot([0, 1], [0, 1],'r--')\n",
    "plt.xlim([0.0, 1.0])\n",
    "plt.ylim([0.0, 1.05])\n",
    "plt.xlabel('False Positive Rate',fontsize=16)\n",
    "plt.ylabel('True Positive Rate',fontsize=16)\n",
    "plt.title('ROC: Receiver Operating Characteristic\\nOutliers Removed',fontsize=20)\n",
    "plt.legend(loc=\"lower right\",fontsize=16)\n",
    "plt.savefig('Log_ROC')\n",
    "plt.show()"
   ]
  },
  {
   "cell_type": "code",
   "execution_count": null,
   "metadata": {},
   "outputs": [],
   "source": []
  },
  {
   "cell_type": "code",
   "execution_count": null,
   "metadata": {},
   "outputs": [],
   "source": []
  },
  {
   "cell_type": "code",
   "execution_count": null,
   "metadata": {},
   "outputs": [],
   "source": []
  },
  {
   "cell_type": "code",
   "execution_count": null,
   "metadata": {},
   "outputs": [],
   "source": []
  },
  {
   "cell_type": "code",
   "execution_count": null,
   "metadata": {},
   "outputs": [],
   "source": []
  },
  {
   "cell_type": "code",
   "execution_count": null,
   "metadata": {},
   "outputs": [],
   "source": []
  },
  {
   "cell_type": "code",
   "execution_count": null,
   "metadata": {},
   "outputs": [],
   "source": []
  },
  {
   "cell_type": "code",
   "execution_count": null,
   "metadata": {},
   "outputs": [],
   "source": []
  },
  {
   "cell_type": "code",
   "execution_count": null,
   "metadata": {},
   "outputs": [],
   "source": []
  },
  {
   "cell_type": "code",
   "execution_count": null,
   "metadata": {},
   "outputs": [],
   "source": []
  },
  {
   "cell_type": "code",
   "execution_count": null,
   "metadata": {},
   "outputs": [],
   "source": [
    "\n"
   ]
  },
  {
   "cell_type": "code",
   "execution_count": null,
   "metadata": {},
   "outputs": [],
   "source": []
  },
  {
   "cell_type": "code",
   "execution_count": null,
   "metadata": {},
   "outputs": [],
   "source": []
  },
  {
   "cell_type": "markdown",
   "metadata": {},
   "source": [
    "### Model is bad. Try first doing some feature selection."
   ]
  },
  {
   "cell_type": "code",
   "execution_count": 79,
   "metadata": {},
   "outputs": [
    {
     "data": {
      "text/plain": [
       "(10793, 59)"
      ]
     },
     "execution_count": 79,
     "metadata": {},
     "output_type": "execute_result"
    }
   ],
   "source": [
    "dff.shape"
   ]
  },
  {
   "cell_type": "code",
   "execution_count": 80,
   "metadata": {},
   "outputs": [
    {
     "name": "stdout",
     "output_type": "stream",
     "text": [
      "0.0 3487.0\n"
     ]
    }
   ],
   "source": [
    "for i in ['shares']:\n",
    "    Q25 = dff[i].quantile(0.25)\n",
    "    Q75 = dff[i].quantile(0.75)\n",
    "    IQR = Q75-Q25\n",
    "    sMaxQ_f = Q75+1.5*IQR\n",
    "    sMinQ_f = max(Q25-1.5*IQR,0.0)\n",
    "    print(sMinQ_f, sMaxQ_f)"
   ]
  },
  {
   "cell_type": "code",
   "execution_count": 82,
   "metadata": {},
   "outputs": [],
   "source": [
    "dff = dff[dff.shares<=round(sMaxQ,-2)]"
   ]
  },
  {
   "cell_type": "code",
   "execution_count": 83,
   "metadata": {},
   "outputs": [],
   "source": [
    "dff.reset_index(drop=True, inplace=True)"
   ]
  },
  {
   "cell_type": "code",
   "execution_count": 85,
   "metadata": {},
   "outputs": [],
   "source": [
    "ser, bins = pd.qcut(dff[\"shares\"], 2, retbins=True, labels=['poor','good'])\n",
    "dff['share_cat'] = pd.cut(dff[\"shares\"], bins=bins, labels=[0,1], include_lowest=True)"
   ]
  },
  {
   "cell_type": "code",
   "execution_count": 86,
   "metadata": {},
   "outputs": [],
   "source": [
    "dff.drop(['shares'],axis=1,inplace=True)"
   ]
  },
  {
   "cell_type": "code",
   "execution_count": 87,
   "metadata": {},
   "outputs": [],
   "source": [
    "X_tr2, X_t2, y_tr2,y_t2 = train_test_split(dff.drop('share_cat',axis=1), dff['share_cat'], test_size=0.2)"
   ]
  },
  {
   "cell_type": "code",
   "execution_count": 90,
   "metadata": {},
   "outputs": [],
   "source": [
    "log_model2 = LogisticRegression(solver='liblinear') #lbfgs/liblinear is default"
   ]
  },
  {
   "cell_type": "code",
   "execution_count": 91,
   "metadata": {},
   "outputs": [],
   "source": [
    "from sklearn.feature_selection import RFE"
   ]
  },
  {
   "cell_type": "code",
   "execution_count": 92,
   "metadata": {},
   "outputs": [],
   "source": [
    "rfe1 = RFE(log_model2,n_features_to_select=6)"
   ]
  },
  {
   "cell_type": "code",
   "execution_count": 94,
   "metadata": {
    "scrolled": true
   },
   "outputs": [
    {
     "name": "stdout",
     "output_type": "stream",
     "text": [
      "[22 32 36 39 35 21 23 11 48 20 19 52  9  8  1  1 10 18 27 26 33 34 51 30\n",
      " 28 24 25 31 29 16 14 13 15  3  4  5  1  1  6  7 17  1 53 38 50 49  2  1\n",
      " 42 41 47 37 12 46 43 40 45 44]\n",
      "[False False False False False False False False False False False False\n",
      " False False  True  True False False False False False False False False\n",
      " False False False False False False False False False False False False\n",
      "  True  True False False False  True False False False False False  True\n",
      " False False False False False False False False False False]\n"
     ]
    }
   ],
   "source": [
    "rfe1.fit(X_tr2,y_tr2)\n",
    "print(rfe1.ranking_)\n",
    "print(rfe1.support_)"
   ]
  },
  {
   "cell_type": "code",
   "execution_count": 95,
   "metadata": {},
   "outputs": [
    {
     "data": {
      "text/plain": [
       "Index(['data_channel_is_socmed', 'data_channel_is_tech', 'is_weekend',\n",
       "       'LDA_00', 'LDA_04', 'rate_negative_words'],\n",
       "      dtype='object')"
      ]
     },
     "execution_count": 95,
     "metadata": {},
     "output_type": "execute_result"
    }
   ],
   "source": [
    "cols = X_tr2.columns[rfe1.support_]\n",
    "cols"
   ]
  },
  {
   "cell_type": "code",
   "execution_count": 96,
   "metadata": {
    "scrolled": true
   },
   "outputs": [],
   "source": [
    "X_tr2, X_t2, y_tr2, y_t2 = train_test_split(dff[cols], dff['share_cat'], test_size=0.20, \n",
    "                                                    random_state=0)"
   ]
  },
  {
   "cell_type": "code",
   "execution_count": 97,
   "metadata": {},
   "outputs": [],
   "source": [
    "from sklearn.metrics import precision_score, recall_score, f1_score"
   ]
  },
  {
   "cell_type": "code",
   "execution_count": 98,
   "metadata": {},
   "outputs": [
    {
     "name": "stdout",
     "output_type": "stream",
     "text": [
      "Acc Score on traning set: 0.6416124837451236\n",
      "Acc Score on testing set: 0.6198647945917837\n",
      "\n",
      "Balanced Acc Score on traning set: 0.6238298215659908\n",
      "Balanced Acc Score on testing set: 0.6087192620495381\n",
      "\n",
      "Precision Score on training set: 0.6227219852656068\n",
      "Precision Score on testing set: 0.6090116279069767\n",
      "\n",
      "Recall Score on training set: 0.47388610209501325\n",
      "Recall Score on testing set: 0.47559591373439275\n",
      "\n",
      "F1 Score on training set: 0.5382037533512064\n",
      "F1 Score on testing set: 0.5340981516889739\n"
     ]
    }
   ],
   "source": [
    "log_model2.fit(X_tr2,y_tr2)\n",
    "\n",
    "y_p_tr2= log_model2.predict(X_tr2)\n",
    "y_p_t2= log_model2.predict(X_t2)\n",
    "\n",
    "acc_score_tr2 = accuracy_score(y_tr2, y_p_tr2)\n",
    "acc_score_t2 = accuracy_score(y_t2, y_p_t2)\n",
    "\n",
    "print(\"Acc Score on traning set: {}\".format(acc_score_tr2))\n",
    "print(\"Acc Score on testing set: {}\".format(acc_score_t2)) \n",
    "print(\"\")\n",
    "\n",
    "bacc_score_tr2 = balanced_accuracy_score(y_tr2, y_p_tr2)\n",
    "bacc_score_t2 = balanced_accuracy_score(y_t2, y_p_t2)\n",
    "\n",
    "print(\"Balanced Acc Score on traning set: {}\".format(bacc_score_tr2))\n",
    "print(\"Balanced Acc Score on testing set: {}\".format(bacc_score_t2)) \n",
    "print(\"\")\n",
    "\n",
    "precision_tr2 = precision_score(y_tr2, y_p_tr2)\n",
    "precision_t2 = precision_score(y_t2, y_p_t2)\n",
    "\n",
    "print(\"Precision Score on training set: {}\".format(precision_tr2))\n",
    "print(\"Precision Score on testing set: {}\".format(precision_t2)) \n",
    "print(\"\")\n",
    "\n",
    "recall_tr2 = recall_score(y_tr2, y_p_tr2)\n",
    "recall_t2 = recall_score(y_t2, y_p_t2)\n",
    "\n",
    "print(\"Recall Score on training set: {}\".format(recall_tr2))\n",
    "print(\"Recall Score on testing set: {}\".format(recall_t2)) \n",
    "print(\"\")\n",
    "\n",
    "f1_score_tr = f1_score(y_tr2, y_p_tr2)\n",
    "f1_score_t = f1_score(y_t2, y_p_t2)\n",
    "               \n",
    "print(\"F1 Score on training set: {}\".format(f1_score_tr))\n",
    "print(\"F1 Score on testing set: {}\".format(f1_score_t)) "
   ]
  },
  {
   "cell_type": "code",
   "execution_count": 99,
   "metadata": {},
   "outputs": [
    {
     "data": {
      "text/plain": [
       "array([[773, 269],\n",
       "       [462, 419]], dtype=int64)"
      ]
     },
     "execution_count": 99,
     "metadata": {},
     "output_type": "execute_result"
    }
   ],
   "source": [
    "confusion_matrix(y_t2, y_p_t2)"
   ]
  },
  {
   "cell_type": "code",
   "execution_count": 100,
   "metadata": {},
   "outputs": [
    {
     "name": "stdout",
     "output_type": "stream",
     "text": [
      "              precision    recall  f1-score   support\n",
      "\n",
      "           0       0.63      0.74      0.68      1042\n",
      "           1       0.61      0.48      0.53       881\n",
      "\n",
      "   micro avg       0.62      0.62      0.62      1923\n",
      "   macro avg       0.62      0.61      0.61      1923\n",
      "weighted avg       0.62      0.62      0.61      1923\n",
      "\n"
     ]
    }
   ],
   "source": [
    "from sklearn.metrics import classification_report\n",
    "print(classification_report(y_t2, y_p_t2))"
   ]
  },
  {
   "cell_type": "code",
   "execution_count": 101,
   "metadata": {},
   "outputs": [
    {
     "data": {
      "image/png": "[encoded data removed]",
      "text/plain": [
       "<Figure size 576x432 with 1 Axes>"
      ]
     },
     "metadata": {},
     "output_type": "display_data"
    }
   ],
   "source": [
    "from sklearn.metrics import roc_auc_score\n",
    "from sklearn.metrics import roc_curve\n",
    "logit_roc_auc = roc_auc_score(y_t2, y_p_t2)\n",
    "fpr, tpr, thresholds = roc_curve(y_t2, log_model2.predict_proba(X_t2)[:,1])\n",
    "\n",
    "plt.figure(figsize=(8,6))\n",
    "plt.plot(fpr, tpr, color='g' ,label='Logistic Regression (area = %0.2f)' % logit_roc_auc)\n",
    "plt.plot([0, 1], [0, 1],'r--')\n",
    "plt.xlim([0.0, 1.0])\n",
    "plt.ylim([0.0, 1.05])\n",
    "plt.xlabel('False Positive Rate',fontsize=16)\n",
    "plt.ylabel('True Positive Rate',fontsize=16)\n",
    "plt.title('Time to ROC: Receiver Operating Characteristic\\nRFE / Outliers Removed',fontsize=20)\n",
    "plt.legend(loc=\"lower right\",fontsize=16)\n",
    "plt.savefig('Log_ROC')\n",
    "plt.show()"
   ]
  },
  {
   "cell_type": "code",
   "execution_count": null,
   "metadata": {},
   "outputs": [],
   "source": []
  },
  {
   "cell_type": "code",
   "execution_count": null,
   "metadata": {},
   "outputs": [],
   "source": [
    "# What if we eliminated NO outliers..."
   ]
  },
  {
   "cell_type": "code",
   "execution_count": null,
   "metadata": {},
   "outputs": [],
   "source": [
    "df1 = df.copy()"
   ]
  },
  {
   "cell_type": "code",
   "execution_count": null,
   "metadata": {},
   "outputs": [],
   "source": [
    "df1 = df.copy()\n",
    "df1.drop(['url','timedelta'],axis=1,inplace=True)\n",
    "ser, bins = pd.qcut(df1[\"shares\"], 2, retbins=True, labels=['poor','good'])\n",
    "df1['share_cat'] = pd.cut(df1[\"shares\"], bins=bins, labels=[0,1], include_lowest=True)\n",
    "df1.head()"
   ]
  },
  {
   "cell_type": "code",
   "execution_count": null,
   "metadata": {},
   "outputs": [],
   "source": [
    "df1.drop(['shares'],axis=1,inplace=True)"
   ]
  },
  {
   "cell_type": "code",
   "execution_count": null,
   "metadata": {},
   "outputs": [],
   "source": [
    "df1['shares'].describe()"
   ]
  },
  {
   "cell_type": "code",
   "execution_count": null,
   "metadata": {},
   "outputs": [],
   "source": [
    "X_tr3a, X_t3a, y_tr3a, y_t3a = train_test_split(df1.drop('share_cat',axis=1), df1['share_cat'], test_size=0.20, \n",
    "                                                    random_state=0)"
   ]
  },
  {
   "cell_type": "code",
   "execution_count": null,
   "metadata": {},
   "outputs": [],
   "source": [
    "log_model3 = LogisticRegression(solver='liblinear')\n",
    "rfe3 = RFE(log_model3,n_features_to_select=8)\n",
    "rfe3.fit(X_tr3a,y_tr3a)\n",
    "print(rfe3.ranking_)\n",
    "print(rfe3.support_)"
   ]
  },
  {
   "cell_type": "code",
   "execution_count": null,
   "metadata": {},
   "outputs": [],
   "source": []
  },
  {
   "cell_type": "code",
   "execution_count": null,
   "metadata": {},
   "outputs": [],
   "source": [
    "cols = X_tr3a.columns[rfe3.support_]\n",
    "X_tr3, X_t3, y_tr3, y_t3 = train_test_split(df1[cols], df1['share_cat'], test_size=0.20, \n",
    "                                                    random_state=0)\n",
    "\n",
    "\n",
    "cols"
   ]
  },
  {
   "cell_type": "code",
   "execution_count": null,
   "metadata": {},
   "outputs": [],
   "source": [
    "log_model3.fit(X_tr3,y_tr3)"
   ]
  },
  {
   "cell_type": "code",
   "execution_count": null,
   "metadata": {},
   "outputs": [],
   "source": [
    "y_p_tr3= log_model3.predict(X_tr3)\n",
    "y_p_t3= log_model3.predict(X_t3)\n",
    "\n",
    "acc_score_tr3 = accuracy_score(y_tr3, y_p_tr3)\n",
    "acc_score_t3 = accuracy_score(y_t3, y_p_t3)\n",
    "\n",
    "print(\"Acc Score on traning set: {}\".format(acc_score_tr3))\n",
    "print(\"Acc Score on testing set: {}\".format(acc_score_t3)) \n",
    "print(\"\")\n",
    "\n",
    "bacc_score_tr3 = balanced_accuracy_score(y_tr3, y_p_tr3)\n",
    "bacc_score_t3 = balanced_accuracy_score(y_t3, y_p_t3)\n",
    "\n",
    "print(\"Balanced Acc Score on traning set: {}\".format(bacc_score_tr3))\n",
    "print(\"Balanced Acc Score on testing set: {}\".format(bacc_score_t3)) \n",
    "print(\"\")\n",
    "\n",
    "precision_tr3 = precision_score(y_tr3, y_p_tr3)\n",
    "precision_t3 = precision_score(y_t3, y_p_t3)\n",
    "\n",
    "print(\"Precision Score on training set: {}\".format(precision_tr3))\n",
    "print(\"Precision Score on testing set: {}\".format(precision_t3)) \n",
    "print(\"\")\n",
    "\n",
    "recall_tr3 = recall_score(y_tr3, y_p_tr3)\n",
    "recall_t3 = recall_score(y_t3, y_p_t3)\n",
    "\n",
    "print(\"Recall Score on training set: {}\".format(recall_tr3))\n",
    "print(\"Recall Score on testing set: {}\".format(recall_t3)) \n",
    "print(\"\")\n",
    "\n",
    "f1_score_tr = f1_score(y_tr3, y_p_tr3)\n",
    "f1_score_t = f1_score(y_t3, y_p_t3)\n",
    "               \n",
    "print(\"F1 Score on training set: {}\".format(f1_score_tr))\n",
    "print(\"F1 Score on testing set: {}\".format(f1_score_t)) "
   ]
  },
  {
   "cell_type": "code",
   "execution_count": null,
   "metadata": {},
   "outputs": [],
   "source": [
    "from sklearn.metrics import classification_report\n",
    "print(classification_report(y_t3, y_p_t3))"
   ]
  },
  {
   "cell_type": "code",
   "execution_count": null,
   "metadata": {},
   "outputs": [],
   "source": [
    "confusion_matrix(y_t3, y_p_t3)"
   ]
  },
  {
   "cell_type": "code",
   "execution_count": null,
   "metadata": {},
   "outputs": [],
   "source": [
    "from sklearn.metrics import roc_auc_score\n",
    "from sklearn.metrics import roc_curve\n",
    "logit_roc_auc = roc_auc_score(y_t3, y_p_t3)\n",
    "fpr, tpr, thresholds = roc_curve(y_t3, log_model3.predict_proba(X_t3)[:,1])\n",
    "plt.figure(figsize=(8,6))\n",
    "plt.plot(fpr, tpr, color='m' ,label='Logistic Regression (area = %0.2f)' % logit_roc_auc)\n",
    "plt.plot([0, 1], [0, 1],'r--')\n",
    "plt.xlim([0.0, 1.0])\n",
    "plt.ylim([0.0, 1.05])\n",
    "plt.xlabel('False Positive Rate',fontsize=16)\n",
    "plt.ylabel('True Positive Rate',fontsize=16)\n",
    "plt.title('Time to ROC: Receiver Operating Characteristic\\nOutliers Not Removed',fontsize=24)\n",
    "plt.legend(loc=\"lower right\",fontsize=16)\n",
    "plt.savefig('Log_ROC')\n",
    "plt.show()"
   ]
  },
  {
   "cell_type": "markdown",
   "metadata": {},
   "source": [
    "# RANDOM FOREST"
   ]
  },
  {
   "cell_type": "code",
   "execution_count": null,
   "metadata": {},
   "outputs": [],
   "source": [
    "from sklearn.ensemble import RandomForestClassifier\n",
    "\n",
    "ks_rf = RandomForestClassifier().fit(X_tr3,y_tr3)"
   ]
  },
  {
   "cell_type": "code",
   "execution_count": null,
   "metadata": {},
   "outputs": [],
   "source": [
    "y_p_t_RF = ks_rf.predict(X_t3)\n",
    "confusion_matrix(y_t3,y_p_t_RF)"
   ]
  },
  {
   "cell_type": "code",
   "execution_count": null,
   "metadata": {},
   "outputs": [],
   "source": [
    "y_pred_proba_RF = ks_rf.predict_proba(X_t3)[:,1]\n",
    "\n",
    "logit_roc_auc = roc_auc_score(y_t3, y_p_t_RF)\n",
    "\n",
    "fpr, tpr, thresholds = roc_curve(y_t3, y_pred_proba_RF)\n",
    "\n",
    "plt.figure(figsize=(8,6))\n",
    "plt.plot(fpr, tpr, color='c' ,label='Logistic Regression (area = %0.2f)' % logit_roc_auc)\n",
    "plt.plot([0, 1], [0, 1],'r--')\n",
    "plt.xlim([0.0, 1.0])\n",
    "plt.ylim([0.0, 1.05])\n",
    "plt.xlabel('False Positive Rate',fontsize=16)\n",
    "plt.ylabel('True Positive Rate',fontsize=16)\n",
    "plt.title('Time to ROC: Receiver Operating Characteristic\\nOutliers Not Removed\\nRandom Forest',fontsize=24)\n",
    "plt.legend(loc=\"lower right\",fontsize=16)\n",
    "plt.savefig('Log_ROC')\n",
    "plt.show()\n"
   ]
  },
  {
   "cell_type": "markdown",
   "metadata": {},
   "source": [
    "## Random Forest with Outliers Removed"
   ]
  },
  {
   "cell_type": "code",
   "execution_count": null,
   "metadata": {},
   "outputs": [],
   "source": [
    "df2 = df.copy()\n",
    "\n",
    "columns_out = ['n_tokens_title','n_tokens_content','num_hrefs','num_self_hrefs','num_imgs','num_videos','num_keywords',\n",
    "              'kw_min_min', 'kw_max_min',\"kw_avg_min\", \"kw_min_max\", \"kw_max_max\",\"kw_avg_max\", \"kw_min_avg\",\n",
    "               \"kw_max_avg\",\"kw_avg_avg\",\"self_reference_min_shares\",\"self_reference_max_shares\",\n",
    "               \"self_reference_avg_sharess\"]\n",
    "\n",
    "for n in columns_out:\n",
    "    print(n)\n",
    "    \n",
    "    q = iqr_fun(n,df2)\n",
    "    df2 = df2[(df2[n]<=q[1]) & (df2[n]>=q[0])  ]"
   ]
  },
  {
   "cell_type": "code",
   "execution_count": null,
   "metadata": {},
   "outputs": [],
   "source": [
    "sMaxQ"
   ]
  },
  {
   "cell_type": "code",
   "execution_count": null,
   "metadata": {},
   "outputs": [],
   "source": [
    "df2 = df2[df2.shares<=sMaxQ+1000]\n",
    "df2.reset_index(drop=True, inplace=True)\n",
    "df2.drop(['url','timedelta'],axis=1,inplace=True)\n",
    "\n",
    "\n",
    "ser, bins = pd.qcut(df2[\"shares\"], 2, retbins=True, labels=['poor','good'])\n",
    "df2['share_cat'] = pd.cut(df2[\"shares\"], bins=bins, labels=[0,1], include_lowest=True)\n",
    "df2.head()"
   ]
  },
  {
   "cell_type": "code",
   "execution_count": null,
   "metadata": {},
   "outputs": [],
   "source": [
    "df2.drop(['shares'],axis=1,inplace=True)"
   ]
  },
  {
   "cell_type": "code",
   "execution_count": null,
   "metadata": {},
   "outputs": [],
   "source": [
    "X_tr4a, X_t4a, y_tr4a,y_t4a = train_test_split(df2.drop('share_cat',axis=1), df2['share_cat'], test_size=0.2)"
   ]
  },
  {
   "cell_type": "code",
   "execution_count": null,
   "metadata": {},
   "outputs": [],
   "source": [
    "log_model4 = LogisticRegression(solver='liblinear')\n",
    "\n",
    "rfe4 = RFE(log_model4,n_features_to_select=8)\n",
    "rfe4.fit(X_tr4a,y_tr4a)\n",
    "print(rfe4.ranking_)\n",
    "print(rfe4.support_)"
   ]
  },
  {
   "cell_type": "code",
   "execution_count": null,
   "metadata": {},
   "outputs": [],
   "source": [
    "cols = X_tr4a.columns[rfe4.support_]\n",
    "X_tr4, X_t4, y_tr4, y_t4 = train_test_split(df2[cols], df2['share_cat'], test_size=0.20, \n",
    "                                                    random_state=0)\n",
    "\n",
    "\n",
    "cols"
   ]
  },
  {
   "cell_type": "code",
   "execution_count": null,
   "metadata": {},
   "outputs": [],
   "source": [
    "\n",
    "\n",
    "ks_rf4 = RandomForestClassifier().fit(X_tr4,y_tr4)"
   ]
  },
  {
   "cell_type": "code",
   "execution_count": null,
   "metadata": {},
   "outputs": [],
   "source": [
    "y_p_t_RF4 = ks_rf4.predict(X_t4)\n",
    "confusion_matrix(y_t4,y_p_t_RF4)"
   ]
  },
  {
   "cell_type": "code",
   "execution_count": null,
   "metadata": {},
   "outputs": [],
   "source": [
    "y_pred_proba_RF4 = ks_rf4.predict_proba(X_t4)[:,1]\n",
    "\n",
    "logit_roc_auc = roc_auc_score(y_t4, y_p_t_RF4)\n",
    "\n",
    "fpr, tpr, thresholds = roc_curve(y_t4, y_pred_proba_RF4)\n",
    "\n",
    "plt.figure(figsize=(8,6))\n",
    "plt.plot(fpr, tpr, color='c' ,label='Logistic Regression (area = %0.2f)' % logit_roc_auc)\n",
    "plt.plot([0, 1], [0, 1],'r--')\n",
    "plt.xlim([0.0, 1.0])\n",
    "plt.ylim([0.0, 1.05])\n",
    "plt.xlabel('False Positive Rate',fontsize=16)\n",
    "plt.ylabel('True Positive Rate',fontsize=16)\n",
    "plt.title('Time to ROC: Receiver Operating Characteristic\\nOutliers Removed - Random Forest',fontsize=24)\n",
    "plt.legend(loc=\"lower right\",fontsize=16)\n",
    "plt.savefig('Log_ROC')\n",
    "plt.show()"
   ]
  },
  {
   "cell_type": "markdown",
   "metadata": {},
   "source": [
    "# Support Vector Machines"
   ]
  },
  {
   "cell_type": "code",
   "execution_count": null,
   "metadata": {},
   "outputs": [],
   "source": [
    "from sklearn import svm"
   ]
  },
  {
   "cell_type": "code",
   "execution_count": null,
   "metadata": {},
   "outputs": [],
   "source": [
    "clf = svm.SVC(gamma='auto')\n",
    "clf.fit(X_tr1, y_tr1)"
   ]
  },
  {
   "cell_type": "code",
   "execution_count": null,
   "metadata": {},
   "outputs": [],
   "source": [
    "clf.score(X_t1, y_t1)"
   ]
  },
  {
   "cell_type": "code",
   "execution_count": null,
   "metadata": {},
   "outputs": [],
   "source": []
  }
 ],
 "metadata": {
  "kernelspec": {
   "display_name": "Python 3",
   "language": "python",
   "name": "python3"
  },
  "language_info": {
   "codemirror_mode": {
    "name": "ipython",
    "version": 3
   },
   "file_extension": ".py",
   "mimetype": "text/x-python",
   "name": "python",
   "nbconvert_exporter": "python",
   "pygments_lexer": "ipython3",
   "version": "3.7.3"
  }
 },
 "nbformat": 4,
 "nbformat_minor": 2
}
