{
 "cells": [
  {
   "cell_type": "code",
   "execution_count": 5,
   "metadata": {},
   "outputs": [],
   "source": [
    "import pandas as pd\n",
    "import numpy as np\n",
    "\n",
    "import matplotlib.pyplot as plt\n",
    "from matplotlib import style\n",
    "import seaborn as sns\n",
    "sns.set()"
   ]
  },
  {
   "cell_type": "code",
   "execution_count": 6,
   "metadata": {},
   "outputs": [],
   "source": [
    "df = pd.read_csv('OnlineNewsPopularity.csv')"
   ]
  },
  {
   "cell_type": "code",
   "execution_count": 125,
   "metadata": {},
   "outputs": [
    {
     "data": {
      "text/html": [
       "<div>\n",
       "<style scoped>\n",
       "    .dataframe tbody tr th:only-of-type {\n",
       "        vertical-align: middle;\n",
       "    }\n",
       "\n",
       "    .dataframe tbody tr th {\n",
       "        vertical-align: top;\n",
       "    }\n",
       "\n",
       "    .dataframe thead th {\n",
       "        text-align: right;\n",
       "    }\n",
       "</style>\n",
       "<table border=\"1\" class=\"dataframe\">\n",
       "  <thead>\n",
       "    <tr style=\"text-align: right;\">\n",
       "      <th></th>\n",
       "      <th>url</th>\n",
       "      <th>timedelta</th>\n",
       "      <th>n_tokens_title</th>\n",
       "      <th>n_tokens_content</th>\n",
       "      <th>n_unique_tokens</th>\n",
       "      <th>n_non_stop_words</th>\n",
       "      <th>n_non_stop_unique_tokens</th>\n",
       "      <th>num_hrefs</th>\n",
       "      <th>num_self_hrefs</th>\n",
       "      <th>num_imgs</th>\n",
       "      <th>...</th>\n",
       "      <th>min_positive_polarity</th>\n",
       "      <th>max_positive_polarity</th>\n",
       "      <th>avg_negative_polarity</th>\n",
       "      <th>min_negative_polarity</th>\n",
       "      <th>max_negative_polarity</th>\n",
       "      <th>title_subjectivity</th>\n",
       "      <th>title_sentiment_polarity</th>\n",
       "      <th>abs_title_subjectivity</th>\n",
       "      <th>abs_title_sentiment_polarity</th>\n",
       "      <th>shares</th>\n",
       "    </tr>\n",
       "  </thead>\n",
       "  <tbody>\n",
       "    <tr>\n",
       "      <th>0</th>\n",
       "      <td>http://mashable.com/2013/01/07/amazon-instant-...</td>\n",
       "      <td>731.0</td>\n",
       "      <td>12.0</td>\n",
       "      <td>219.0</td>\n",
       "      <td>0.663594</td>\n",
       "      <td>1.0</td>\n",
       "      <td>0.815385</td>\n",
       "      <td>4.0</td>\n",
       "      <td>2.0</td>\n",
       "      <td>1.0</td>\n",
       "      <td>...</td>\n",
       "      <td>0.100000</td>\n",
       "      <td>0.7</td>\n",
       "      <td>-0.350000</td>\n",
       "      <td>-0.600</td>\n",
       "      <td>-0.200000</td>\n",
       "      <td>0.500000</td>\n",
       "      <td>-0.187500</td>\n",
       "      <td>0.000000</td>\n",
       "      <td>0.187500</td>\n",
       "      <td>593</td>\n",
       "    </tr>\n",
       "    <tr>\n",
       "      <th>1</th>\n",
       "      <td>http://mashable.com/2013/01/07/ap-samsung-spon...</td>\n",
       "      <td>731.0</td>\n",
       "      <td>9.0</td>\n",
       "      <td>255.0</td>\n",
       "      <td>0.604743</td>\n",
       "      <td>1.0</td>\n",
       "      <td>0.791946</td>\n",
       "      <td>3.0</td>\n",
       "      <td>1.0</td>\n",
       "      <td>1.0</td>\n",
       "      <td>...</td>\n",
       "      <td>0.033333</td>\n",
       "      <td>0.7</td>\n",
       "      <td>-0.118750</td>\n",
       "      <td>-0.125</td>\n",
       "      <td>-0.100000</td>\n",
       "      <td>0.000000</td>\n",
       "      <td>0.000000</td>\n",
       "      <td>0.500000</td>\n",
       "      <td>0.000000</td>\n",
       "      <td>711</td>\n",
       "    </tr>\n",
       "    <tr>\n",
       "      <th>2</th>\n",
       "      <td>http://mashable.com/2013/01/07/apple-40-billio...</td>\n",
       "      <td>731.0</td>\n",
       "      <td>9.0</td>\n",
       "      <td>211.0</td>\n",
       "      <td>0.575130</td>\n",
       "      <td>1.0</td>\n",
       "      <td>0.663866</td>\n",
       "      <td>3.0</td>\n",
       "      <td>1.0</td>\n",
       "      <td>1.0</td>\n",
       "      <td>...</td>\n",
       "      <td>0.100000</td>\n",
       "      <td>1.0</td>\n",
       "      <td>-0.466667</td>\n",
       "      <td>-0.800</td>\n",
       "      <td>-0.133333</td>\n",
       "      <td>0.000000</td>\n",
       "      <td>0.000000</td>\n",
       "      <td>0.500000</td>\n",
       "      <td>0.000000</td>\n",
       "      <td>1500</td>\n",
       "    </tr>\n",
       "    <tr>\n",
       "      <th>3</th>\n",
       "      <td>http://mashable.com/2013/01/07/astronaut-notre...</td>\n",
       "      <td>731.0</td>\n",
       "      <td>9.0</td>\n",
       "      <td>531.0</td>\n",
       "      <td>0.503788</td>\n",
       "      <td>1.0</td>\n",
       "      <td>0.665635</td>\n",
       "      <td>9.0</td>\n",
       "      <td>0.0</td>\n",
       "      <td>1.0</td>\n",
       "      <td>...</td>\n",
       "      <td>0.136364</td>\n",
       "      <td>0.8</td>\n",
       "      <td>-0.369697</td>\n",
       "      <td>-0.600</td>\n",
       "      <td>-0.166667</td>\n",
       "      <td>0.000000</td>\n",
       "      <td>0.000000</td>\n",
       "      <td>0.500000</td>\n",
       "      <td>0.000000</td>\n",
       "      <td>1200</td>\n",
       "    </tr>\n",
       "    <tr>\n",
       "      <th>4</th>\n",
       "      <td>http://mashable.com/2013/01/07/att-u-verse-apps/</td>\n",
       "      <td>731.0</td>\n",
       "      <td>13.0</td>\n",
       "      <td>1072.0</td>\n",
       "      <td>0.415646</td>\n",
       "      <td>1.0</td>\n",
       "      <td>0.540890</td>\n",
       "      <td>19.0</td>\n",
       "      <td>19.0</td>\n",
       "      <td>20.0</td>\n",
       "      <td>...</td>\n",
       "      <td>0.033333</td>\n",
       "      <td>1.0</td>\n",
       "      <td>-0.220192</td>\n",
       "      <td>-0.500</td>\n",
       "      <td>-0.050000</td>\n",
       "      <td>0.454545</td>\n",
       "      <td>0.136364</td>\n",
       "      <td>0.045455</td>\n",
       "      <td>0.136364</td>\n",
       "      <td>505</td>\n",
       "    </tr>\n",
       "    <tr>\n",
       "      <th>5</th>\n",
       "      <td>http://mashable.com/2013/01/07/beewi-smart-toys/</td>\n",
       "      <td>731.0</td>\n",
       "      <td>10.0</td>\n",
       "      <td>370.0</td>\n",
       "      <td>0.559889</td>\n",
       "      <td>1.0</td>\n",
       "      <td>0.698198</td>\n",
       "      <td>2.0</td>\n",
       "      <td>2.0</td>\n",
       "      <td>0.0</td>\n",
       "      <td>...</td>\n",
       "      <td>0.136364</td>\n",
       "      <td>0.6</td>\n",
       "      <td>-0.195000</td>\n",
       "      <td>-0.400</td>\n",
       "      <td>-0.100000</td>\n",
       "      <td>0.642857</td>\n",
       "      <td>0.214286</td>\n",
       "      <td>0.142857</td>\n",
       "      <td>0.214286</td>\n",
       "      <td>855</td>\n",
       "    </tr>\n",
       "    <tr>\n",
       "      <th>6</th>\n",
       "      <td>http://mashable.com/2013/01/07/bodymedia-armba...</td>\n",
       "      <td>731.0</td>\n",
       "      <td>8.0</td>\n",
       "      <td>960.0</td>\n",
       "      <td>0.418163</td>\n",
       "      <td>1.0</td>\n",
       "      <td>0.549834</td>\n",
       "      <td>21.0</td>\n",
       "      <td>20.0</td>\n",
       "      <td>20.0</td>\n",
       "      <td>...</td>\n",
       "      <td>0.100000</td>\n",
       "      <td>1.0</td>\n",
       "      <td>-0.224479</td>\n",
       "      <td>-0.500</td>\n",
       "      <td>-0.050000</td>\n",
       "      <td>0.000000</td>\n",
       "      <td>0.000000</td>\n",
       "      <td>0.500000</td>\n",
       "      <td>0.000000</td>\n",
       "      <td>556</td>\n",
       "    </tr>\n",
       "  </tbody>\n",
       "</table>\n",
       "<p>7 rows × 61 columns</p>\n",
       "</div>"
      ],
      "text/plain": [
       "                                                 url  timedelta  \\\n",
       "0  http://mashable.com/2013/01/07/amazon-instant-...      731.0   \n",
       "1  http://mashable.com/2013/01/07/ap-samsung-spon...      731.0   \n",
       "2  http://mashable.com/2013/01/07/apple-40-billio...      731.0   \n",
       "3  http://mashable.com/2013/01/07/astronaut-notre...      731.0   \n",
       "4   http://mashable.com/2013/01/07/att-u-verse-apps/      731.0   \n",
       "5   http://mashable.com/2013/01/07/beewi-smart-toys/      731.0   \n",
       "6  http://mashable.com/2013/01/07/bodymedia-armba...      731.0   \n",
       "\n",
       "   n_tokens_title  n_tokens_content  n_unique_tokens  n_non_stop_words  \\\n",
       "0            12.0             219.0         0.663594               1.0   \n",
       "1             9.0             255.0         0.604743               1.0   \n",
       "2             9.0             211.0         0.575130               1.0   \n",
       "3             9.0             531.0         0.503788               1.0   \n",
       "4            13.0            1072.0         0.415646               1.0   \n",
       "5            10.0             370.0         0.559889               1.0   \n",
       "6             8.0             960.0         0.418163               1.0   \n",
       "\n",
       "   n_non_stop_unique_tokens  num_hrefs  num_self_hrefs  num_imgs  ...  \\\n",
       "0                  0.815385        4.0             2.0       1.0  ...   \n",
       "1                  0.791946        3.0             1.0       1.0  ...   \n",
       "2                  0.663866        3.0             1.0       1.0  ...   \n",
       "3                  0.665635        9.0             0.0       1.0  ...   \n",
       "4                  0.540890       19.0            19.0      20.0  ...   \n",
       "5                  0.698198        2.0             2.0       0.0  ...   \n",
       "6                  0.549834       21.0            20.0      20.0  ...   \n",
       "\n",
       "   min_positive_polarity  max_positive_polarity  avg_negative_polarity  \\\n",
       "0               0.100000                    0.7              -0.350000   \n",
       "1               0.033333                    0.7              -0.118750   \n",
       "2               0.100000                    1.0              -0.466667   \n",
       "3               0.136364                    0.8              -0.369697   \n",
       "4               0.033333                    1.0              -0.220192   \n",
       "5               0.136364                    0.6              -0.195000   \n",
       "6               0.100000                    1.0              -0.224479   \n",
       "\n",
       "   min_negative_polarity  max_negative_polarity  title_subjectivity  \\\n",
       "0                 -0.600              -0.200000            0.500000   \n",
       "1                 -0.125              -0.100000            0.000000   \n",
       "2                 -0.800              -0.133333            0.000000   \n",
       "3                 -0.600              -0.166667            0.000000   \n",
       "4                 -0.500              -0.050000            0.454545   \n",
       "5                 -0.400              -0.100000            0.642857   \n",
       "6                 -0.500              -0.050000            0.000000   \n",
       "\n",
       "   title_sentiment_polarity  abs_title_subjectivity  \\\n",
       "0                 -0.187500                0.000000   \n",
       "1                  0.000000                0.500000   \n",
       "2                  0.000000                0.500000   \n",
       "3                  0.000000                0.500000   \n",
       "4                  0.136364                0.045455   \n",
       "5                  0.214286                0.142857   \n",
       "6                  0.000000                0.500000   \n",
       "\n",
       "   abs_title_sentiment_polarity  shares  \n",
       "0                      0.187500     593  \n",
       "1                      0.000000     711  \n",
       "2                      0.000000    1500  \n",
       "3                      0.000000    1200  \n",
       "4                      0.136364     505  \n",
       "5                      0.214286     855  \n",
       "6                      0.000000     556  \n",
       "\n",
       "[7 rows x 61 columns]"
      ]
     },
     "execution_count": 125,
     "metadata": {},
     "output_type": "execute_result"
    }
   ],
   "source": [
    "df.head(7)"
   ]
  },
  {
   "cell_type": "code",
   "execution_count": 8,
   "metadata": {},
   "outputs": [
    {
     "data": {
      "text/plain": [
       "(39644, 61)"
      ]
     },
     "execution_count": 8,
     "metadata": {},
     "output_type": "execute_result"
    }
   ],
   "source": [
    "df.shape"
   ]
  },
  {
   "cell_type": "code",
   "execution_count": 9,
   "metadata": {},
   "outputs": [
    {
     "data": {
      "text/plain": [
       "url                                object\n",
       " timedelta                        float64\n",
       " n_tokens_title                   float64\n",
       " n_tokens_content                 float64\n",
       " n_unique_tokens                  float64\n",
       " n_non_stop_words                 float64\n",
       " n_non_stop_unique_tokens         float64\n",
       " num_hrefs                        float64\n",
       " num_self_hrefs                   float64\n",
       " num_imgs                         float64\n",
       " num_videos                       float64\n",
       " average_token_length             float64\n",
       " num_keywords                     float64\n",
       " data_channel_is_lifestyle        float64\n",
       " data_channel_is_entertainment    float64\n",
       " data_channel_is_bus              float64\n",
       " data_channel_is_socmed           float64\n",
       " data_channel_is_tech             float64\n",
       " data_channel_is_world            float64\n",
       " kw_min_min                       float64\n",
       " kw_max_min                       float64\n",
       " kw_avg_min                       float64\n",
       " kw_min_max                       float64\n",
       " kw_max_max                       float64\n",
       " kw_avg_max                       float64\n",
       " kw_min_avg                       float64\n",
       " kw_max_avg                       float64\n",
       " kw_avg_avg                       float64\n",
       " self_reference_min_shares        float64\n",
       " self_reference_max_shares        float64\n",
       "                                   ...   \n",
       " weekday_is_monday                float64\n",
       " weekday_is_tuesday               float64\n",
       " weekday_is_wednesday             float64\n",
       " weekday_is_thursday              float64\n",
       " weekday_is_friday                float64\n",
       " weekday_is_saturday              float64\n",
       " weekday_is_sunday                float64\n",
       " is_weekend                       float64\n",
       " LDA_00                           float64\n",
       " LDA_01                           float64\n",
       " LDA_02                           float64\n",
       " LDA_03                           float64\n",
       " LDA_04                           float64\n",
       " global_subjectivity              float64\n",
       " global_sentiment_polarity        float64\n",
       " global_rate_positive_words       float64\n",
       " global_rate_negative_words       float64\n",
       " rate_positive_words              float64\n",
       " rate_negative_words              float64\n",
       " avg_positive_polarity            float64\n",
       " min_positive_polarity            float64\n",
       " max_positive_polarity            float64\n",
       " avg_negative_polarity            float64\n",
       " min_negative_polarity            float64\n",
       " max_negative_polarity            float64\n",
       " title_subjectivity               float64\n",
       " title_sentiment_polarity         float64\n",
       " abs_title_subjectivity           float64\n",
       " abs_title_sentiment_polarity     float64\n",
       " shares                             int64\n",
       "Length: 61, dtype: object"
      ]
     },
     "execution_count": 9,
     "metadata": {},
     "output_type": "execute_result"
    }
   ],
   "source": [
    "df.dtypes"
   ]
  },
  {
   "cell_type": "markdown",
   "metadata": {},
   "source": [
    "# Clean The Data"
   ]
  },
  {
   "cell_type": "code",
   "execution_count": 10,
   "metadata": {},
   "outputs": [
    {
     "data": {
      "text/html": [
       "<div>\n",
       "<style scoped>\n",
       "    .dataframe tbody tr th:only-of-type {\n",
       "        vertical-align: middle;\n",
       "    }\n",
       "\n",
       "    .dataframe tbody tr th {\n",
       "        vertical-align: top;\n",
       "    }\n",
       "\n",
       "    .dataframe thead th {\n",
       "        text-align: right;\n",
       "    }\n",
       "</style>\n",
       "<table border=\"1\" class=\"dataframe\">\n",
       "  <thead>\n",
       "    <tr style=\"text-align: right;\">\n",
       "      <th></th>\n",
       "      <th>url</th>\n",
       "      <th>timedelta</th>\n",
       "      <th>n_tokens_title</th>\n",
       "      <th>n_tokens_content</th>\n",
       "      <th>n_unique_tokens</th>\n",
       "      <th>n_non_stop_words</th>\n",
       "      <th>n_non_stop_unique_tokens</th>\n",
       "      <th>num_hrefs</th>\n",
       "      <th>num_self_hrefs</th>\n",
       "      <th>num_imgs</th>\n",
       "      <th>...</th>\n",
       "      <th>min_positive_polarity</th>\n",
       "      <th>max_positive_polarity</th>\n",
       "      <th>avg_negative_polarity</th>\n",
       "      <th>min_negative_polarity</th>\n",
       "      <th>max_negative_polarity</th>\n",
       "      <th>title_subjectivity</th>\n",
       "      <th>title_sentiment_polarity</th>\n",
       "      <th>abs_title_subjectivity</th>\n",
       "      <th>abs_title_sentiment_polarity</th>\n",
       "      <th>shares</th>\n",
       "    </tr>\n",
       "  </thead>\n",
       "  <tbody>\n",
       "  </tbody>\n",
       "</table>\n",
       "<p>0 rows × 61 columns</p>\n",
       "</div>"
      ],
      "text/plain": [
       "Empty DataFrame\n",
       "Columns: [url,  timedelta,  n_tokens_title,  n_tokens_content,  n_unique_tokens,  n_non_stop_words,  n_non_stop_unique_tokens,  num_hrefs,  num_self_hrefs,  num_imgs,  num_videos,  average_token_length,  num_keywords,  data_channel_is_lifestyle,  data_channel_is_entertainment,  data_channel_is_bus,  data_channel_is_socmed,  data_channel_is_tech,  data_channel_is_world,  kw_min_min,  kw_max_min,  kw_avg_min,  kw_min_max,  kw_max_max,  kw_avg_max,  kw_min_avg,  kw_max_avg,  kw_avg_avg,  self_reference_min_shares,  self_reference_max_shares,  self_reference_avg_sharess,  weekday_is_monday,  weekday_is_tuesday,  weekday_is_wednesday,  weekday_is_thursday,  weekday_is_friday,  weekday_is_saturday,  weekday_is_sunday,  is_weekend,  LDA_00,  LDA_01,  LDA_02,  LDA_03,  LDA_04,  global_subjectivity,  global_sentiment_polarity,  global_rate_positive_words,  global_rate_negative_words,  rate_positive_words,  rate_negative_words,  avg_positive_polarity,  min_positive_polarity,  max_positive_polarity,  avg_negative_polarity,  min_negative_polarity,  max_negative_polarity,  title_subjectivity,  title_sentiment_polarity,  abs_title_subjectivity,  abs_title_sentiment_polarity,  shares]\n",
       "Index: []\n",
       "\n",
       "[0 rows x 61 columns]"
      ]
     },
     "execution_count": 10,
     "metadata": {},
     "output_type": "execute_result"
    }
   ],
   "source": [
    "#Check for missing numbers\n",
    "\n",
    "missing_values = df[df.isnull().any(axis=1)]\n",
    "missing_values.head()"
   ]
  },
  {
   "cell_type": "code",
   "execution_count": 11,
   "metadata": {},
   "outputs": [
    {
     "data": {
      "text/plain": [
       "0"
      ]
     },
     "execution_count": 11,
     "metadata": {},
     "output_type": "execute_result"
    }
   ],
   "source": [
    "max(missing_values.isna().sum())"
   ]
  },
  {
   "cell_type": "markdown",
   "metadata": {},
   "source": [
    "##### There are no missing values, and the data set appears to be super clean, with dummies already included."
   ]
  },
  {
   "cell_type": "code",
   "execution_count": 12,
   "metadata": {},
   "outputs": [],
   "source": [
    "#Reverse-clean for visualization purposes\n",
    "df_rev = df.copy()\n",
    "df_rev.columns = df_rev.columns.str.replace(' ','')"
   ]
  },
  {
   "cell_type": "code",
   "execution_count": 13,
   "metadata": {},
   "outputs": [
    {
     "data": {
      "text/plain": [
       "Index(['url', 'timedelta', 'n_tokens_title', 'n_tokens_content',\n",
       "       'n_unique_tokens', 'n_non_stop_words', 'n_non_stop_unique_tokens',\n",
       "       'num_hrefs', 'num_self_hrefs', 'num_imgs', 'num_videos',\n",
       "       'average_token_length', 'num_keywords', 'data_channel_is_lifestyle',\n",
       "       'data_channel_is_entertainment', 'data_channel_is_bus',\n",
       "       'data_channel_is_socmed', 'data_channel_is_tech',\n",
       "       'data_channel_is_world', 'kw_min_min', 'kw_max_min', 'kw_avg_min',\n",
       "       'kw_min_max', 'kw_max_max', 'kw_avg_max', 'kw_min_avg', 'kw_max_avg',\n",
       "       'kw_avg_avg', 'self_reference_min_shares', 'self_reference_max_shares',\n",
       "       'self_reference_avg_sharess', 'weekday_is_monday', 'weekday_is_tuesday',\n",
       "       'weekday_is_wednesday', 'weekday_is_thursday', 'weekday_is_friday',\n",
       "       'weekday_is_saturday', 'weekday_is_sunday', 'is_weekend', 'LDA_00',\n",
       "       'LDA_01', 'LDA_02', 'LDA_03', 'LDA_04', 'global_subjectivity',\n",
       "       'global_sentiment_polarity', 'global_rate_positive_words',\n",
       "       'global_rate_negative_words', 'rate_positive_words',\n",
       "       'rate_negative_words', 'avg_positive_polarity', 'min_positive_polarity',\n",
       "       'max_positive_polarity', 'avg_negative_polarity',\n",
       "       'min_negative_polarity', 'max_negative_polarity', 'title_subjectivity',\n",
       "       'title_sentiment_polarity', 'abs_title_subjectivity',\n",
       "       'abs_title_sentiment_polarity', 'shares'],\n",
       "      dtype='object')"
      ]
     },
     "execution_count": 13,
     "metadata": {},
     "output_type": "execute_result"
    }
   ],
   "source": [
    "df_rev.columns"
   ]
  },
  {
   "cell_type": "code",
   "execution_count": null,
   "metadata": {},
   "outputs": [],
   "source": []
  },
  {
   "cell_type": "code",
   "execution_count": 14,
   "metadata": {},
   "outputs": [],
   "source": [
    "df_rev['Channel'] = 'Other'"
   ]
  },
  {
   "cell_type": "code",
   "execution_count": 15,
   "metadata": {},
   "outputs": [],
   "source": [
    "col_channel = {'data_channel_is_lifestyle':'Lifestyle','data_channel_is_entertainment':'Entertainment',\n",
    "               'data_channel_is_bus':'Business',\n",
    "               'data_channel_is_socmed':'Social_Media', 'data_channel_is_tech':\"Tech\",\n",
    "               'data_channel_is_world':'World'}\n",
    "\n",
    "for i in col_channel.keys():\n",
    "    df_rev['Channel'] = np.where(df_rev[i]==1.0, col_channel[i],df_rev['Channel'])\n"
   ]
  },
  {
   "cell_type": "code",
   "execution_count": 16,
   "metadata": {},
   "outputs": [
    {
     "data": {
      "text/plain": [
       "World            8427\n",
       "Tech             7346\n",
       "Entertainment    7057\n",
       "Business         6258\n",
       "Other            6134\n",
       "Social_Media     2323\n",
       "Lifestyle        2099\n",
       "Name: Channel, dtype: int64"
      ]
     },
     "execution_count": 16,
     "metadata": {},
     "output_type": "execute_result"
    }
   ],
   "source": [
    "df_rev[df_rev['Channel']=='0']['url']\n",
    "df_rev['Channel'].value_counts()"
   ]
  },
  {
   "cell_type": "code",
   "execution_count": null,
   "metadata": {},
   "outputs": [],
   "source": []
  },
  {
   "cell_type": "code",
   "execution_count": null,
   "metadata": {},
   "outputs": [],
   "source": []
  },
  {
   "cell_type": "code",
   "execution_count": 17,
   "metadata": {},
   "outputs": [],
   "source": [
    "day_channel = {'weekday_is_monday':'Monday', 'weekday_is_tuesday':'Tuesday',\n",
    "       'weekday_is_wednesday':'Wednesday', 'weekday_is_thursday':'Thursday', 'weekday_is_friday':'Friday',\n",
    "       'weekday_is_saturday':'Saturday', 'weekday_is_sunday':'Sunday'}\n",
    "\n",
    "df_rev['Day_of_Week'] = None\n",
    "\n",
    "for i in day_channel.keys():\n",
    "    df_rev['Day_of_Week'] = np.where(df_rev[i]==1, day_channel[i],df_rev['Day_of_Week'])"
   ]
  },
  {
   "cell_type": "code",
   "execution_count": 18,
   "metadata": {},
   "outputs": [],
   "source": [
    "cols_drop = ['weekday_is_monday', 'weekday_is_tuesday',\n",
    "       'weekday_is_wednesday', 'weekday_is_thursday', 'weekday_is_friday',\n",
    "       'weekday_is_saturday', 'weekday_is_sunday','data_channel_is_lifestyle',\n",
    "       'data_channel_is_entertainment', 'data_channel_is_bus',\n",
    "       'data_channel_is_socmed', 'data_channel_is_tech',\n",
    "       'data_channel_is_world']\n",
    "\n",
    "df_rev.drop(columns=cols_drop, inplace=True)"
   ]
  },
  {
   "cell_type": "code",
   "execution_count": 19,
   "metadata": {},
   "outputs": [
    {
     "data": {
      "text/plain": [
       "(39644, 50)"
      ]
     },
     "execution_count": 19,
     "metadata": {},
     "output_type": "execute_result"
    }
   ],
   "source": [
    "df_rev.shape"
   ]
  },
  {
   "cell_type": "markdown",
   "metadata": {},
   "source": [
    "\n",
    "\n",
    "# Visualize"
   ]
  },
  {
   "cell_type": "code",
   "execution_count": null,
   "metadata": {},
   "outputs": [],
   "source": [
    "df.corr()"
   ]
  },
  {
   "cell_type": "code",
   "execution_count": null,
   "metadata": {},
   "outputs": [],
   "source": [
    "plt.figure(figsize=(16,8))\n",
    "sns.heatmap(df.corr(),cmap=\"coolwarm\")\n",
    "plt.title('Correlation matrix',fontsize=24)\n",
    "\n",
    "plt.show()"
   ]
  },
  {
   "cell_type": "code",
   "execution_count": null,
   "metadata": {},
   "outputs": [],
   "source": [
    "df_rev.shape"
   ]
  },
  {
   "cell_type": "code",
   "execution_count": null,
   "metadata": {},
   "outputs": [],
   "source": []
  },
  {
   "cell_type": "code",
   "execution_count": null,
   "metadata": {},
   "outputs": [],
   "source": [
    "df_rev['Channel'].isna().sum()"
   ]
  },
  {
   "cell_type": "code",
   "execution_count": null,
   "metadata": {},
   "outputs": [],
   "source": [
    "df_agg_C = df_rev.groupby(['Channel'])['shares'].agg(['mean','sum',np.size]).reset_index()"
   ]
  },
  {
   "cell_type": "code",
   "execution_count": null,
   "metadata": {},
   "outputs": [],
   "source": [
    "df_agg_C.set_index('Channel',inplace=True)"
   ]
  },
  {
   "cell_type": "code",
   "execution_count": null,
   "metadata": {},
   "outputs": [],
   "source": [
    "df_agg_C.sort_values(by='mean',inplace=True, ascending=False)\n",
    "df_agg_C"
   ]
  },
  {
   "cell_type": "code",
   "execution_count": null,
   "metadata": {},
   "outputs": [],
   "source": [
    "sns.set()"
   ]
  },
  {
   "cell_type": "code",
   "execution_count": null,
   "metadata": {},
   "outputs": [],
   "source": [
    "cross = pd.crosstab(df_rev.Channel,df_rev.Day_of_Week)\n"
   ]
  },
  {
   "cell_type": "code",
   "execution_count": null,
   "metadata": {},
   "outputs": [],
   "source": [
    "cross.sum()"
   ]
  },
  {
   "cell_type": "code",
   "execution_count": null,
   "metadata": {},
   "outputs": [],
   "source": [
    "colors1 = sns.color_palette(\"GnBu_d\", len(df_agg_C.index))\n",
    "colors2 = sns.color_palette(\"BuGn_d\", len(df_agg_C.index))\n",
    "\n",
    "fig, [ax1, ax2] = plt.subplots(1,2, figsize=(20,5))\n",
    "df_agg_C = df_agg_C[df_agg_C.index != 'Other']\n",
    "\n",
    "ax = sns.barplot(y = df_agg_C.index, x = df_agg_C['mean'], orient='h', palette = colors1, ax=ax1)\n",
    "ax = sns.barplot(y = df_agg_C.index, x = df_agg_C['size'], orient='h', palette = colors2, ax=ax2)\n",
    "\n",
    "ax1.set_xlabel(xlabel='Average Number of Shares per Article', fontsize=16)\n",
    "ax1.set_ylabel(ylabel=\"Channel\", fontsize=16)\n",
    "ax1.set_title(label=\"Average Number of Shares on Social per Article, by Channel\", fontsize=22)\n",
    "\n",
    "ax2.set_xlabel(xlabel='Number of Articles', fontsize=16)\n",
    "ax2.set_ylabel(ylabel=\"Channel\", fontsize=16)\n",
    "ax2.set_title(label=\"Count of Articles\", fontsize=22)\n",
    "\n",
    "\n",
    "plt.show()"
   ]
  },
  {
   "cell_type": "code",
   "execution_count": null,
   "metadata": {},
   "outputs": [],
   "source": [
    "df_agg2 = df_rev.groupby(['Day_of_Week'])['shares'].agg(['mean','sum',np.size])\n",
    "df_agg2 = df_agg2.sort_values('mean',ascending=False)"
   ]
  },
  {
   "cell_type": "code",
   "execution_count": null,
   "metadata": {},
   "outputs": [],
   "source": [
    "df_agg2"
   ]
  },
  {
   "cell_type": "code",
   "execution_count": null,
   "metadata": {},
   "outputs": [],
   "source": [
    "sns.set()"
   ]
  },
  {
   "cell_type": "code",
   "execution_count": null,
   "metadata": {},
   "outputs": [],
   "source": [
    "colors1 = sns.color_palette(\"Blues_d\", len(df_agg2.index))\n",
    "colors2 = sns.color_palette(\"BuGn_d\", len(df_agg2.index))\n",
    "\n",
    "fig, [ax1, ax2] = plt.subplots(1,2, figsize=(20,5))\n",
    "\n",
    "plt.figure(figsize=(16,8))\n",
    "\n",
    "ax = sns.barplot(y = df_agg2.index, x = df_agg2['mean'], orient='h', palette = colors1, ax=ax1)\n",
    "ax = sns.barplot(y = df_agg2.index, x = df_agg2['size'], orient='h', palette = colors2, ax=ax2)\n",
    "\n",
    "ax1.set_xlabel(xlabel='Average Number of Sharesper Article, by Day of Week Released', fontsize=16)\n",
    "ax1.set_ylabel(ylabel=\"Day\", fontsize=16)\n",
    "ax1.set_title(label=\"Average Number of Shares on Social per Article\", fontsize=24)\n",
    "\n",
    "ax2.set_xlabel(xlabel='Number of Articles by Day Released', fontsize=16)\n",
    "ax2.set_ylabel(ylabel=\"Day\", fontsize=16)\n",
    "ax2.set_title(label=\"Count of Articles\", fontsize=24)\n",
    "\n",
    "\n",
    "plt.show()"
   ]
  },
  {
   "cell_type": "code",
   "execution_count": null,
   "metadata": {
    "scrolled": false
   },
   "outputs": [],
   "source": [
    "cross = cross[['Monday','Tuesday','Wednesday','Thursday','Friday','Saturday','Sunday']]\n",
    "plt.figure(figsize=(16,8))\n",
    "sns.heatmap(cross,cmap=\"viridis\", annot=True, fmt=\"d\")\n",
    "plt.title('Total Number of Articles',fontsize=24)\n",
    "\n",
    "plt.show()"
   ]
  },
  {
   "cell_type": "code",
   "execution_count": null,
   "metadata": {},
   "outputs": [],
   "source": []
  },
  {
   "cell_type": "code",
   "execution_count": null,
   "metadata": {
    "scrolled": false
   },
   "outputs": [],
   "source": [
    "df_rev1 = df_rev[df_rev['Channel']!='Other']\n",
    "\n",
    "ch = ['Entertainment','Business','Tech','Lifestyle','World','Social_Media']\n",
    "\n",
    "\n",
    "medians = df_rev1.groupby(['Channel'])['shares'].median()\n",
    "medians = medians[ch].values\n",
    "\n",
    "median_labels = [str(np.round(s, 2)) for s in medians]\n",
    "\n",
    "\n",
    "means = df_rev1.groupby(['Channel'])['shares'].mean()\n",
    "means = means[ch].values\n",
    "mean_labels = [str(np.round(s, 2)) for s in means]\n",
    "\n",
    "plt.figure(figsize=(18,9))\n",
    "\n",
    "ax = sns.boxplot(x=df_rev1['Channel'], y=df_rev1['shares'],data=df_rev1, hue='is_weekend', palette='RdPu', \n",
    "                 showfliers=False, showmeans=True, linewidth=3.)\n",
    "ax.set_ylabel(ylabel='# Shares on Social', fontsize=20)\n",
    "ax.set_title(label='Article Shares by Channel', fontsize=20)\n",
    "\n",
    "leg = ax.get_legend()\n",
    "\n",
    "new_title = 'Weekend?'\n",
    "leg.set_title(new_title)\n",
    "new_labels = ['No', 'Yes']\n",
    "for t, l in zip(leg.texts, new_labels): t.set_text(l)\n",
    "    \n",
    "plt.setp(ax.get_legend().get_texts(), fontsize='18') # for legend text\n",
    "plt.setp(ax.get_legend().get_title(), fontsize='22') # for legend title\n",
    "\n",
    "pos = range(len(medians))\n",
    "for tick,label in zip(pos,ax.get_xticklabels()):\n",
    "    ax.text(pos[tick], medians[tick], f'med={median_labels[tick]}', \n",
    "            horizontalalignment='center', size='x-small', color='c', weight='semibold',fontsize=20)\n",
    "    ax.text(pos[tick], means[tick], f'mean={mean_labels[tick]}', \n",
    "            horizontalalignment='center', size='x-small', color='g', weight='bold',fontsize=20)\n",
    "\n",
    "plt.show()"
   ]
  },
  {
   "cell_type": "code",
   "execution_count": null,
   "metadata": {},
   "outputs": [],
   "source": [
    "plt.figure(figsize=(8,6))\n",
    "\n",
    "\n",
    "\n",
    "ax = sns.scatterplot(y='shares',x='n_tokens_content',data=df_rev, hue='is_weekend') #Hue\n",
    "ax.set_xlabel(xlabel='Article Word Count', fontsize=16)\n",
    "ax.set_ylabel(ylabel='Number of Shares', fontsize=16)\n",
    "ax.set_title(label='Shares by Length of Article', fontsize=20)\n",
    "ax.set_ylim(0,120000)\n",
    "\n",
    "\n",
    "plt.show()"
   ]
  },
  {
   "cell_type": "code",
   "execution_count": null,
   "metadata": {},
   "outputs": [],
   "source": [
    "df_rev.columns"
   ]
  },
  {
   "cell_type": "code",
   "execution_count": null,
   "metadata": {},
   "outputs": [],
   "source": [
    "plt.figure(figsize=(8,6))\n",
    "\n",
    "\n",
    "\n",
    "ax = sns.scatterplot(y='shares',x='global_subjectivity',data=df_rev, hue='Channel') #Hue\n",
    "ax.set_xlabel(xlabel='Global Subjectivity Score', fontsize=16)\n",
    "ax.set_ylabel(ylabel='Number of Shares', fontsize=16)\n",
    "ax.set_title(label='Shares by Subjectivity', fontsize=20)\n",
    "ax.set_ylim(0,150000)\n",
    "\n",
    "plt.show()"
   ]
  },
  {
   "cell_type": "code",
   "execution_count": null,
   "metadata": {},
   "outputs": [],
   "source": []
  },
  {
   "cell_type": "code",
   "execution_count": null,
   "metadata": {},
   "outputs": [],
   "source": [
    "plt.figure(figsize=(8,6))\n",
    "\n",
    "\n",
    "\n",
    "ax = sns.scatterplot(x='global_sentiment_polarity',y='shares',data=df_rev, hue='Channel') #Hue\n",
    "ax.set_ylabel(ylabel='Number of Shares', fontsize=16)\n",
    "ax.set_xlabel(xlabel='Global Sentiment Polarity', fontsize=16)\n",
    "ax.set_title(label='Shares by Global Sentiment', fontsize=20)\n",
    "ax.set_ylim(0,150000)\n",
    "\n",
    "plt.show()"
   ]
  },
  {
   "cell_type": "code",
   "execution_count": null,
   "metadata": {},
   "outputs": [],
   "source": [
    "df_rev['num_imgs'].describe()"
   ]
  },
  {
   "cell_type": "code",
   "execution_count": null,
   "metadata": {},
   "outputs": [],
   "source": []
  },
  {
   "cell_type": "code",
   "execution_count": null,
   "metadata": {},
   "outputs": [],
   "source": []
  },
  {
   "cell_type": "markdown",
   "metadata": {},
   "source": [
    "# Remove Outliers"
   ]
  },
  {
   "cell_type": "code",
   "execution_count": 20,
   "metadata": {},
   "outputs": [
    {
     "name": "stdout",
     "output_type": "stream",
     "text": [
      "0.0 5581.0\n"
     ]
    }
   ],
   "source": [
    "#def iqr_fun():\n",
    "    \n",
    "for i in ['shares']:\n",
    "    Q25 = df_rev[i].quantile(0.25)\n",
    "    Q75 = df_rev[i].quantile(0.75)\n",
    "    IQR = Q75-Q25\n",
    "    sMaxQ = Q75+1.5*IQR\n",
    "    sMinQ = max(Q25-1.5*IQR,0.0)\n",
    "    print(sMinQ, sMaxQ)"
   ]
  },
  {
   "cell_type": "code",
   "execution_count": 23,
   "metadata": {},
   "outputs": [],
   "source": [
    "sns.set()"
   ]
  },
  {
   "cell_type": "code",
   "execution_count": null,
   "metadata": {},
   "outputs": [],
   "source": [
    "df_rev.shape"
   ]
  },
  {
   "cell_type": "code",
   "execution_count": 21,
   "metadata": {},
   "outputs": [
    {
     "data": {
      "text/plain": [
       "count     39644.000000\n",
       "mean       3395.380184\n",
       "std       11626.950749\n",
       "min           1.000000\n",
       "25%         946.000000\n",
       "50%        1400.000000\n",
       "75%        2800.000000\n",
       "max      843300.000000\n",
       "Name: shares, dtype: float64"
      ]
     },
     "execution_count": 21,
     "metadata": {},
     "output_type": "execute_result"
    }
   ],
   "source": [
    "df_rev['shares'].describe()"
   ]
  },
  {
   "cell_type": "code",
   "execution_count": 22,
   "metadata": {},
   "outputs": [
    {
     "data": {
      "image/png": "[encoded data removed]",
      "text/plain": [
       "<Figure size 576x432 with 1 Axes>"
      ]
     },
     "metadata": {
      "needs_background": "light"
     },
     "output_type": "display_data"
    }
   ],
   "source": [
    "plt.figure(figsize=(8,6))\n",
    "\n",
    "df1 = df_rev[(df_rev['shares']<sMaxQ) & (df_rev['shares']>sMinQ)  ]\n",
    "\n",
    "ax= df1['shares'].hist(bins=54)\n",
    "   \n",
    "ax.set_ylabel('Articles', fontsize=20)\n",
    "ax.set_xlabel('Number of Shares', fontsize=20)\n",
    "ax.set_title(label='Shares by Number of Articles', fontsize=20)\n",
    "\n",
    "plt.show()"
   ]
  },
  {
   "cell_type": "markdown",
   "metadata": {},
   "source": [
    "#### Number of Words in Article"
   ]
  },
  {
   "cell_type": "code",
   "execution_count": 24,
   "metadata": {},
   "outputs": [
    {
     "name": "stdout",
     "output_type": "stream",
     "text": [
      "0.0 1421.0\n"
     ]
    }
   ],
   "source": [
    "#def iqr_fun():\n",
    "    \n",
    "for i in ['n_tokens_content']:\n",
    "    Q25 = df_rev[i].quantile(0.25)\n",
    "    Q75 = df_rev[i].quantile(0.75)\n",
    "    IQR = Q75-Q25\n",
    "    MaxQ = Q75+1.5*IQR\n",
    "    MinQ = max(Q25-1.5*IQR,0.0)\n",
    "    print(MinQ, MaxQ)"
   ]
  },
  {
   "cell_type": "code",
   "execution_count": 25,
   "metadata": {},
   "outputs": [],
   "source": [
    "df_revO = df_rev[(df_rev['n_tokens_content']<MaxQ) & (df_rev['n_tokens_content']>MinQ)  ]"
   ]
  },
  {
   "cell_type": "code",
   "execution_count": 26,
   "metadata": {},
   "outputs": [
    {
     "data": {
      "text/plain": [
       "(39644, 50)"
      ]
     },
     "execution_count": 26,
     "metadata": {},
     "output_type": "execute_result"
    }
   ],
   "source": [
    "df_rev.shape"
   ]
  },
  {
   "cell_type": "code",
   "execution_count": 27,
   "metadata": {},
   "outputs": [
    {
     "data": {
      "image/png": "[encoded data removed]",
      "text/plain": [
       "<Figure size 1152x576 with 1 Axes>"
      ]
     },
     "metadata": {},
     "output_type": "display_data"
    }
   ],
   "source": [
    "plt.figure(figsize=(16,8))\n",
    "\n",
    "\n",
    "ax= df_revO['n_tokens_content'].hist(bins=54)\n",
    "   \n",
    "ax.set_ylabel('Articles', fontsize=20)\n",
    "ax.set_xlabel('Number of Words', fontsize=20)\n",
    "\n",
    "plt.show()"
   ]
  },
  {
   "cell_type": "code",
   "execution_count": null,
   "metadata": {},
   "outputs": [],
   "source": [
    "for i in ['num_videos']:\n",
    "    Q25 = df_rev[i].quantile(0.25)\n",
    "    Q75 = df_rev[i].quantile(0.75)\n",
    "    IQR = Q75-Q25\n",
    "    MaxQ = Q75+2*IQR\n",
    "    MinQ = max(Q25-1.5*IQR,0.0)\n",
    "    print(MinQ, MaxQ)"
   ]
  },
  {
   "cell_type": "code",
   "execution_count": null,
   "metadata": {},
   "outputs": [],
   "source": [
    "df_revO = df_revO[(df_revO['num_videos']<=MaxQ) & (df_revO['num_videos']>=MinQ)  ]"
   ]
  },
  {
   "cell_type": "code",
   "execution_count": null,
   "metadata": {},
   "outputs": [],
   "source": [
    "df_revO.shape"
   ]
  },
  {
   "cell_type": "code",
   "execution_count": null,
   "metadata": {},
   "outputs": [],
   "source": [
    "plt.figure(figsize=(16,8))\n",
    "\n",
    "ax= df_revO['num_videos'].hist(bins=4)\n",
    "   \n",
    "ax.set_ylabel('Articles', fontsize=20)\n",
    "ax.set_xlabel('Number of Videos', fontsize=20)\n",
    "\n",
    "plt.show()"
   ]
  },
  {
   "cell_type": "code",
   "execution_count": null,
   "metadata": {},
   "outputs": [],
   "source": []
  },
  {
   "cell_type": "code",
   "execution_count": null,
   "metadata": {},
   "outputs": [],
   "source": []
  },
  {
   "cell_type": "markdown",
   "metadata": {},
   "source": [
    "# Develop Model for Analysis"
   ]
  },
  {
   "cell_type": "code",
   "execution_count": 28,
   "metadata": {},
   "outputs": [],
   "source": [
    "df.columns = df.columns.str.replace(' ','')"
   ]
  },
  {
   "cell_type": "code",
   "execution_count": 29,
   "metadata": {},
   "outputs": [
    {
     "data": {
      "text/plain": [
       "Index(['url', 'timedelta', 'n_tokens_title', 'n_tokens_content',\n",
       "       'n_unique_tokens', 'n_non_stop_words', 'n_non_stop_unique_tokens',\n",
       "       'num_hrefs', 'num_self_hrefs', 'num_imgs', 'num_videos',\n",
       "       'average_token_length', 'num_keywords', 'data_channel_is_lifestyle',\n",
       "       'data_channel_is_entertainment', 'data_channel_is_bus',\n",
       "       'data_channel_is_socmed', 'data_channel_is_tech',\n",
       "       'data_channel_is_world', 'kw_min_min', 'kw_max_min', 'kw_avg_min',\n",
       "       'kw_min_max', 'kw_max_max', 'kw_avg_max', 'kw_min_avg', 'kw_max_avg',\n",
       "       'kw_avg_avg', 'self_reference_min_shares', 'self_reference_max_shares',\n",
       "       'self_reference_avg_sharess', 'weekday_is_monday', 'weekday_is_tuesday',\n",
       "       'weekday_is_wednesday', 'weekday_is_thursday', 'weekday_is_friday',\n",
       "       'weekday_is_saturday', 'weekday_is_sunday', 'is_weekend', 'LDA_00',\n",
       "       'LDA_01', 'LDA_02', 'LDA_03', 'LDA_04', 'global_subjectivity',\n",
       "       'global_sentiment_polarity', 'global_rate_positive_words',\n",
       "       'global_rate_negative_words', 'rate_positive_words',\n",
       "       'rate_negative_words', 'avg_positive_polarity', 'min_positive_polarity',\n",
       "       'max_positive_polarity', 'avg_negative_polarity',\n",
       "       'min_negative_polarity', 'max_negative_polarity', 'title_subjectivity',\n",
       "       'title_sentiment_polarity', 'abs_title_subjectivity',\n",
       "       'abs_title_sentiment_polarity', 'shares'],\n",
       "      dtype='object')"
      ]
     },
     "execution_count": 29,
     "metadata": {},
     "output_type": "execute_result"
    }
   ],
   "source": [
    "df.columns"
   ]
  },
  {
   "cell_type": "code",
   "execution_count": 30,
   "metadata": {},
   "outputs": [],
   "source": [
    "dff = df.copy()\n",
    "\n",
    "def iqr_fun(i,dff):\n",
    "    Q25 = dff[i].quantile(0.25)\n",
    "    Q75 = dff[i].quantile(0.75)\n",
    "    IQR = Q75-Q25\n",
    "    MaxQ = round(Q75+1.5*IQR,0)+1\n",
    "    MinQ = round((Q25-1.5*IQR),0)-1\n",
    "    print(MinQ, MaxQ)\n",
    "    return [MinQ, MaxQ]"
   ]
  },
  {
   "cell_type": "code",
   "execution_count": 31,
   "metadata": {},
   "outputs": [
    {
     "data": {
      "text/plain": [
       "(39644, 61)"
      ]
     },
     "execution_count": 31,
     "metadata": {},
     "output_type": "execute_result"
    }
   ],
   "source": [
    "dff.shape"
   ]
  },
  {
   "cell_type": "code",
   "execution_count": 32,
   "metadata": {},
   "outputs": [],
   "source": [
    "dff.drop(['url','timedelta'],axis=1,inplace=True)"
   ]
  },
  {
   "cell_type": "code",
   "execution_count": 33,
   "metadata": {},
   "outputs": [],
   "source": [
    "import statsmodels.formula.api as smf\n",
    "\n",
    "def get_vif(exogs, data):\n",
    "    vif_array = np.array([])\n",
    "    tolerance_array = np.array([])\n",
    "    \n",
    "    for exog in exogs:\n",
    "        not_exog = [i for i in exogs if i != exog]\n",
    "        formula = f\"{exog} ~ {' + '.join(not_exog)}\"\n",
    "        \n",
    "        r_squared = smf.ols(formula, data=data).fit().rsquared   #rsquared is the fitting of the model.\n",
    "        \n",
    "        vif = 1/(1-r_squared)\n",
    "        vif_array = np.append(vif_array,vif).round(2)\n",
    "        \n",
    "        tolerance = 1-r_squared\n",
    "        tolerance_array = np.append(tolerance_array,tolerance).round(2)\n",
    "    \n",
    "    df_vif = pd.DataFrame({'VIF':vif_array,'Tolerance':tolerance_array},index=exogs)\n",
    "    \n",
    "    return df_vif"
   ]
  },
  {
   "cell_type": "code",
   "execution_count": 48,
   "metadata": {},
   "outputs": [
    {
     "name": "stderr",
     "output_type": "stream",
     "text": [
      "C:\\Users\\Tom N\\Anaconda3\\lib\\site-packages\\ipykernel_launcher.py:13: RuntimeWarning: divide by zero encountered in double_scalars\n",
      "  del sys.path[0]\n"
     ]
    },
    {
     "data": {
      "text/html": [
       "<div>\n",
       "<style scoped>\n",
       "    .dataframe tbody tr th:only-of-type {\n",
       "        vertical-align: middle;\n",
       "    }\n",
       "\n",
       "    .dataframe tbody tr th {\n",
       "        vertical-align: top;\n",
       "    }\n",
       "\n",
       "    .dataframe thead th {\n",
       "        text-align: right;\n",
       "    }\n",
       "</style>\n",
       "<table border=\"1\" class=\"dataframe\">\n",
       "  <thead>\n",
       "    <tr style=\"text-align: right;\">\n",
       "      <th></th>\n",
       "      <th>VIF</th>\n",
       "      <th>Tolerance</th>\n",
       "    </tr>\n",
       "  </thead>\n",
       "  <tbody>\n",
       "    <tr>\n",
       "      <th>n_tokens_title</th>\n",
       "      <td>1.100000e+00</td>\n",
       "      <td>0.91</td>\n",
       "    </tr>\n",
       "    <tr>\n",
       "      <th>n_tokens_content</th>\n",
       "      <td>3.320000e+00</td>\n",
       "      <td>0.30</td>\n",
       "    </tr>\n",
       "    <tr>\n",
       "      <th>n_unique_tokens</th>\n",
       "      <td>1.367823e+04</td>\n",
       "      <td>0.00</td>\n",
       "    </tr>\n",
       "    <tr>\n",
       "      <th>n_non_stop_words</th>\n",
       "      <td>2.866077e+05</td>\n",
       "      <td>0.00</td>\n",
       "    </tr>\n",
       "    <tr>\n",
       "      <th>n_non_stop_unique_tokens</th>\n",
       "      <td>8.483750e+03</td>\n",
       "      <td>0.00</td>\n",
       "    </tr>\n",
       "    <tr>\n",
       "      <th>num_hrefs</th>\n",
       "      <td>1.730000e+00</td>\n",
       "      <td>0.58</td>\n",
       "    </tr>\n",
       "    <tr>\n",
       "      <th>num_self_hrefs</th>\n",
       "      <td>1.410000e+00</td>\n",
       "      <td>0.71</td>\n",
       "    </tr>\n",
       "    <tr>\n",
       "      <th>num_imgs</th>\n",
       "      <td>1.650000e+00</td>\n",
       "      <td>0.60</td>\n",
       "    </tr>\n",
       "    <tr>\n",
       "      <th>num_videos</th>\n",
       "      <td>1.250000e+00</td>\n",
       "      <td>0.80</td>\n",
       "    </tr>\n",
       "    <tr>\n",
       "      <th>average_token_length</th>\n",
       "      <td>1.261000e+01</td>\n",
       "      <td>0.08</td>\n",
       "    </tr>\n",
       "    <tr>\n",
       "      <th>num_keywords</th>\n",
       "      <td>1.510000e+00</td>\n",
       "      <td>0.66</td>\n",
       "    </tr>\n",
       "    <tr>\n",
       "      <th>data_channel_is_lifestyle</th>\n",
       "      <td>2.340000e+00</td>\n",
       "      <td>0.43</td>\n",
       "    </tr>\n",
       "    <tr>\n",
       "      <th>data_channel_is_entertainment</th>\n",
       "      <td>2.860000e+00</td>\n",
       "      <td>0.35</td>\n",
       "    </tr>\n",
       "    <tr>\n",
       "      <th>data_channel_is_bus</th>\n",
       "      <td>5.840000e+00</td>\n",
       "      <td>0.17</td>\n",
       "    </tr>\n",
       "    <tr>\n",
       "      <th>data_channel_is_socmed</th>\n",
       "      <td>2.290000e+00</td>\n",
       "      <td>0.44</td>\n",
       "    </tr>\n",
       "    <tr>\n",
       "      <th>data_channel_is_tech</th>\n",
       "      <td>6.240000e+00</td>\n",
       "      <td>0.16</td>\n",
       "    </tr>\n",
       "    <tr>\n",
       "      <th>data_channel_is_world</th>\n",
       "      <td>7.110000e+00</td>\n",
       "      <td>0.14</td>\n",
       "    </tr>\n",
       "    <tr>\n",
       "      <th>kw_min_min</th>\n",
       "      <td>3.830000e+00</td>\n",
       "      <td>0.26</td>\n",
       "    </tr>\n",
       "    <tr>\n",
       "      <th>kw_max_min</th>\n",
       "      <td>1.121000e+01</td>\n",
       "      <td>0.09</td>\n",
       "    </tr>\n",
       "    <tr>\n",
       "      <th>kw_avg_min</th>\n",
       "      <td>1.095000e+01</td>\n",
       "      <td>0.09</td>\n",
       "    </tr>\n",
       "    <tr>\n",
       "      <th>kw_min_max</th>\n",
       "      <td>1.390000e+00</td>\n",
       "      <td>0.72</td>\n",
       "    </tr>\n",
       "    <tr>\n",
       "      <th>kw_max_max</th>\n",
       "      <td>4.620000e+00</td>\n",
       "      <td>0.22</td>\n",
       "    </tr>\n",
       "    <tr>\n",
       "      <th>kw_avg_max</th>\n",
       "      <td>3.760000e+00</td>\n",
       "      <td>0.27</td>\n",
       "    </tr>\n",
       "    <tr>\n",
       "      <th>kw_min_avg</th>\n",
       "      <td>2.220000e+00</td>\n",
       "      <td>0.45</td>\n",
       "    </tr>\n",
       "    <tr>\n",
       "      <th>kw_max_avg</th>\n",
       "      <td>7.150000e+00</td>\n",
       "      <td>0.14</td>\n",
       "    </tr>\n",
       "    <tr>\n",
       "      <th>kw_avg_avg</th>\n",
       "      <td>1.081000e+01</td>\n",
       "      <td>0.09</td>\n",
       "    </tr>\n",
       "    <tr>\n",
       "      <th>self_reference_min_shares</th>\n",
       "      <td>6.620000e+00</td>\n",
       "      <td>0.15</td>\n",
       "    </tr>\n",
       "    <tr>\n",
       "      <th>self_reference_max_shares</th>\n",
       "      <td>8.410000e+00</td>\n",
       "      <td>0.12</td>\n",
       "    </tr>\n",
       "    <tr>\n",
       "      <th>self_reference_avg_sharess</th>\n",
       "      <td>1.915000e+01</td>\n",
       "      <td>0.05</td>\n",
       "    </tr>\n",
       "    <tr>\n",
       "      <th>weekday_is_monday</th>\n",
       "      <td>inf</td>\n",
       "      <td>0.00</td>\n",
       "    </tr>\n",
       "    <tr>\n",
       "      <th>weekday_is_tuesday</th>\n",
       "      <td>inf</td>\n",
       "      <td>0.00</td>\n",
       "    </tr>\n",
       "    <tr>\n",
       "      <th>weekday_is_wednesday</th>\n",
       "      <td>inf</td>\n",
       "      <td>0.00</td>\n",
       "    </tr>\n",
       "    <tr>\n",
       "      <th>weekday_is_thursday</th>\n",
       "      <td>inf</td>\n",
       "      <td>0.00</td>\n",
       "    </tr>\n",
       "    <tr>\n",
       "      <th>weekday_is_friday</th>\n",
       "      <td>inf</td>\n",
       "      <td>0.00</td>\n",
       "    </tr>\n",
       "    <tr>\n",
       "      <th>weekday_is_saturday</th>\n",
       "      <td>inf</td>\n",
       "      <td>0.00</td>\n",
       "    </tr>\n",
       "    <tr>\n",
       "      <th>weekday_is_sunday</th>\n",
       "      <td>inf</td>\n",
       "      <td>0.00</td>\n",
       "    </tr>\n",
       "    <tr>\n",
       "      <th>is_weekend</th>\n",
       "      <td>inf</td>\n",
       "      <td>0.00</td>\n",
       "    </tr>\n",
       "    <tr>\n",
       "      <th>LDA_00</th>\n",
       "      <td>7.788946e+08</td>\n",
       "      <td>0.00</td>\n",
       "    </tr>\n",
       "    <tr>\n",
       "      <th>LDA_01</th>\n",
       "      <td>5.436743e+08</td>\n",
       "      <td>0.00</td>\n",
       "    </tr>\n",
       "    <tr>\n",
       "      <th>LDA_02</th>\n",
       "      <td>8.965942e+08</td>\n",
       "      <td>0.00</td>\n",
       "    </tr>\n",
       "    <tr>\n",
       "      <th>LDA_03</th>\n",
       "      <td>9.814193e+08</td>\n",
       "      <td>0.00</td>\n",
       "    </tr>\n",
       "    <tr>\n",
       "      <th>LDA_04</th>\n",
       "      <td>9.418827e+08</td>\n",
       "      <td>0.00</td>\n",
       "    </tr>\n",
       "    <tr>\n",
       "      <th>global_subjectivity</th>\n",
       "      <td>2.950000e+00</td>\n",
       "      <td>0.34</td>\n",
       "    </tr>\n",
       "    <tr>\n",
       "      <th>global_sentiment_polarity</th>\n",
       "      <td>7.830000e+00</td>\n",
       "      <td>0.13</td>\n",
       "    </tr>\n",
       "    <tr>\n",
       "      <th>global_rate_positive_words</th>\n",
       "      <td>4.680000e+00</td>\n",
       "      <td>0.21</td>\n",
       "    </tr>\n",
       "    <tr>\n",
       "      <th>global_rate_negative_words</th>\n",
       "      <td>6.570000e+00</td>\n",
       "      <td>0.15</td>\n",
       "    </tr>\n",
       "    <tr>\n",
       "      <th>rate_positive_words</th>\n",
       "      <td>3.618600e+02</td>\n",
       "      <td>0.00</td>\n",
       "    </tr>\n",
       "    <tr>\n",
       "      <th>rate_negative_words</th>\n",
       "      <td>2.477700e+02</td>\n",
       "      <td>0.00</td>\n",
       "    </tr>\n",
       "    <tr>\n",
       "      <th>avg_positive_polarity</th>\n",
       "      <td>6.120000e+00</td>\n",
       "      <td>0.16</td>\n",
       "    </tr>\n",
       "    <tr>\n",
       "      <th>min_positive_polarity</th>\n",
       "      <td>2.000000e+00</td>\n",
       "      <td>0.50</td>\n",
       "    </tr>\n",
       "    <tr>\n",
       "      <th>max_positive_polarity</th>\n",
       "      <td>3.420000e+00</td>\n",
       "      <td>0.29</td>\n",
       "    </tr>\n",
       "    <tr>\n",
       "      <th>avg_negative_polarity</th>\n",
       "      <td>7.750000e+00</td>\n",
       "      <td>0.13</td>\n",
       "    </tr>\n",
       "    <tr>\n",
       "      <th>min_negative_polarity</th>\n",
       "      <td>5.320000e+00</td>\n",
       "      <td>0.19</td>\n",
       "    </tr>\n",
       "    <tr>\n",
       "      <th>max_negative_polarity</th>\n",
       "      <td>2.990000e+00</td>\n",
       "      <td>0.33</td>\n",
       "    </tr>\n",
       "    <tr>\n",
       "      <th>title_subjectivity</th>\n",
       "      <td>2.370000e+00</td>\n",
       "      <td>0.42</td>\n",
       "    </tr>\n",
       "    <tr>\n",
       "      <th>title_sentiment_polarity</th>\n",
       "      <td>1.320000e+00</td>\n",
       "      <td>0.75</td>\n",
       "    </tr>\n",
       "    <tr>\n",
       "      <th>abs_title_subjectivity</th>\n",
       "      <td>1.420000e+00</td>\n",
       "      <td>0.71</td>\n",
       "    </tr>\n",
       "    <tr>\n",
       "      <th>abs_title_sentiment_polarity</th>\n",
       "      <td>2.400000e+00</td>\n",
       "      <td>0.42</td>\n",
       "    </tr>\n",
       "    <tr>\n",
       "      <th>shares</th>\n",
       "      <td>1.020000e+00</td>\n",
       "      <td>0.98</td>\n",
       "    </tr>\n",
       "  </tbody>\n",
       "</table>\n",
       "</div>"
      ],
      "text/plain": [
       "                                        VIF  Tolerance\n",
       "n_tokens_title                 1.100000e+00       0.91\n",
       "n_tokens_content               3.320000e+00       0.30\n",
       "n_unique_tokens                1.367823e+04       0.00\n",
       "n_non_stop_words               2.866077e+05       0.00\n",
       "n_non_stop_unique_tokens       8.483750e+03       0.00\n",
       "num_hrefs                      1.730000e+00       0.58\n",
       "num_self_hrefs                 1.410000e+00       0.71\n",
       "num_imgs                       1.650000e+00       0.60\n",
       "num_videos                     1.250000e+00       0.80\n",
       "average_token_length           1.261000e+01       0.08\n",
       "num_keywords                   1.510000e+00       0.66\n",
       "data_channel_is_lifestyle      2.340000e+00       0.43\n",
       "data_channel_is_entertainment  2.860000e+00       0.35\n",
       "data_channel_is_bus            5.840000e+00       0.17\n",
       "data_channel_is_socmed         2.290000e+00       0.44\n",
       "data_channel_is_tech           6.240000e+00       0.16\n",
       "data_channel_is_world          7.110000e+00       0.14\n",
       "kw_min_min                     3.830000e+00       0.26\n",
       "kw_max_min                     1.121000e+01       0.09\n",
       "kw_avg_min                     1.095000e+01       0.09\n",
       "kw_min_max                     1.390000e+00       0.72\n",
       "kw_max_max                     4.620000e+00       0.22\n",
       "kw_avg_max                     3.760000e+00       0.27\n",
       "kw_min_avg                     2.220000e+00       0.45\n",
       "kw_max_avg                     7.150000e+00       0.14\n",
       "kw_avg_avg                     1.081000e+01       0.09\n",
       "self_reference_min_shares      6.620000e+00       0.15\n",
       "self_reference_max_shares      8.410000e+00       0.12\n",
       "self_reference_avg_sharess     1.915000e+01       0.05\n",
       "weekday_is_monday                       inf       0.00\n",
       "weekday_is_tuesday                      inf       0.00\n",
       "weekday_is_wednesday                    inf       0.00\n",
       "weekday_is_thursday                     inf       0.00\n",
       "weekday_is_friday                       inf       0.00\n",
       "weekday_is_saturday                     inf       0.00\n",
       "weekday_is_sunday                       inf       0.00\n",
       "is_weekend                              inf       0.00\n",
       "LDA_00                         7.788946e+08       0.00\n",
       "LDA_01                         5.436743e+08       0.00\n",
       "LDA_02                         8.965942e+08       0.00\n",
       "LDA_03                         9.814193e+08       0.00\n",
       "LDA_04                         9.418827e+08       0.00\n",
       "global_subjectivity            2.950000e+00       0.34\n",
       "global_sentiment_polarity      7.830000e+00       0.13\n",
       "global_rate_positive_words     4.680000e+00       0.21\n",
       "global_rate_negative_words     6.570000e+00       0.15\n",
       "rate_positive_words            3.618600e+02       0.00\n",
       "rate_negative_words            2.477700e+02       0.00\n",
       "avg_positive_polarity          6.120000e+00       0.16\n",
       "min_positive_polarity          2.000000e+00       0.50\n",
       "max_positive_polarity          3.420000e+00       0.29\n",
       "avg_negative_polarity          7.750000e+00       0.13\n",
       "min_negative_polarity          5.320000e+00       0.19\n",
       "max_negative_polarity          2.990000e+00       0.33\n",
       "title_subjectivity             2.370000e+00       0.42\n",
       "title_sentiment_polarity       1.320000e+00       0.75\n",
       "abs_title_subjectivity         1.420000e+00       0.71\n",
       "abs_title_sentiment_polarity   2.400000e+00       0.42\n",
       "shares                         1.020000e+00       0.98"
      ]
     },
     "execution_count": 48,
     "metadata": {},
     "output_type": "execute_result"
    }
   ],
   "source": [
    "get_vif(exogs=dff.columns,data=dff)"
   ]
  },
  {
   "cell_type": "code",
   "execution_count": 34,
   "metadata": {},
   "outputs": [],
   "source": [
    "df_v = dff.copy()"
   ]
  },
  {
   "cell_type": "code",
   "execution_count": 35,
   "metadata": {},
   "outputs": [],
   "source": [
    "df_v.drop(['is_weekend'],axis=1,inplace=True)\n",
    "df_v.drop(['weekday_is_monday'],axis=1,inplace=True)\n",
    "df_v.drop(['LDA_04'],axis=1,inplace=True)\n",
    "df_v.drop(['n_unique_tokens'],axis=1,inplace=True)\n",
    "df_v.drop(['n_non_stop_unique_tokens'],axis=1,inplace=True)\n",
    "df_v.drop(['self_reference_avg_sharess'],axis=1,inplace=True)\n",
    "df_v.drop(['rate_positive_words'],axis=1,inplace=True)\n",
    "df_v.drop(['kw_max_min'],axis=1,inplace=True)"
   ]
  },
  {
   "cell_type": "code",
   "execution_count": 37,
   "metadata": {},
   "outputs": [
    {
     "data": {
      "text/html": [
       "<div>\n",
       "<style scoped>\n",
       "    .dataframe tbody tr th:only-of-type {\n",
       "        vertical-align: middle;\n",
       "    }\n",
       "\n",
       "    .dataframe tbody tr th {\n",
       "        vertical-align: top;\n",
       "    }\n",
       "\n",
       "    .dataframe thead th {\n",
       "        text-align: right;\n",
       "    }\n",
       "</style>\n",
       "<table border=\"1\" class=\"dataframe\">\n",
       "  <thead>\n",
       "    <tr style=\"text-align: right;\">\n",
       "      <th></th>\n",
       "      <th>VIF</th>\n",
       "      <th>Tolerance</th>\n",
       "    </tr>\n",
       "  </thead>\n",
       "  <tbody>\n",
       "    <tr>\n",
       "      <th>n_tokens_title</th>\n",
       "      <td>1.09</td>\n",
       "      <td>0.92</td>\n",
       "    </tr>\n",
       "    <tr>\n",
       "      <th>n_tokens_content</th>\n",
       "      <td>2.19</td>\n",
       "      <td>0.46</td>\n",
       "    </tr>\n",
       "    <tr>\n",
       "      <th>n_non_stop_words</th>\n",
       "      <td>1.00</td>\n",
       "      <td>1.00</td>\n",
       "    </tr>\n",
       "    <tr>\n",
       "      <th>num_hrefs</th>\n",
       "      <td>1.64</td>\n",
       "      <td>0.61</td>\n",
       "    </tr>\n",
       "    <tr>\n",
       "      <th>num_self_hrefs</th>\n",
       "      <td>1.37</td>\n",
       "      <td>0.73</td>\n",
       "    </tr>\n",
       "    <tr>\n",
       "      <th>num_imgs</th>\n",
       "      <td>1.43</td>\n",
       "      <td>0.70</td>\n",
       "    </tr>\n",
       "    <tr>\n",
       "      <th>num_videos</th>\n",
       "      <td>1.24</td>\n",
       "      <td>0.81</td>\n",
       "    </tr>\n",
       "    <tr>\n",
       "      <th>average_token_length</th>\n",
       "      <td>2.95</td>\n",
       "      <td>0.34</td>\n",
       "    </tr>\n",
       "    <tr>\n",
       "      <th>num_keywords</th>\n",
       "      <td>1.49</td>\n",
       "      <td>0.67</td>\n",
       "    </tr>\n",
       "    <tr>\n",
       "      <th>data_channel_is_lifestyle</th>\n",
       "      <td>2.32</td>\n",
       "      <td>0.43</td>\n",
       "    </tr>\n",
       "    <tr>\n",
       "      <th>data_channel_is_entertainment</th>\n",
       "      <td>2.82</td>\n",
       "      <td>0.35</td>\n",
       "    </tr>\n",
       "    <tr>\n",
       "      <th>data_channel_is_bus</th>\n",
       "      <td>5.78</td>\n",
       "      <td>0.17</td>\n",
       "    </tr>\n",
       "    <tr>\n",
       "      <th>data_channel_is_socmed</th>\n",
       "      <td>2.28</td>\n",
       "      <td>0.44</td>\n",
       "    </tr>\n",
       "    <tr>\n",
       "      <th>data_channel_is_tech</th>\n",
       "      <td>6.18</td>\n",
       "      <td>0.16</td>\n",
       "    </tr>\n",
       "    <tr>\n",
       "      <th>data_channel_is_world</th>\n",
       "      <td>7.04</td>\n",
       "      <td>0.14</td>\n",
       "    </tr>\n",
       "    <tr>\n",
       "      <th>kw_min_min</th>\n",
       "      <td>3.81</td>\n",
       "      <td>0.26</td>\n",
       "    </tr>\n",
       "    <tr>\n",
       "      <th>kw_avg_min</th>\n",
       "      <td>1.57</td>\n",
       "      <td>0.64</td>\n",
       "    </tr>\n",
       "    <tr>\n",
       "      <th>kw_min_max</th>\n",
       "      <td>1.39</td>\n",
       "      <td>0.72</td>\n",
       "    </tr>\n",
       "    <tr>\n",
       "      <th>kw_max_max</th>\n",
       "      <td>4.61</td>\n",
       "      <td>0.22</td>\n",
       "    </tr>\n",
       "    <tr>\n",
       "      <th>kw_avg_max</th>\n",
       "      <td>3.62</td>\n",
       "      <td>0.28</td>\n",
       "    </tr>\n",
       "    <tr>\n",
       "      <th>kw_min_avg</th>\n",
       "      <td>2.15</td>\n",
       "      <td>0.46</td>\n",
       "    </tr>\n",
       "    <tr>\n",
       "      <th>kw_max_avg</th>\n",
       "      <td>6.25</td>\n",
       "      <td>0.16</td>\n",
       "    </tr>\n",
       "    <tr>\n",
       "      <th>kw_avg_avg</th>\n",
       "      <td>9.91</td>\n",
       "      <td>0.10</td>\n",
       "    </tr>\n",
       "    <tr>\n",
       "      <th>self_reference_min_shares</th>\n",
       "      <td>1.33</td>\n",
       "      <td>0.75</td>\n",
       "    </tr>\n",
       "    <tr>\n",
       "      <th>self_reference_max_shares</th>\n",
       "      <td>1.40</td>\n",
       "      <td>0.71</td>\n",
       "    </tr>\n",
       "    <tr>\n",
       "      <th>weekday_is_tuesday</th>\n",
       "      <td>1.72</td>\n",
       "      <td>0.58</td>\n",
       "    </tr>\n",
       "    <tr>\n",
       "      <th>weekday_is_wednesday</th>\n",
       "      <td>1.72</td>\n",
       "      <td>0.58</td>\n",
       "    </tr>\n",
       "    <tr>\n",
       "      <th>weekday_is_thursday</th>\n",
       "      <td>1.71</td>\n",
       "      <td>0.58</td>\n",
       "    </tr>\n",
       "    <tr>\n",
       "      <th>weekday_is_friday</th>\n",
       "      <td>1.60</td>\n",
       "      <td>0.63</td>\n",
       "    </tr>\n",
       "    <tr>\n",
       "      <th>weekday_is_saturday</th>\n",
       "      <td>1.30</td>\n",
       "      <td>0.77</td>\n",
       "    </tr>\n",
       "    <tr>\n",
       "      <th>weekday_is_sunday</th>\n",
       "      <td>1.33</td>\n",
       "      <td>0.75</td>\n",
       "    </tr>\n",
       "    <tr>\n",
       "      <th>LDA_00</th>\n",
       "      <td>4.33</td>\n",
       "      <td>0.23</td>\n",
       "    </tr>\n",
       "    <tr>\n",
       "      <th>LDA_01</th>\n",
       "      <td>3.70</td>\n",
       "      <td>0.27</td>\n",
       "    </tr>\n",
       "    <tr>\n",
       "      <th>LDA_02</th>\n",
       "      <td>4.96</td>\n",
       "      <td>0.20</td>\n",
       "    </tr>\n",
       "    <tr>\n",
       "      <th>LDA_03</th>\n",
       "      <td>5.99</td>\n",
       "      <td>0.17</td>\n",
       "    </tr>\n",
       "    <tr>\n",
       "      <th>global_subjectivity</th>\n",
       "      <td>2.77</td>\n",
       "      <td>0.36</td>\n",
       "    </tr>\n",
       "    <tr>\n",
       "      <th>global_sentiment_polarity</th>\n",
       "      <td>7.81</td>\n",
       "      <td>0.13</td>\n",
       "    </tr>\n",
       "    <tr>\n",
       "      <th>global_rate_positive_words</th>\n",
       "      <td>4.35</td>\n",
       "      <td>0.23</td>\n",
       "    </tr>\n",
       "    <tr>\n",
       "      <th>global_rate_negative_words</th>\n",
       "      <td>6.40</td>\n",
       "      <td>0.16</td>\n",
       "    </tr>\n",
       "    <tr>\n",
       "      <th>rate_negative_words</th>\n",
       "      <td>8.65</td>\n",
       "      <td>0.12</td>\n",
       "    </tr>\n",
       "    <tr>\n",
       "      <th>avg_positive_polarity</th>\n",
       "      <td>6.08</td>\n",
       "      <td>0.16</td>\n",
       "    </tr>\n",
       "    <tr>\n",
       "      <th>min_positive_polarity</th>\n",
       "      <td>1.93</td>\n",
       "      <td>0.52</td>\n",
       "    </tr>\n",
       "    <tr>\n",
       "      <th>max_positive_polarity</th>\n",
       "      <td>3.29</td>\n",
       "      <td>0.30</td>\n",
       "    </tr>\n",
       "    <tr>\n",
       "      <th>avg_negative_polarity</th>\n",
       "      <td>7.74</td>\n",
       "      <td>0.13</td>\n",
       "    </tr>\n",
       "    <tr>\n",
       "      <th>min_negative_polarity</th>\n",
       "      <td>5.25</td>\n",
       "      <td>0.19</td>\n",
       "    </tr>\n",
       "    <tr>\n",
       "      <th>max_negative_polarity</th>\n",
       "      <td>2.94</td>\n",
       "      <td>0.34</td>\n",
       "    </tr>\n",
       "    <tr>\n",
       "      <th>title_subjectivity</th>\n",
       "      <td>2.37</td>\n",
       "      <td>0.42</td>\n",
       "    </tr>\n",
       "    <tr>\n",
       "      <th>title_sentiment_polarity</th>\n",
       "      <td>1.32</td>\n",
       "      <td>0.76</td>\n",
       "    </tr>\n",
       "    <tr>\n",
       "      <th>abs_title_subjectivity</th>\n",
       "      <td>1.42</td>\n",
       "      <td>0.71</td>\n",
       "    </tr>\n",
       "    <tr>\n",
       "      <th>abs_title_sentiment_polarity</th>\n",
       "      <td>2.40</td>\n",
       "      <td>0.42</td>\n",
       "    </tr>\n",
       "    <tr>\n",
       "      <th>shares</th>\n",
       "      <td>1.02</td>\n",
       "      <td>0.98</td>\n",
       "    </tr>\n",
       "  </tbody>\n",
       "</table>\n",
       "</div>"
      ],
      "text/plain": [
       "                                VIF  Tolerance\n",
       "n_tokens_title                 1.09       0.92\n",
       "n_tokens_content               2.19       0.46\n",
       "n_non_stop_words               1.00       1.00\n",
       "num_hrefs                      1.64       0.61\n",
       "num_self_hrefs                 1.37       0.73\n",
       "num_imgs                       1.43       0.70\n",
       "num_videos                     1.24       0.81\n",
       "average_token_length           2.95       0.34\n",
       "num_keywords                   1.49       0.67\n",
       "data_channel_is_lifestyle      2.32       0.43\n",
       "data_channel_is_entertainment  2.82       0.35\n",
       "data_channel_is_bus            5.78       0.17\n",
       "data_channel_is_socmed         2.28       0.44\n",
       "data_channel_is_tech           6.18       0.16\n",
       "data_channel_is_world          7.04       0.14\n",
       "kw_min_min                     3.81       0.26\n",
       "kw_avg_min                     1.57       0.64\n",
       "kw_min_max                     1.39       0.72\n",
       "kw_max_max                     4.61       0.22\n",
       "kw_avg_max                     3.62       0.28\n",
       "kw_min_avg                     2.15       0.46\n",
       "kw_max_avg                     6.25       0.16\n",
       "kw_avg_avg                     9.91       0.10\n",
       "self_reference_min_shares      1.33       0.75\n",
       "self_reference_max_shares      1.40       0.71\n",
       "weekday_is_tuesday             1.72       0.58\n",
       "weekday_is_wednesday           1.72       0.58\n",
       "weekday_is_thursday            1.71       0.58\n",
       "weekday_is_friday              1.60       0.63\n",
       "weekday_is_saturday            1.30       0.77\n",
       "weekday_is_sunday              1.33       0.75\n",
       "LDA_00                         4.33       0.23\n",
       "LDA_01                         3.70       0.27\n",
       "LDA_02                         4.96       0.20\n",
       "LDA_03                         5.99       0.17\n",
       "global_subjectivity            2.77       0.36\n",
       "global_sentiment_polarity      7.81       0.13\n",
       "global_rate_positive_words     4.35       0.23\n",
       "global_rate_negative_words     6.40       0.16\n",
       "rate_negative_words            8.65       0.12\n",
       "avg_positive_polarity          6.08       0.16\n",
       "min_positive_polarity          1.93       0.52\n",
       "max_positive_polarity          3.29       0.30\n",
       "avg_negative_polarity          7.74       0.13\n",
       "min_negative_polarity          5.25       0.19\n",
       "max_negative_polarity          2.94       0.34\n",
       "title_subjectivity             2.37       0.42\n",
       "title_sentiment_polarity       1.32       0.76\n",
       "abs_title_subjectivity         1.42       0.71\n",
       "abs_title_sentiment_polarity   2.40       0.42\n",
       "shares                         1.02       0.98"
      ]
     },
     "execution_count": 37,
     "metadata": {},
     "output_type": "execute_result"
    }
   ],
   "source": [
    "get_vif(exogs=df_v.columns,data=df_v)"
   ]
  },
  {
   "cell_type": "code",
   "execution_count": 38,
   "metadata": {},
   "outputs": [
    {
     "data": {
      "text/plain": [
       "(39644, 51)"
      ]
     },
     "execution_count": 38,
     "metadata": {},
     "output_type": "execute_result"
    }
   ],
   "source": [
    "df_v.shape"
   ]
  },
  {
   "cell_type": "code",
   "execution_count": null,
   "metadata": {},
   "outputs": [],
   "source": []
  },
  {
   "cell_type": "code",
   "execution_count": 39,
   "metadata": {},
   "outputs": [
    {
     "name": "stdout",
     "output_type": "stream",
     "text": [
      "n_tokens_title\n",
      "3.0 17.0\n",
      "[3.0, 17.0]\n",
      "n_tokens_content\n",
      "-460.0 1422.0\n",
      "[-460.0, 1422.0]\n",
      "num_hrefs\n",
      "-11.0 27.0\n",
      "[-11.0, 27.0]\n",
      "num_self_hrefs\n",
      "-5.0 9.0\n",
      "[-5.0, 9.0]\n",
      "num_imgs\n",
      "-1.0 5.0\n",
      "[-1.0, 5.0]\n",
      "num_videos\n",
      "-3.0 3.0\n",
      "[-3.0, 3.0]\n",
      "num_keywords\n",
      "1.0 15.0\n",
      "[1.0, 15.0]\n",
      "kw_min_min\n",
      "-9.0 13.0\n",
      "[-9.0, 13.0]\n",
      "kw_avg_min\n",
      "-158.0 602.0\n",
      "[-158.0, 602.0]\n",
      "kw_min_max\n",
      "-11851.0 19751.0\n",
      "[-11851.0, 19751.0]\n",
      "kw_max_max\n",
      "843299.0 843301.0\n",
      "[843299.0, 843301.0]\n",
      "kw_avg_max\n",
      "8396.0 520626.0\n",
      "[8396.0, 520626.0]\n",
      "kw_min_avg\n",
      "-2359.0 3930.0\n",
      "[-2359.0, 3930.0]\n",
      "kw_max_avg\n",
      "862.0 7984.0\n",
      "[862.0, 7984.0]\n",
      "kw_avg_avg\n",
      "1089.0 4240.0\n",
      "[1089.0, 4240.0]\n",
      "self_reference_min_shares\n",
      "-2066.0 5240.0\n",
      "[-2066.0, 5240.0]\n",
      "self_reference_max_shares\n",
      "-4340.0 9484.0\n",
      "[-4340.0, 9484.0]\n"
     ]
    }
   ],
   "source": [
    "columns_out_v = ['n_tokens_title','n_tokens_content','num_hrefs','num_self_hrefs','num_imgs','num_videos','num_keywords',\n",
    "              'kw_min_min', \"kw_avg_min\", \"kw_min_max\", \"kw_max_max\",\"kw_avg_max\", \"kw_min_avg\",\n",
    "               \"kw_max_avg\",\"kw_avg_avg\",\"self_reference_min_shares\",\"self_reference_max_shares\"]\n",
    "\n",
    "for n in columns_out_v:\n",
    "    print(n)\n",
    "    \n",
    "    q = iqr_fun(n,df_v)\n",
    "    print(q)\n",
    "    \n",
    "    df_v = df_v[(df_v[n]<=q[1]) & (df_v[n]>=q[0])  ]"
   ]
  },
  {
   "cell_type": "code",
   "execution_count": 40,
   "metadata": {},
   "outputs": [
    {
     "data": {
      "text/plain": [
       "(11519, 51)"
      ]
     },
     "execution_count": 40,
     "metadata": {},
     "output_type": "execute_result"
    }
   ],
   "source": [
    "df_v.shape"
   ]
  },
  {
   "cell_type": "code",
   "execution_count": null,
   "metadata": {},
   "outputs": [],
   "source": []
  },
  {
   "cell_type": "code",
   "execution_count": null,
   "metadata": {},
   "outputs": [],
   "source": []
  },
  {
   "cell_type": "code",
   "execution_count": 41,
   "metadata": {},
   "outputs": [
    {
     "name": "stdout",
     "output_type": "stream",
     "text": [
      "3.0 17.0\n",
      "-460.0 1422.0\n",
      "-11.0 27.0\n",
      "-5.0 9.0\n",
      "-1.0 5.0\n",
      "-3.0 3.0\n",
      "1.0 15.0\n",
      "-9.0 13.0\n",
      "-419.0 1851.0\n",
      "-127.0 533.0\n",
      "-12601.0 21001.0\n",
      "843299.0 843301.0\n",
      "9624.0 521906.0\n",
      "-2367.0 3944.0\n",
      "887.0 7933.0\n",
      "1092.0 4223.0\n",
      "-1896.0 4978.0\n",
      "-4169.0 9221.0\n",
      "-1876.0 4966.0\n"
     ]
    }
   ],
   "source": [
    "columns_out = ['n_tokens_title','n_tokens_content','num_hrefs','num_self_hrefs','num_imgs','num_videos','num_keywords',\n",
    "              'kw_min_min', 'kw_max_min',\"kw_avg_min\", \"kw_min_max\", \"kw_max_max\",\"kw_avg_max\", \"kw_min_avg\",\n",
    "               \"kw_max_avg\",\"kw_avg_avg\",\"self_reference_min_shares\",\"self_reference_max_shares\",\n",
    "               \"self_reference_avg_sharess\"]\n",
    "\n",
    "for n in columns_out:\n",
    "\n",
    "    \n",
    "    q = iqr_fun(n,dff)\n",
    "    \n",
    "    dff = dff[(dff[n]<=q[1]) & (dff[n]>=q[0])  ]\n",
    "    \n",
    "    #print(dff.shape)"
   ]
  },
  {
   "cell_type": "code",
   "execution_count": 42,
   "metadata": {},
   "outputs": [
    {
     "data": {
      "text/plain": [
       "(11519, 51)"
      ]
     },
     "execution_count": 42,
     "metadata": {},
     "output_type": "execute_result"
    }
   ],
   "source": [
    "df_v.shape"
   ]
  },
  {
   "cell_type": "code",
   "execution_count": 43,
   "metadata": {},
   "outputs": [
    {
     "data": {
      "text/plain": [
       "(10793, 59)"
      ]
     },
     "execution_count": 43,
     "metadata": {},
     "output_type": "execute_result"
    }
   ],
   "source": [
    "dff.shape"
   ]
  },
  {
   "cell_type": "markdown",
   "metadata": {},
   "source": [
    "# Categorize Shares into Bins. Start with 2."
   ]
  },
  {
   "cell_type": "markdown",
   "metadata": {},
   "source": [
    "### Reduced df_v"
   ]
  },
  {
   "cell_type": "code",
   "execution_count": 44,
   "metadata": {},
   "outputs": [
    {
     "name": "stdout",
     "output_type": "stream",
     "text": [
      "0.0 3477.25\n"
     ]
    }
   ],
   "source": [
    "for i in ['shares']:\n",
    "    Q25 = df_v[i].quantile(0.25)\n",
    "    Q75 = df_v[i].quantile(0.75)\n",
    "    IQR = Q75-Q25\n",
    "    sMaxQ = Q75+1.5*IQR\n",
    "    sMinQ = max(Q25-1.5*IQR,0.0)\n",
    "    print(sMinQ, sMaxQ)"
   ]
  },
  {
   "cell_type": "code",
   "execution_count": 45,
   "metadata": {},
   "outputs": [
    {
     "data": {
      "text/plain": [
       "3500.0"
      ]
     },
     "execution_count": 45,
     "metadata": {},
     "output_type": "execute_result"
    }
   ],
   "source": [
    "round(sMaxQ,-2)"
   ]
  },
  {
   "cell_type": "code",
   "execution_count": 46,
   "metadata": {},
   "outputs": [],
   "source": [
    "df_v = df_v[df_v.shares<=(round(sMaxQ,-2))]"
   ]
  },
  {
   "cell_type": "code",
   "execution_count": 47,
   "metadata": {},
   "outputs": [
    {
     "data": {
      "text/plain": [
       "count    10223.000000\n",
       "mean      1279.780202\n",
       "std        668.623119\n",
       "min          5.000000\n",
       "25%        815.500000\n",
       "50%       1100.000000\n",
       "75%       1600.000000\n",
       "max       3500.000000\n",
       "Name: shares, dtype: float64"
      ]
     },
     "execution_count": 47,
     "metadata": {},
     "output_type": "execute_result"
    }
   ],
   "source": [
    "df_v.shares.describe()"
   ]
  },
  {
   "cell_type": "code",
   "execution_count": 48,
   "metadata": {},
   "outputs": [],
   "source": [
    "df_v.reset_index(drop=True, inplace=True)"
   ]
  },
  {
   "cell_type": "code",
   "execution_count": 49,
   "metadata": {},
   "outputs": [],
   "source": [
    "ser, bins = pd.qcut(df_v[\"shares\"], 2, retbins=True, labels=['poor','good'])\n",
    "df_v['share_cat'] = pd.cut(df_v[\"shares\"], bins=bins, labels=[0,1], include_lowest=True)"
   ]
  },
  {
   "cell_type": "code",
   "execution_count": 50,
   "metadata": {},
   "outputs": [],
   "source": [
    "df_v.drop(['shares'],axis=1,inplace=True)"
   ]
  },
  {
   "cell_type": "code",
   "execution_count": 51,
   "metadata": {},
   "outputs": [],
   "source": [
    "from sklearn.model_selection import train_test_split\n",
    "\n",
    "X_tr1, X_t1, y_tr1,y_t1 = train_test_split(df_v.drop('share_cat',axis=1), df_v['share_cat'], test_size=0.2)"
   ]
  },
  {
   "cell_type": "code",
   "execution_count": 124,
   "metadata": {},
   "outputs": [
    {
     "data": {
      "text/plain": [
       "n_tokens_title                    float64\n",
       "n_tokens_content                  float64\n",
       "n_non_stop_words                  float64\n",
       "num_hrefs                         float64\n",
       "num_self_hrefs                    float64\n",
       "num_imgs                          float64\n",
       "num_videos                        float64\n",
       "average_token_length              float64\n",
       "num_keywords                      float64\n",
       "data_channel_is_lifestyle         float64\n",
       "data_channel_is_entertainment     float64\n",
       "data_channel_is_bus               float64\n",
       "data_channel_is_socmed            float64\n",
       "data_channel_is_tech              float64\n",
       "data_channel_is_world             float64\n",
       "kw_min_min                        float64\n",
       "kw_avg_min                        float64\n",
       "kw_min_max                        float64\n",
       "kw_max_max                        float64\n",
       "kw_avg_max                        float64\n",
       "kw_min_avg                        float64\n",
       "kw_max_avg                        float64\n",
       "kw_avg_avg                        float64\n",
       "self_reference_min_shares         float64\n",
       "self_reference_max_shares         float64\n",
       "weekday_is_tuesday                float64\n",
       "weekday_is_wednesday              float64\n",
       "weekday_is_thursday               float64\n",
       "weekday_is_friday                 float64\n",
       "weekday_is_saturday               float64\n",
       "weekday_is_sunday                 float64\n",
       "LDA_00                            float64\n",
       "LDA_01                            float64\n",
       "LDA_02                            float64\n",
       "LDA_03                            float64\n",
       "global_subjectivity               float64\n",
       "global_sentiment_polarity         float64\n",
       "global_rate_positive_words        float64\n",
       "global_rate_negative_words        float64\n",
       "rate_negative_words               float64\n",
       "avg_positive_polarity             float64\n",
       "min_positive_polarity             float64\n",
       "max_positive_polarity             float64\n",
       "avg_negative_polarity             float64\n",
       "min_negative_polarity             float64\n",
       "max_negative_polarity             float64\n",
       "title_subjectivity                float64\n",
       "title_sentiment_polarity          float64\n",
       "abs_title_subjectivity            float64\n",
       "abs_title_sentiment_polarity      float64\n",
       "share_cat                        category\n",
       "dtype: object"
      ]
     },
     "execution_count": 124,
     "metadata": {},
     "output_type": "execute_result"
    }
   ],
   "source": [
    "df_v.dtypes"
   ]
  },
  {
   "cell_type": "code",
   "execution_count": 52,
   "metadata": {},
   "outputs": [
    {
     "name": "stderr",
     "output_type": "stream",
     "text": [
      "C:\\Users\\Tom N\\Anaconda3\\lib\\site-packages\\sklearn\\linear_model\\logistic.py:433: FutureWarning: Default solver will be changed to 'lbfgs' in 0.22. Specify a solver to silence this warning.\n",
      "  FutureWarning)\n"
     ]
    }
   ],
   "source": [
    "from sklearn.linear_model import LogisticRegression\n",
    "\n",
    "log_model1 = LogisticRegression()\n",
    "\n",
    "log_model1.fit(X_tr1,y_tr1)\n",
    "\n",
    "y_p_tr1= log_model1.predict(X_tr1)\n",
    "y_p_t1= log_model1.predict(X_t1)"
   ]
  },
  {
   "cell_type": "code",
   "execution_count": 55,
   "metadata": {},
   "outputs": [],
   "source": [
    "from sklearn.metrics import accuracy_score\n",
    "from sklearn.metrics import balanced_accuracy_score\n",
    "from sklearn.metrics import precision_score, recall_score, f1_score"
   ]
  },
  {
   "cell_type": "code",
   "execution_count": 56,
   "metadata": {},
   "outputs": [
    {
     "name": "stdout",
     "output_type": "stream",
     "text": [
      "Acc Score on traning set: 0.6029591587185131\n",
      "Acc Score on testing set: 0.615158924205379\n",
      "\n",
      "Balanced Acc Score on traning set: 0.5865779685017729\n",
      "Balanced Acc Score on testing set: 0.5958526570048309\n",
      "Precision Score on training set: 0.5869731800766284\n",
      "Precision Score on testing set: 0.6091954022988506\n",
      "\n",
      "Recall Score on training set: 0.41394217778978654\n",
      "Recall Score on testing set: 0.4032608695652174\n",
      "\n",
      "F1 Score on training set: 0.48550150530819197\n",
      "F1 Score on testing set: 0.4852844996729889\n"
     ]
    }
   ],
   "source": [
    "acc_score_tr1 = accuracy_score(y_tr1, y_p_tr1)\n",
    "acc_score_t1 = accuracy_score(y_t1, y_p_t1)\n",
    "\n",
    "print(\"Acc Score on traning set: {}\".format(acc_score_tr1))\n",
    "print(\"Acc Score on testing set: {}\".format(acc_score_t1)) \n",
    "print(\"\")\n",
    "\n",
    "bacc_score_tr1 = balanced_accuracy_score(y_tr1, y_p_tr1)\n",
    "bacc_score_t1 = balanced_accuracy_score(y_t1, y_p_t1)\n",
    "\n",
    "print(\"Balanced Acc Score on traning set: {}\".format(bacc_score_tr1))\n",
    "print(\"Balanced Acc Score on testing set: {}\".format(bacc_score_t1)) \n",
    "\n",
    "precision_tr3 = precision_score(y_tr1, y_p_tr1)\n",
    "precision_t3 = precision_score(y_t1, y_p_t1)\n",
    "\n",
    "print(\"Precision Score on training set: {}\".format(precision_tr3))\n",
    "print(\"Precision Score on testing set: {}\".format(precision_t3)) \n",
    "print(\"\")\n",
    "\n",
    "recall_tr3 = recall_score(y_tr1, y_p_tr1)\n",
    "recall_t3 = recall_score(y_t1, y_p_t1)\n",
    "\n",
    "print(\"Recall Score on training set: {}\".format(recall_tr3))\n",
    "print(\"Recall Score on testing set: {}\".format(recall_t3)) \n",
    "print(\"\")\n",
    "\n",
    "f1_score_tr = f1_score(y_tr1, y_p_tr1)\n",
    "f1_score_t = f1_score(y_t1, y_p_t1)\n",
    "               \n",
    "print(\"F1 Score on training set: {}\".format(f1_score_tr))\n",
    "print(\"F1 Score on testing set: {}\".format(f1_score_t)) "
   ]
  },
  {
   "cell_type": "code",
   "execution_count": 126,
   "metadata": {},
   "outputs": [
    {
     "ename": "NameError",
     "evalue": "name 'logmodel1' is not defined",
     "output_type": "error",
     "traceback": [
      "\u001b[1;31m---------------------------------------------------------------------------\u001b[0m",
      "\u001b[1;31mNameError\u001b[0m                                 Traceback (most recent call last)",
      "\u001b[1;32m<ipython-input-126-4a576a6b0461>\u001b[0m in \u001b[0;36m<module>\u001b[1;34m\u001b[0m\n\u001b[1;32m----> 1\u001b[1;33m \u001b[0mlogmodel1\u001b[0m\u001b[1;33m.\u001b[0m\u001b[0mparams\u001b[0m\u001b[1;33m\u001b[0m\u001b[1;33m\u001b[0m\u001b[0m\n\u001b[0m",
      "\u001b[1;31mNameError\u001b[0m: name 'logmodel1' is not defined"
     ]
    }
   ],
   "source": [
    "logmodel1.params"
   ]
  },
  {
   "cell_type": "code",
   "execution_count": 57,
   "metadata": {},
   "outputs": [
    {
     "data": {
      "text/plain": [
       "array([[887, 238],\n",
       "       [549, 371]], dtype=int64)"
      ]
     },
     "execution_count": 57,
     "metadata": {},
     "output_type": "execute_result"
    }
   ],
   "source": [
    "from sklearn.metrics import confusion_matrix\n",
    "\n",
    "confusion_matrix(y_t1, y_p_t1)"
   ]
  },
  {
   "cell_type": "code",
   "execution_count": 77,
   "metadata": {},
   "outputs": [],
   "source": [
    "sns.set()"
   ]
  },
  {
   "cell_type": "code",
   "execution_count": 58,
   "metadata": {},
   "outputs": [
    {
     "data": {
      "image/png": "[encoded data removed]",
      "text/plain": [
       "<Figure size 576x432 with 1 Axes>"
      ]
     },
     "metadata": {},
     "output_type": "display_data"
    }
   ],
   "source": [
    "from sklearn.metrics import roc_auc_score\n",
    "from sklearn.metrics import roc_curve\n",
    "logit_roc_auc = roc_auc_score(y_t1, y_p_t1)\n",
    "fpr, tpr, thresholds = roc_curve(y_t1, log_model1.predict_proba(X_t1)[::,1])\n",
    "\n",
    "plt.figure(figsize=(8,6))\n",
    "plt.plot(fpr, tpr, color='g' ,label='Logistic Regression (area = %0.2f)' % logit_roc_auc)\n",
    "plt.plot([0, 1], [0, 1],'r--')\n",
    "plt.xlim([0.0, 1.0])\n",
    "plt.ylim([0.0, 1.05])\n",
    "plt.xlabel('False Positive Rate',fontsize=16)\n",
    "plt.ylabel('True Positive Rate',fontsize=16)\n",
    "plt.title('ROC: Receiver Operating Characteristic\\nOutliers Removed',fontsize=20)\n",
    "plt.legend(loc=\"lower right\",fontsize=16)\n",
    "plt.savefig('Log_ROC')\n",
    "plt.show()"
   ]
  },
  {
   "cell_type": "code",
   "execution_count": null,
   "metadata": {},
   "outputs": [],
   "source": []
  },
  {
   "cell_type": "code",
   "execution_count": null,
   "metadata": {},
   "outputs": [],
   "source": []
  },
  {
   "cell_type": "code",
   "execution_count": null,
   "metadata": {},
   "outputs": [],
   "source": []
  },
  {
   "cell_type": "markdown",
   "metadata": {},
   "source": [
    "### Model is bad. Try first doing some feature selection."
   ]
  },
  {
   "cell_type": "code",
   "execution_count": 59,
   "metadata": {},
   "outputs": [
    {
     "data": {
      "text/plain": [
       "(10793, 59)"
      ]
     },
     "execution_count": 59,
     "metadata": {},
     "output_type": "execute_result"
    }
   ],
   "source": [
    "dff.shape"
   ]
  },
  {
   "cell_type": "code",
   "execution_count": 60,
   "metadata": {},
   "outputs": [
    {
     "name": "stdout",
     "output_type": "stream",
     "text": [
      "0.0 3487.0\n"
     ]
    }
   ],
   "source": [
    "for i in ['shares']:\n",
    "    Q25 = dff[i].quantile(0.25)\n",
    "    Q75 = dff[i].quantile(0.75)\n",
    "    IQR = Q75-Q25\n",
    "    sMaxQ_f = Q75+1.5*IQR\n",
    "    sMinQ_f = max(Q25-1.5*IQR,0.0)\n",
    "    print(sMinQ_f, sMaxQ_f)"
   ]
  },
  {
   "cell_type": "code",
   "execution_count": 61,
   "metadata": {},
   "outputs": [],
   "source": [
    "dff = dff[dff.shares<=round(sMaxQ,-2)]"
   ]
  },
  {
   "cell_type": "code",
   "execution_count": 62,
   "metadata": {},
   "outputs": [],
   "source": [
    "dff.reset_index(drop=True, inplace=True)"
   ]
  },
  {
   "cell_type": "code",
   "execution_count": 63,
   "metadata": {},
   "outputs": [],
   "source": [
    "ser, bins = pd.qcut(dff[\"shares\"], 2, retbins=True, labels=['poor','good'])\n",
    "dff['share_cat'] = pd.cut(dff[\"shares\"], bins=bins, labels=[0,1], include_lowest=True)"
   ]
  },
  {
   "cell_type": "code",
   "execution_count": 64,
   "metadata": {},
   "outputs": [],
   "source": [
    "dff.drop(['shares'],axis=1,inplace=True)"
   ]
  },
  {
   "cell_type": "code",
   "execution_count": 76,
   "metadata": {},
   "outputs": [],
   "source": [
    "X_tr2, X_t2, y_tr2,y_t2 = train_test_split(dff.drop('share_cat',axis=1), dff['share_cat'], test_size=0.2)"
   ]
  },
  {
   "cell_type": "code",
   "execution_count": 77,
   "metadata": {},
   "outputs": [],
   "source": [
    "log_model2 = LogisticRegression(solver='liblinear') #lbfgs/liblinear is default"
   ]
  },
  {
   "cell_type": "code",
   "execution_count": 78,
   "metadata": {},
   "outputs": [],
   "source": [
    "from sklearn.feature_selection import RFE"
   ]
  },
  {
   "cell_type": "code",
   "execution_count": 79,
   "metadata": {},
   "outputs": [],
   "source": [
    "rfe1 = RFE(log_model2,n_features_to_select=8)"
   ]
  },
  {
   "cell_type": "code",
   "execution_count": 80,
   "metadata": {
    "scrolled": true
   },
   "outputs": [
    {
     "name": "stdout",
     "output_type": "stream",
     "text": [
      "[12 19 34 39 31 11 30  2 44 32 10 46  1 29  1  1  9  8 16 15 22 23 49 17\n",
      " 18 13 14 21 20 25  6  4  5 28  1  1  1  3  1  1 26  7 50 35 47 51 27 24\n",
      " 42 40 38 37 33 45 43 36 41 48]\n",
      "[False False False False False False False False False False False False\n",
      "  True False  True  True False False False False False False False False\n",
      " False False False False False False False False False False  True  True\n",
      "  True False  True  True False False False False False False False False\n",
      " False False False False False False False False False False]\n"
     ]
    }
   ],
   "source": [
    "rfe1.fit(X_tr2,y_tr2)\n",
    "print(rfe1.ranking_)\n",
    "print(rfe1.support_)"
   ]
  },
  {
   "cell_type": "code",
   "execution_count": 81,
   "metadata": {},
   "outputs": [
    {
     "data": {
      "text/plain": [
       "Index(['data_channel_is_entertainment', 'data_channel_is_socmed',\n",
       "       'data_channel_is_tech', 'weekday_is_saturday', 'weekday_is_sunday',\n",
       "       'is_weekend', 'LDA_01', 'LDA_02'],\n",
       "      dtype='object')"
      ]
     },
     "execution_count": 81,
     "metadata": {},
     "output_type": "execute_result"
    }
   ],
   "source": [
    "cols = X_tr2.columns[rfe1.support_]\n",
    "cols"
   ]
  },
  {
   "cell_type": "code",
   "execution_count": 82,
   "metadata": {
    "scrolled": true
   },
   "outputs": [],
   "source": [
    "X_tr2, X_t2, y_tr2, y_t2 = train_test_split(dff[cols], dff['share_cat'], test_size=0.20, \n",
    "                                                    random_state=0)"
   ]
  },
  {
   "cell_type": "code",
   "execution_count": null,
   "metadata": {},
   "outputs": [],
   "source": []
  },
  {
   "cell_type": "code",
   "execution_count": 83,
   "metadata": {},
   "outputs": [
    {
     "name": "stdout",
     "output_type": "stream",
     "text": [
      "Acc Score on traning set: 0.6397919375812744\n",
      "Acc Score on testing set: 0.62402496099844\n",
      "\n",
      "Balanced Acc Score on traning set: 0.6158829024713008\n",
      "Balanced Acc Score on testing set: 0.6082612020453114\n",
      "\n",
      "Precision Score on training set: 0.6413887619917771\n",
      "Precision Score on testing set: 0.6357388316151202\n",
      "\n",
      "Recall Score on training set: 0.414281498967247\n",
      "Recall Score on testing set: 0.4199772985244041\n",
      "\n",
      "F1 Score on training set: 0.5034062387952671\n",
      "F1 Score on testing set: 0.5058099794941899\n"
     ]
    }
   ],
   "source": [
    "log_model2.fit(X_tr2,y_tr2)\n",
    "\n",
    "y_p_tr2= log_model2.predict(X_tr2)\n",
    "y_p_t2= log_model2.predict(X_t2)\n",
    "\n",
    "acc_score_tr2 = accuracy_score(y_tr2, y_p_tr2)\n",
    "acc_score_t2 = accuracy_score(y_t2, y_p_t2)\n",
    "\n",
    "print(\"Acc Score on traning set: {}\".format(acc_score_tr2))\n",
    "print(\"Acc Score on testing set: {}\".format(acc_score_t2)) \n",
    "print(\"\")\n",
    "\n",
    "bacc_score_tr2 = balanced_accuracy_score(y_tr2, y_p_tr2)\n",
    "bacc_score_t2 = balanced_accuracy_score(y_t2, y_p_t2)\n",
    "\n",
    "print(\"Balanced Acc Score on traning set: {}\".format(bacc_score_tr2))\n",
    "print(\"Balanced Acc Score on testing set: {}\".format(bacc_score_t2)) \n",
    "print(\"\")\n",
    "\n",
    "precision_tr2 = precision_score(y_tr2, y_p_tr2)\n",
    "precision_t2 = precision_score(y_t2, y_p_t2)\n",
    "\n",
    "print(\"Precision Score on training set: {}\".format(precision_tr2))\n",
    "print(\"Precision Score on testing set: {}\".format(precision_t2)) \n",
    "print(\"\")\n",
    "\n",
    "recall_tr2 = recall_score(y_tr2, y_p_tr2)\n",
    "recall_t2 = recall_score(y_t2, y_p_t2)\n",
    "\n",
    "print(\"Recall Score on training set: {}\".format(recall_tr2))\n",
    "print(\"Recall Score on testing set: {}\".format(recall_t2)) \n",
    "print(\"\")\n",
    "\n",
    "f1_score_tr = f1_score(y_tr2, y_p_tr2)\n",
    "f1_score_t = f1_score(y_t2, y_p_t2)\n",
    "               \n",
    "print(\"F1 Score on training set: {}\".format(f1_score_tr))\n",
    "print(\"F1 Score on testing set: {}\".format(f1_score_t)) "
   ]
  },
  {
   "cell_type": "code",
   "execution_count": 84,
   "metadata": {},
   "outputs": [
    {
     "data": {
      "text/plain": [
       "array([[830, 212],\n",
       "       [511, 370]], dtype=int64)"
      ]
     },
     "execution_count": 84,
     "metadata": {},
     "output_type": "execute_result"
    }
   ],
   "source": [
    "confusion_matrix(y_t2, y_p_t2)"
   ]
  },
  {
   "cell_type": "code",
   "execution_count": 85,
   "metadata": {},
   "outputs": [
    {
     "name": "stdout",
     "output_type": "stream",
     "text": [
      "              precision    recall  f1-score   support\n",
      "\n",
      "           0       0.62      0.80      0.70      1042\n",
      "           1       0.64      0.42      0.51       881\n",
      "\n",
      "   micro avg       0.62      0.62      0.62      1923\n",
      "   macro avg       0.63      0.61      0.60      1923\n",
      "weighted avg       0.63      0.62      0.61      1923\n",
      "\n"
     ]
    }
   ],
   "source": [
    "from sklearn.metrics import classification_report\n",
    "print(classification_report(y_t2, y_p_t2))"
   ]
  },
  {
   "cell_type": "code",
   "execution_count": 86,
   "metadata": {},
   "outputs": [
    {
     "data": {
      "image/png": "[encoded data removed]",
      "text/plain": [
       "<Figure size 576x432 with 1 Axes>"
      ]
     },
     "metadata": {},
     "output_type": "display_data"
    }
   ],
   "source": [
    "from sklearn.metrics import roc_auc_score\n",
    "from sklearn.metrics import roc_curve\n",
    "logit_roc_auc = roc_auc_score(y_t2, y_p_t2)\n",
    "fpr, tpr, thresholds = roc_curve(y_t2, log_model2.predict_proba(X_t2)[:,1])\n",
    "\n",
    "plt.figure(figsize=(8,6))\n",
    "plt.plot(fpr, tpr, color='g' ,label='Logistic Regression (area = %0.2f)' % logit_roc_auc)\n",
    "plt.plot([0, 1], [0, 1],'r--')\n",
    "plt.xlim([0.0, 1.0])\n",
    "plt.ylim([0.0, 1.05])\n",
    "plt.xlabel('False Positive Rate',fontsize=16)\n",
    "plt.ylabel('True Positive Rate',fontsize=16)\n",
    "plt.title('Time to ROC: Receiver Operating Characteristic\\nRFE / Outliers Removed',fontsize=20)\n",
    "plt.legend(loc=\"lower right\",fontsize=16)\n",
    "plt.savefig('Log_ROC')\n",
    "plt.show()"
   ]
  },
  {
   "cell_type": "code",
   "execution_count": null,
   "metadata": {},
   "outputs": [],
   "source": []
  },
  {
   "cell_type": "code",
   "execution_count": null,
   "metadata": {},
   "outputs": [],
   "source": [
    "# What if we eliminated NO outliers..."
   ]
  },
  {
   "cell_type": "code",
   "execution_count": 96,
   "metadata": {},
   "outputs": [],
   "source": [
    "df1 = df.copy()"
   ]
  },
  {
   "cell_type": "code",
   "execution_count": 97,
   "metadata": {},
   "outputs": [
    {
     "data": {
      "text/html": [
       "<div>\n",
       "<style scoped>\n",
       "    .dataframe tbody tr th:only-of-type {\n",
       "        vertical-align: middle;\n",
       "    }\n",
       "\n",
       "    .dataframe tbody tr th {\n",
       "        vertical-align: top;\n",
       "    }\n",
       "\n",
       "    .dataframe thead th {\n",
       "        text-align: right;\n",
       "    }\n",
       "</style>\n",
       "<table border=\"1\" class=\"dataframe\">\n",
       "  <thead>\n",
       "    <tr style=\"text-align: right;\">\n",
       "      <th></th>\n",
       "      <th>n_tokens_title</th>\n",
       "      <th>n_tokens_content</th>\n",
       "      <th>n_unique_tokens</th>\n",
       "      <th>n_non_stop_words</th>\n",
       "      <th>n_non_stop_unique_tokens</th>\n",
       "      <th>num_hrefs</th>\n",
       "      <th>num_self_hrefs</th>\n",
       "      <th>num_imgs</th>\n",
       "      <th>num_videos</th>\n",
       "      <th>average_token_length</th>\n",
       "      <th>...</th>\n",
       "      <th>max_positive_polarity</th>\n",
       "      <th>avg_negative_polarity</th>\n",
       "      <th>min_negative_polarity</th>\n",
       "      <th>max_negative_polarity</th>\n",
       "      <th>title_subjectivity</th>\n",
       "      <th>title_sentiment_polarity</th>\n",
       "      <th>abs_title_subjectivity</th>\n",
       "      <th>abs_title_sentiment_polarity</th>\n",
       "      <th>shares</th>\n",
       "      <th>share_cat</th>\n",
       "    </tr>\n",
       "  </thead>\n",
       "  <tbody>\n",
       "    <tr>\n",
       "      <th>0</th>\n",
       "      <td>12.0</td>\n",
       "      <td>219.0</td>\n",
       "      <td>0.663594</td>\n",
       "      <td>1.0</td>\n",
       "      <td>0.815385</td>\n",
       "      <td>4.0</td>\n",
       "      <td>2.0</td>\n",
       "      <td>1.0</td>\n",
       "      <td>0.0</td>\n",
       "      <td>4.680365</td>\n",
       "      <td>...</td>\n",
       "      <td>0.7</td>\n",
       "      <td>-0.350000</td>\n",
       "      <td>-0.600</td>\n",
       "      <td>-0.200000</td>\n",
       "      <td>0.500000</td>\n",
       "      <td>-0.187500</td>\n",
       "      <td>0.000000</td>\n",
       "      <td>0.187500</td>\n",
       "      <td>593</td>\n",
       "      <td>0</td>\n",
       "    </tr>\n",
       "    <tr>\n",
       "      <th>1</th>\n",
       "      <td>9.0</td>\n",
       "      <td>255.0</td>\n",
       "      <td>0.604743</td>\n",
       "      <td>1.0</td>\n",
       "      <td>0.791946</td>\n",
       "      <td>3.0</td>\n",
       "      <td>1.0</td>\n",
       "      <td>1.0</td>\n",
       "      <td>0.0</td>\n",
       "      <td>4.913725</td>\n",
       "      <td>...</td>\n",
       "      <td>0.7</td>\n",
       "      <td>-0.118750</td>\n",
       "      <td>-0.125</td>\n",
       "      <td>-0.100000</td>\n",
       "      <td>0.000000</td>\n",
       "      <td>0.000000</td>\n",
       "      <td>0.500000</td>\n",
       "      <td>0.000000</td>\n",
       "      <td>711</td>\n",
       "      <td>0</td>\n",
       "    </tr>\n",
       "    <tr>\n",
       "      <th>2</th>\n",
       "      <td>9.0</td>\n",
       "      <td>211.0</td>\n",
       "      <td>0.575130</td>\n",
       "      <td>1.0</td>\n",
       "      <td>0.663866</td>\n",
       "      <td>3.0</td>\n",
       "      <td>1.0</td>\n",
       "      <td>1.0</td>\n",
       "      <td>0.0</td>\n",
       "      <td>4.393365</td>\n",
       "      <td>...</td>\n",
       "      <td>1.0</td>\n",
       "      <td>-0.466667</td>\n",
       "      <td>-0.800</td>\n",
       "      <td>-0.133333</td>\n",
       "      <td>0.000000</td>\n",
       "      <td>0.000000</td>\n",
       "      <td>0.500000</td>\n",
       "      <td>0.000000</td>\n",
       "      <td>1500</td>\n",
       "      <td>1</td>\n",
       "    </tr>\n",
       "    <tr>\n",
       "      <th>3</th>\n",
       "      <td>9.0</td>\n",
       "      <td>531.0</td>\n",
       "      <td>0.503788</td>\n",
       "      <td>1.0</td>\n",
       "      <td>0.665635</td>\n",
       "      <td>9.0</td>\n",
       "      <td>0.0</td>\n",
       "      <td>1.0</td>\n",
       "      <td>0.0</td>\n",
       "      <td>4.404896</td>\n",
       "      <td>...</td>\n",
       "      <td>0.8</td>\n",
       "      <td>-0.369697</td>\n",
       "      <td>-0.600</td>\n",
       "      <td>-0.166667</td>\n",
       "      <td>0.000000</td>\n",
       "      <td>0.000000</td>\n",
       "      <td>0.500000</td>\n",
       "      <td>0.000000</td>\n",
       "      <td>1200</td>\n",
       "      <td>0</td>\n",
       "    </tr>\n",
       "    <tr>\n",
       "      <th>4</th>\n",
       "      <td>13.0</td>\n",
       "      <td>1072.0</td>\n",
       "      <td>0.415646</td>\n",
       "      <td>1.0</td>\n",
       "      <td>0.540890</td>\n",
       "      <td>19.0</td>\n",
       "      <td>19.0</td>\n",
       "      <td>20.0</td>\n",
       "      <td>0.0</td>\n",
       "      <td>4.682836</td>\n",
       "      <td>...</td>\n",
       "      <td>1.0</td>\n",
       "      <td>-0.220192</td>\n",
       "      <td>-0.500</td>\n",
       "      <td>-0.050000</td>\n",
       "      <td>0.454545</td>\n",
       "      <td>0.136364</td>\n",
       "      <td>0.045455</td>\n",
       "      <td>0.136364</td>\n",
       "      <td>505</td>\n",
       "      <td>0</td>\n",
       "    </tr>\n",
       "  </tbody>\n",
       "</table>\n",
       "<p>5 rows × 60 columns</p>\n",
       "</div>"
      ],
      "text/plain": [
       "   n_tokens_title  n_tokens_content  n_unique_tokens  n_non_stop_words  \\\n",
       "0            12.0             219.0         0.663594               1.0   \n",
       "1             9.0             255.0         0.604743               1.0   \n",
       "2             9.0             211.0         0.575130               1.0   \n",
       "3             9.0             531.0         0.503788               1.0   \n",
       "4            13.0            1072.0         0.415646               1.0   \n",
       "\n",
       "   n_non_stop_unique_tokens  num_hrefs  num_self_hrefs  num_imgs  num_videos  \\\n",
       "0                  0.815385        4.0             2.0       1.0         0.0   \n",
       "1                  0.791946        3.0             1.0       1.0         0.0   \n",
       "2                  0.663866        3.0             1.0       1.0         0.0   \n",
       "3                  0.665635        9.0             0.0       1.0         0.0   \n",
       "4                  0.540890       19.0            19.0      20.0         0.0   \n",
       "\n",
       "   average_token_length  ...  max_positive_polarity  avg_negative_polarity  \\\n",
       "0              4.680365  ...                    0.7              -0.350000   \n",
       "1              4.913725  ...                    0.7              -0.118750   \n",
       "2              4.393365  ...                    1.0              -0.466667   \n",
       "3              4.404896  ...                    0.8              -0.369697   \n",
       "4              4.682836  ...                    1.0              -0.220192   \n",
       "\n",
       "   min_negative_polarity  max_negative_polarity  title_subjectivity  \\\n",
       "0                 -0.600              -0.200000            0.500000   \n",
       "1                 -0.125              -0.100000            0.000000   \n",
       "2                 -0.800              -0.133333            0.000000   \n",
       "3                 -0.600              -0.166667            0.000000   \n",
       "4                 -0.500              -0.050000            0.454545   \n",
       "\n",
       "   title_sentiment_polarity  abs_title_subjectivity  \\\n",
       "0                 -0.187500                0.000000   \n",
       "1                  0.000000                0.500000   \n",
       "2                  0.000000                0.500000   \n",
       "3                  0.000000                0.500000   \n",
       "4                  0.136364                0.045455   \n",
       "\n",
       "   abs_title_sentiment_polarity  shares  share_cat  \n",
       "0                      0.187500     593          0  \n",
       "1                      0.000000     711          0  \n",
       "2                      0.000000    1500          1  \n",
       "3                      0.000000    1200          0  \n",
       "4                      0.136364     505          0  \n",
       "\n",
       "[5 rows x 60 columns]"
      ]
     },
     "execution_count": 97,
     "metadata": {},
     "output_type": "execute_result"
    }
   ],
   "source": [
    "\n",
    "df1.drop(['url','timedelta'],axis=1,inplace=True)\n",
    "ser, bins = pd.qcut(df1[\"shares\"], 2, retbins=True, labels=['poor','good'])\n",
    "df1['share_cat'] = pd.cut(df1[\"shares\"], bins=bins, labels=[0,1], include_lowest=True)\n",
    "df1.head()"
   ]
  },
  {
   "cell_type": "code",
   "execution_count": 98,
   "metadata": {},
   "outputs": [],
   "source": [
    "df1.drop(['shares'],axis=1,inplace=True)"
   ]
  },
  {
   "cell_type": "code",
   "execution_count": 93,
   "metadata": {},
   "outputs": [
    {
     "data": {
      "text/plain": [
       "count     39644.000000\n",
       "mean       3395.380184\n",
       "std       11626.950749\n",
       "min           1.000000\n",
       "25%         946.000000\n",
       "50%        1400.000000\n",
       "75%        2800.000000\n",
       "max      843300.000000\n",
       "Name: shares, dtype: float64"
      ]
     },
     "execution_count": 93,
     "metadata": {},
     "output_type": "execute_result"
    }
   ],
   "source": [
    "df1['shares'].describe()"
   ]
  },
  {
   "cell_type": "code",
   "execution_count": 99,
   "metadata": {},
   "outputs": [],
   "source": [
    "X_tr3a, X_t3a, y_tr3a, y_t3a = train_test_split(df1.drop('share_cat',axis=1), df1['share_cat'], test_size=0.20, \n",
    "                                                    random_state=0)"
   ]
  },
  {
   "cell_type": "code",
   "execution_count": 100,
   "metadata": {},
   "outputs": [
    {
     "name": "stdout",
     "output_type": "stream",
     "text": [
      "[34 40  6 30  1 33 29 36 37 31 26  5  1  1  3 32  2 38 44 43 51 47 48 41\n",
      " 42 39 46 49 45 25 21 20 22 11  8 12  1  1  4  1 17 16  1  9 50 35 10 28\n",
      " 23  1 24 19 18 15 14  7 13 27]\n",
      "[False False False False  True False False False False False False False\n",
      "  True  True False False False False False False False False False False\n",
      " False False False False False False False False False False False False\n",
      "  True  True False  True False False  True False False False False False\n",
      " False  True False False False False False False False False]\n"
     ]
    }
   ],
   "source": [
    "log_model3 = LogisticRegression(solver='liblinear')\n",
    "rfe3 = RFE(log_model3,n_features_to_select=8)\n",
    "rfe3.fit(X_tr3a,y_tr3a)\n",
    "print(rfe3.ranking_)\n",
    "print(rfe3.support_)"
   ]
  },
  {
   "cell_type": "code",
   "execution_count": null,
   "metadata": {},
   "outputs": [],
   "source": []
  },
  {
   "cell_type": "code",
   "execution_count": 101,
   "metadata": {},
   "outputs": [
    {
     "data": {
      "text/plain": [
       "Index(['n_non_stop_unique_tokens', 'data_channel_is_entertainment',\n",
       "       'data_channel_is_bus', 'is_weekend', 'LDA_00', 'LDA_02',\n",
       "       'global_subjectivity', 'min_positive_polarity'],\n",
       "      dtype='object')"
      ]
     },
     "execution_count": 101,
     "metadata": {},
     "output_type": "execute_result"
    }
   ],
   "source": [
    "cols = X_tr3a.columns[rfe3.support_]\n",
    "X_tr3, X_t3, y_tr3, y_t3 = train_test_split(df1[cols], df1['share_cat'], test_size=0.20, \n",
    "                                                    random_state=0)\n",
    "\n",
    "\n",
    "cols"
   ]
  },
  {
   "cell_type": "code",
   "execution_count": 102,
   "metadata": {},
   "outputs": [
    {
     "data": {
      "text/plain": [
       "LogisticRegression(C=1.0, class_weight=None, dual=False, fit_intercept=True,\n",
       "          intercept_scaling=1, max_iter=100, multi_class='warn',\n",
       "          n_jobs=None, penalty='l2', random_state=None, solver='liblinear',\n",
       "          tol=0.0001, verbose=0, warm_start=False)"
      ]
     },
     "execution_count": 102,
     "metadata": {},
     "output_type": "execute_result"
    }
   ],
   "source": [
    "log_model3.fit(X_tr3,y_tr3)"
   ]
  },
  {
   "cell_type": "code",
   "execution_count": 103,
   "metadata": {},
   "outputs": [
    {
     "name": "stdout",
     "output_type": "stream",
     "text": [
      "Acc Score on traning set: 0.6247832256030269\n",
      "Acc Score on testing set: 0.6212637154748392\n",
      "\n",
      "Balanced Acc Score on traning set: 0.6248354045237341\n",
      "Balanced Acc Score on testing set: 0.6214896871679864\n",
      "\n",
      "Precision Score on training set: 0.6185973700688792\n",
      "Precision Score on testing set: 0.6083063914449142\n",
      "\n",
      "Recall Score on training set: 0.6297169811320755\n",
      "Recall Score on testing set: 0.6313887454827052\n",
      "\n",
      "F1 Score on training set: 0.6241076505148778\n",
      "F1 Score on testing set: 0.6196326789107031\n"
     ]
    }
   ],
   "source": [
    "y_p_tr3= log_model3.predict(X_tr3)\n",
    "y_p_t3= log_model3.predict(X_t3)\n",
    "\n",
    "acc_score_tr3 = accuracy_score(y_tr3, y_p_tr3)\n",
    "acc_score_t3 = accuracy_score(y_t3, y_p_t3)\n",
    "\n",
    "print(\"Acc Score on traning set: {}\".format(acc_score_tr3))\n",
    "print(\"Acc Score on testing set: {}\".format(acc_score_t3)) \n",
    "print(\"\")\n",
    "\n",
    "bacc_score_tr3 = balanced_accuracy_score(y_tr3, y_p_tr3)\n",
    "bacc_score_t3 = balanced_accuracy_score(y_t3, y_p_t3)\n",
    "\n",
    "print(\"Balanced Acc Score on traning set: {}\".format(bacc_score_tr3))\n",
    "print(\"Balanced Acc Score on testing set: {}\".format(bacc_score_t3)) \n",
    "print(\"\")\n",
    "\n",
    "precision_tr3 = precision_score(y_tr3, y_p_tr3)\n",
    "precision_t3 = precision_score(y_t3, y_p_t3)\n",
    "\n",
    "print(\"Precision Score on training set: {}\".format(precision_tr3))\n",
    "print(\"Precision Score on testing set: {}\".format(precision_t3)) \n",
    "print(\"\")\n",
    "\n",
    "recall_tr3 = recall_score(y_tr3, y_p_tr3)\n",
    "recall_t3 = recall_score(y_t3, y_p_t3)\n",
    "\n",
    "print(\"Recall Score on training set: {}\".format(recall_tr3))\n",
    "print(\"Recall Score on testing set: {}\".format(recall_t3)) \n",
    "print(\"\")\n",
    "\n",
    "f1_score_tr = f1_score(y_tr3, y_p_tr3)\n",
    "f1_score_t = f1_score(y_t3, y_p_t3)\n",
    "               \n",
    "print(\"F1 Score on training set: {}\".format(f1_score_tr))\n",
    "print(\"F1 Score on testing set: {}\".format(f1_score_t)) "
   ]
  },
  {
   "cell_type": "code",
   "execution_count": 104,
   "metadata": {},
   "outputs": [
    {
     "name": "stdout",
     "output_type": "stream",
     "text": [
      "              precision    recall  f1-score   support\n",
      "\n",
      "           0       0.63      0.61      0.62      4055\n",
      "           1       0.61      0.63      0.62      3874\n",
      "\n",
      "   micro avg       0.62      0.62      0.62      7929\n",
      "   macro avg       0.62      0.62      0.62      7929\n",
      "weighted avg       0.62      0.62      0.62      7929\n",
      "\n"
     ]
    }
   ],
   "source": [
    "from sklearn.metrics import classification_report\n",
    "print(classification_report(y_t3, y_p_t3))"
   ]
  },
  {
   "cell_type": "code",
   "execution_count": 105,
   "metadata": {},
   "outputs": [
    {
     "data": {
      "text/plain": [
       "array([[2480, 1575],\n",
       "       [1428, 2446]], dtype=int64)"
      ]
     },
     "execution_count": 105,
     "metadata": {},
     "output_type": "execute_result"
    }
   ],
   "source": [
    "confusion_matrix(y_t3, y_p_t3)"
   ]
  },
  {
   "cell_type": "code",
   "execution_count": 106,
   "metadata": {},
   "outputs": [
    {
     "data": {
      "image/png": "[encoded data removed]",
      "text/plain": [
       "<Figure size 576x432 with 1 Axes>"
      ]
     },
     "metadata": {},
     "output_type": "display_data"
    }
   ],
   "source": [
    "from sklearn.metrics import roc_auc_score\n",
    "from sklearn.metrics import roc_curve\n",
    "logit_roc_auc = roc_auc_score(y_t3, y_p_t3)\n",
    "fpr, tpr, thresholds = roc_curve(y_t3, log_model3.predict_proba(X_t3)[:,1])\n",
    "plt.figure(figsize=(8,6))\n",
    "plt.plot(fpr, tpr, color='m' ,label='Logistic Regression (area = %0.2f)' % logit_roc_auc)\n",
    "plt.plot([0, 1], [0, 1],'r--')\n",
    "plt.xlim([0.0, 1.0])\n",
    "plt.ylim([0.0, 1.05])\n",
    "plt.xlabel('False Positive Rate',fontsize=16)\n",
    "plt.ylabel('True Positive Rate',fontsize=16)\n",
    "plt.title('Time to ROC: Receiver Operating Characteristic\\nOutliers Not Removed',fontsize=24)\n",
    "plt.legend(loc=\"lower right\",fontsize=16)\n",
    "plt.savefig('Log_ROC')\n",
    "plt.show()"
   ]
  },
  {
   "cell_type": "markdown",
   "metadata": {},
   "source": [
    "# RANDOM FOREST"
   ]
  },
  {
   "cell_type": "code",
   "execution_count": 107,
   "metadata": {},
   "outputs": [
    {
     "name": "stderr",
     "output_type": "stream",
     "text": [
      "C:\\Users\\Tom N\\Anaconda3\\lib\\site-packages\\sklearn\\ensemble\\forest.py:246: FutureWarning: The default value of n_estimators will change from 10 in version 0.20 to 100 in 0.22.\n",
      "  \"10 in version 0.20 to 100 in 0.22.\", FutureWarning)\n"
     ]
    }
   ],
   "source": [
    "from sklearn.ensemble import RandomForestClassifier\n",
    "\n",
    "ks_rf = RandomForestClassifier().fit(X_tr3,y_tr3)"
   ]
  },
  {
   "cell_type": "code",
   "execution_count": 122,
   "metadata": {},
   "outputs": [
    {
     "data": {
      "text/plain": [
       "array([[2755, 1300],\n",
       "       [1918, 1956]], dtype=int64)"
      ]
     },
     "execution_count": 122,
     "metadata": {},
     "output_type": "execute_result"
    }
   ],
   "source": [
    "y_p_t_RF = ks_rf.predict(X_t3)\n",
    "y_p_tr_RF = ks_rf.predict(X_tr3)\n",
    "confusion_matrix(y_t3,y_p_t_RF)"
   ]
  },
  {
   "cell_type": "code",
   "execution_count": 123,
   "metadata": {},
   "outputs": [
    {
     "name": "stdout",
     "output_type": "stream",
     "text": [
      "Acc Score on traning set: 0.9790320037836986\n",
      "Acc Score on testing set: 0.5941480640686089\n",
      "\n",
      "Balanced Acc Score on traning set: 0.9789119704678619\n",
      "Balanced Acc Score on testing set: 0.5921563147913913\n",
      "\n",
      "Precision Score on training set: 0.9896994588956255\n",
      "Precision Score on testing set: 0.6007371007371007\n",
      "\n",
      "Recall Score on training set: 0.9676823049464559\n",
      "Recall Score on testing set: 0.5049044914816727\n",
      "\n",
      "F1 Score on training set: 0.9785670545009185\n",
      "F1 Score on testing set: 0.5486676016830294\n"
     ]
    }
   ],
   "source": [
    "acc_score_tr3 = accuracy_score(y_tr3, y_p_tr_RF)\n",
    "acc_score_t3 = accuracy_score(y_t3, y_p_t_RF)\n",
    "\n",
    "print(\"Acc Score on traning set: {}\".format(acc_score_tr3))\n",
    "print(\"Acc Score on testing set: {}\".format(acc_score_t3)) \n",
    "print(\"\")\n",
    "\n",
    "bacc_score_tr3 = balanced_accuracy_score(y_tr3, y_p_tr_RF)\n",
    "bacc_score_t3 = balanced_accuracy_score(y_t3, y_p_t_RF)\n",
    "\n",
    "print(\"Balanced Acc Score on traning set: {}\".format(bacc_score_tr3))\n",
    "print(\"Balanced Acc Score on testing set: {}\".format(bacc_score_t3)) \n",
    "print(\"\")\n",
    "\n",
    "precision_tr3 = precision_score(y_tr3, y_p_tr_RF)\n",
    "precision_t3 = precision_score(y_t3, y_p_t_RF)\n",
    "\n",
    "print(\"Precision Score on training set: {}\".format(precision_tr3))\n",
    "print(\"Precision Score on testing set: {}\".format(precision_t3)) \n",
    "print(\"\")\n",
    "\n",
    "recall_tr3 = recall_score(y_tr3, y_p_tr_RF)\n",
    "recall_t3 = recall_score(y_t3, y_p_t_RF)\n",
    "\n",
    "print(\"Recall Score on training set: {}\".format(recall_tr3))\n",
    "print(\"Recall Score on testing set: {}\".format(recall_t3)) \n",
    "print(\"\")\n",
    "\n",
    "f1_score_tr = f1_score(y_tr3, y_p_tr_RF)\n",
    "f1_score_t = f1_score(y_t3, y_p_t_RF)\n",
    "               \n",
    "print(\"F1 Score on training set: {}\".format(f1_score_tr))\n",
    "print(\"F1 Score on testing set: {}\".format(f1_score_t)) "
   ]
  },
  {
   "cell_type": "code",
   "execution_count": 109,
   "metadata": {},
   "outputs": [
    {
     "data": {
      "image/png": "[encoded data removed]",
      "text/plain": [
       "<Figure size 576x432 with 1 Axes>"
      ]
     },
     "metadata": {},
     "output_type": "display_data"
    }
   ],
   "source": [
    "y_pred_proba_RF = ks_rf.predict_proba(X_t3)[:,1]\n",
    "\n",
    "logit_roc_auc = roc_auc_score(y_t3, y_p_t_RF)\n",
    "\n",
    "fpr, tpr, thresholds = roc_curve(y_t3, y_pred_proba_RF)\n",
    "\n",
    "plt.figure(figsize=(8,6))\n",
    "plt.plot(fpr, tpr, color='c' ,label='Logistic Regression (area = %0.2f)' % logit_roc_auc)\n",
    "plt.plot([0, 1], [0, 1],'r--')\n",
    "plt.xlim([0.0, 1.0])\n",
    "plt.ylim([0.0, 1.05])\n",
    "plt.xlabel('False Positive Rate',fontsize=16)\n",
    "plt.ylabel('True Positive Rate',fontsize=16)\n",
    "plt.title('Time to ROC: Receiver Operating Characteristic\\nOutliers Not Removed\\nRandom Forest',fontsize=24)\n",
    "plt.legend(loc=\"lower right\",fontsize=16)\n",
    "plt.savefig('Log_ROC')\n",
    "plt.show()\n"
   ]
  },
  {
   "cell_type": "markdown",
   "metadata": {},
   "source": [
    "## Random Forest with Outliers Removed"
   ]
  },
  {
   "cell_type": "code",
   "execution_count": 110,
   "metadata": {},
   "outputs": [
    {
     "name": "stdout",
     "output_type": "stream",
     "text": [
      "n_tokens_title\n",
      "3.0 17.0\n",
      "n_tokens_content\n",
      "-460.0 1422.0\n",
      "num_hrefs\n",
      "-11.0 27.0\n",
      "num_self_hrefs\n",
      "-5.0 9.0\n",
      "num_imgs\n",
      "-1.0 5.0\n",
      "num_videos\n",
      "-3.0 3.0\n",
      "num_keywords\n",
      "1.0 15.0\n",
      "kw_min_min\n",
      "-9.0 13.0\n",
      "kw_max_min\n",
      "-419.0 1851.0\n",
      "kw_avg_min\n",
      "-127.0 533.0\n",
      "kw_min_max\n",
      "-12601.0 21001.0\n",
      "kw_max_max\n",
      "843299.0 843301.0\n",
      "kw_avg_max\n",
      "9624.0 521906.0\n",
      "kw_min_avg\n",
      "-2367.0 3944.0\n",
      "kw_max_avg\n",
      "887.0 7933.0\n",
      "kw_avg_avg\n",
      "1092.0 4223.0\n",
      "self_reference_min_shares\n",
      "-1896.0 4978.0\n",
      "self_reference_max_shares\n",
      "-4169.0 9221.0\n",
      "self_reference_avg_sharess\n",
      "-1876.0 4966.0\n"
     ]
    }
   ],
   "source": [
    "df2 = df.copy()\n",
    "\n",
    "columns_out = ['n_tokens_title','n_tokens_content','num_hrefs','num_self_hrefs','num_imgs','num_videos','num_keywords',\n",
    "              'kw_min_min', 'kw_max_min',\"kw_avg_min\", \"kw_min_max\", \"kw_max_max\",\"kw_avg_max\", \"kw_min_avg\",\n",
    "               \"kw_max_avg\",\"kw_avg_avg\",\"self_reference_min_shares\",\"self_reference_max_shares\",\n",
    "               \"self_reference_avg_sharess\"]\n",
    "\n",
    "for n in columns_out:\n",
    "    print(n)\n",
    "    \n",
    "    q = iqr_fun(n,df2)\n",
    "    df2 = df2[(df2[n]<=q[1]) & (df2[n]>=q[0])  ]"
   ]
  },
  {
   "cell_type": "code",
   "execution_count": 111,
   "metadata": {},
   "outputs": [
    {
     "data": {
      "text/plain": [
       "3477.25"
      ]
     },
     "execution_count": 111,
     "metadata": {},
     "output_type": "execute_result"
    }
   ],
   "source": [
    "sMaxQ"
   ]
  },
  {
   "cell_type": "code",
   "execution_count": 112,
   "metadata": {},
   "outputs": [
    {
     "data": {
      "text/html": [
       "<div>\n",
       "<style scoped>\n",
       "    .dataframe tbody tr th:only-of-type {\n",
       "        vertical-align: middle;\n",
       "    }\n",
       "\n",
       "    .dataframe tbody tr th {\n",
       "        vertical-align: top;\n",
       "    }\n",
       "\n",
       "    .dataframe thead th {\n",
       "        text-align: right;\n",
       "    }\n",
       "</style>\n",
       "<table border=\"1\" class=\"dataframe\">\n",
       "  <thead>\n",
       "    <tr style=\"text-align: right;\">\n",
       "      <th></th>\n",
       "      <th>n_tokens_title</th>\n",
       "      <th>n_tokens_content</th>\n",
       "      <th>n_unique_tokens</th>\n",
       "      <th>n_non_stop_words</th>\n",
       "      <th>n_non_stop_unique_tokens</th>\n",
       "      <th>num_hrefs</th>\n",
       "      <th>num_self_hrefs</th>\n",
       "      <th>num_imgs</th>\n",
       "      <th>num_videos</th>\n",
       "      <th>average_token_length</th>\n",
       "      <th>...</th>\n",
       "      <th>max_positive_polarity</th>\n",
       "      <th>avg_negative_polarity</th>\n",
       "      <th>min_negative_polarity</th>\n",
       "      <th>max_negative_polarity</th>\n",
       "      <th>title_subjectivity</th>\n",
       "      <th>title_sentiment_polarity</th>\n",
       "      <th>abs_title_subjectivity</th>\n",
       "      <th>abs_title_sentiment_polarity</th>\n",
       "      <th>shares</th>\n",
       "      <th>share_cat</th>\n",
       "    </tr>\n",
       "  </thead>\n",
       "  <tbody>\n",
       "    <tr>\n",
       "      <th>0</th>\n",
       "      <td>8.0</td>\n",
       "      <td>166.0</td>\n",
       "      <td>0.644172</td>\n",
       "      <td>1.0</td>\n",
       "      <td>0.838384</td>\n",
       "      <td>5.0</td>\n",
       "      <td>1.0</td>\n",
       "      <td>0.0</td>\n",
       "      <td>0.0</td>\n",
       "      <td>4.993976</td>\n",
       "      <td>...</td>\n",
       "      <td>0.5</td>\n",
       "      <td>0.000000</td>\n",
       "      <td>0.0</td>\n",
       "      <td>0.000</td>\n",
       "      <td>0.000</td>\n",
       "      <td>0.000</td>\n",
       "      <td>0.500</td>\n",
       "      <td>0.000</td>\n",
       "      <td>2600</td>\n",
       "      <td>1</td>\n",
       "    </tr>\n",
       "    <tr>\n",
       "      <th>1</th>\n",
       "      <td>10.0</td>\n",
       "      <td>847.0</td>\n",
       "      <td>0.424608</td>\n",
       "      <td>1.0</td>\n",
       "      <td>0.604167</td>\n",
       "      <td>8.0</td>\n",
       "      <td>0.0</td>\n",
       "      <td>1.0</td>\n",
       "      <td>0.0</td>\n",
       "      <td>4.853601</td>\n",
       "      <td>...</td>\n",
       "      <td>1.0</td>\n",
       "      <td>-0.185049</td>\n",
       "      <td>-0.4</td>\n",
       "      <td>-0.125</td>\n",
       "      <td>0.225</td>\n",
       "      <td>-0.175</td>\n",
       "      <td>0.275</td>\n",
       "      <td>0.175</td>\n",
       "      <td>186</td>\n",
       "      <td>0</td>\n",
       "    </tr>\n",
       "    <tr>\n",
       "      <th>2</th>\n",
       "      <td>7.0</td>\n",
       "      <td>245.0</td>\n",
       "      <td>0.616667</td>\n",
       "      <td>1.0</td>\n",
       "      <td>0.762821</td>\n",
       "      <td>8.0</td>\n",
       "      <td>5.0</td>\n",
       "      <td>1.0</td>\n",
       "      <td>0.0</td>\n",
       "      <td>4.767347</td>\n",
       "      <td>...</td>\n",
       "      <td>0.5</td>\n",
       "      <td>-0.341667</td>\n",
       "      <td>-0.5</td>\n",
       "      <td>-0.125</td>\n",
       "      <td>0.000</td>\n",
       "      <td>0.000</td>\n",
       "      <td>0.500</td>\n",
       "      <td>0.000</td>\n",
       "      <td>1000</td>\n",
       "      <td>0</td>\n",
       "    </tr>\n",
       "    <tr>\n",
       "      <th>3</th>\n",
       "      <td>11.0</td>\n",
       "      <td>107.0</td>\n",
       "      <td>0.761905</td>\n",
       "      <td>1.0</td>\n",
       "      <td>0.893939</td>\n",
       "      <td>3.0</td>\n",
       "      <td>1.0</td>\n",
       "      <td>0.0</td>\n",
       "      <td>2.0</td>\n",
       "      <td>4.383178</td>\n",
       "      <td>...</td>\n",
       "      <td>1.0</td>\n",
       "      <td>0.000000</td>\n",
       "      <td>0.0</td>\n",
       "      <td>0.000</td>\n",
       "      <td>0.400</td>\n",
       "      <td>-0.300</td>\n",
       "      <td>0.100</td>\n",
       "      <td>0.300</td>\n",
       "      <td>805</td>\n",
       "      <td>0</td>\n",
       "    </tr>\n",
       "    <tr>\n",
       "      <th>4</th>\n",
       "      <td>8.0</td>\n",
       "      <td>205.0</td>\n",
       "      <td>0.648780</td>\n",
       "      <td>1.0</td>\n",
       "      <td>0.760563</td>\n",
       "      <td>7.0</td>\n",
       "      <td>3.0</td>\n",
       "      <td>1.0</td>\n",
       "      <td>0.0</td>\n",
       "      <td>5.565854</td>\n",
       "      <td>...</td>\n",
       "      <td>0.6</td>\n",
       "      <td>-0.508333</td>\n",
       "      <td>-0.9</td>\n",
       "      <td>-0.125</td>\n",
       "      <td>0.000</td>\n",
       "      <td>0.000</td>\n",
       "      <td>0.500</td>\n",
       "      <td>0.000</td>\n",
       "      <td>791</td>\n",
       "      <td>0</td>\n",
       "    </tr>\n",
       "  </tbody>\n",
       "</table>\n",
       "<p>5 rows × 60 columns</p>\n",
       "</div>"
      ],
      "text/plain": [
       "   n_tokens_title  n_tokens_content  n_unique_tokens  n_non_stop_words  \\\n",
       "0             8.0             166.0         0.644172               1.0   \n",
       "1            10.0             847.0         0.424608               1.0   \n",
       "2             7.0             245.0         0.616667               1.0   \n",
       "3            11.0             107.0         0.761905               1.0   \n",
       "4             8.0             205.0         0.648780               1.0   \n",
       "\n",
       "   n_non_stop_unique_tokens  num_hrefs  num_self_hrefs  num_imgs  num_videos  \\\n",
       "0                  0.838384        5.0             1.0       0.0         0.0   \n",
       "1                  0.604167        8.0             0.0       1.0         0.0   \n",
       "2                  0.762821        8.0             5.0       1.0         0.0   \n",
       "3                  0.893939        3.0             1.0       0.0         2.0   \n",
       "4                  0.760563        7.0             3.0       1.0         0.0   \n",
       "\n",
       "   average_token_length  ...  max_positive_polarity  avg_negative_polarity  \\\n",
       "0              4.993976  ...                    0.5               0.000000   \n",
       "1              4.853601  ...                    1.0              -0.185049   \n",
       "2              4.767347  ...                    0.5              -0.341667   \n",
       "3              4.383178  ...                    1.0               0.000000   \n",
       "4              5.565854  ...                    0.6              -0.508333   \n",
       "\n",
       "   min_negative_polarity  max_negative_polarity  title_subjectivity  \\\n",
       "0                    0.0                  0.000               0.000   \n",
       "1                   -0.4                 -0.125               0.225   \n",
       "2                   -0.5                 -0.125               0.000   \n",
       "3                    0.0                  0.000               0.400   \n",
       "4                   -0.9                 -0.125               0.000   \n",
       "\n",
       "   title_sentiment_polarity  abs_title_subjectivity  \\\n",
       "0                     0.000                   0.500   \n",
       "1                    -0.175                   0.275   \n",
       "2                     0.000                   0.500   \n",
       "3                    -0.300                   0.100   \n",
       "4                     0.000                   0.500   \n",
       "\n",
       "   abs_title_sentiment_polarity  shares  share_cat  \n",
       "0                         0.000    2600          1  \n",
       "1                         0.175     186          0  \n",
       "2                         0.000    1000          0  \n",
       "3                         0.300     805          0  \n",
       "4                         0.000     791          0  \n",
       "\n",
       "[5 rows x 60 columns]"
      ]
     },
     "execution_count": 112,
     "metadata": {},
     "output_type": "execute_result"
    }
   ],
   "source": [
    "df2 = df2[df2.shares<=sMaxQ+1000]\n",
    "df2.reset_index(drop=True, inplace=True)\n",
    "df2.drop(['url','timedelta'],axis=1,inplace=True)\n",
    "\n",
    "\n",
    "ser, bins = pd.qcut(df2[\"shares\"], 2, retbins=True, labels=['poor','good'])\n",
    "df2['share_cat'] = pd.cut(df2[\"shares\"], bins=bins, labels=[0,1], include_lowest=True)\n",
    "df2.head()"
   ]
  },
  {
   "cell_type": "code",
   "execution_count": 113,
   "metadata": {},
   "outputs": [],
   "source": [
    "df2.drop(['shares'],axis=1,inplace=True)"
   ]
  },
  {
   "cell_type": "code",
   "execution_count": 114,
   "metadata": {},
   "outputs": [],
   "source": [
    "X_tr4a, X_t4a, y_tr4a,y_t4a = train_test_split(df2.drop('share_cat',axis=1), df2['share_cat'], test_size=0.2)"
   ]
  },
  {
   "cell_type": "code",
   "execution_count": 115,
   "metadata": {},
   "outputs": [
    {
     "name": "stdout",
     "output_type": "stream",
     "text": [
      "[23 29  1 43  6 26 27 11 14 25 21 50  7  8  1  1  9 19 34 31 37 38 40 32\n",
      " 33 28 30 36 35 18 17 15 16  4  3  5  1  2  1  1 22 13 45  1 46 47  1 10\n",
      " 44 41 39 12 24 51 42 20 49 48]\n",
      "[False False  True False False False False False False False False False\n",
      " False False  True  True False False False False False False False False\n",
      " False False False False False False False False False False False False\n",
      "  True False  True  True False False False  True False False  True False\n",
      " False False False False False False False False False False]\n"
     ]
    }
   ],
   "source": [
    "log_model4 = LogisticRegression(solver='liblinear')\n",
    "\n",
    "rfe4 = RFE(log_model4,n_features_to_select=8)\n",
    "rfe4.fit(X_tr4a,y_tr4a)\n",
    "print(rfe4.ranking_)\n",
    "print(rfe4.support_)"
   ]
  },
  {
   "cell_type": "code",
   "execution_count": 116,
   "metadata": {},
   "outputs": [
    {
     "data": {
      "text/plain": [
       "Index(['n_unique_tokens', 'data_channel_is_socmed', 'data_channel_is_tech',\n",
       "       'is_weekend', 'LDA_01', 'LDA_02', 'global_sentiment_polarity',\n",
       "       'rate_positive_words'],\n",
       "      dtype='object')"
      ]
     },
     "execution_count": 116,
     "metadata": {},
     "output_type": "execute_result"
    }
   ],
   "source": [
    "cols = X_tr4a.columns[rfe4.support_]\n",
    "X_tr4, X_t4, y_tr4, y_t4 = train_test_split(df2[cols], df2['share_cat'], test_size=0.20, \n",
    "                                                    random_state=0)\n",
    "\n",
    "\n",
    "cols"
   ]
  },
  {
   "cell_type": "code",
   "execution_count": 117,
   "metadata": {},
   "outputs": [
    {
     "name": "stderr",
     "output_type": "stream",
     "text": [
      "C:\\Users\\Tom N\\Anaconda3\\lib\\site-packages\\sklearn\\ensemble\\forest.py:246: FutureWarning: The default value of n_estimators will change from 10 in version 0.20 to 100 in 0.22.\n",
      "  \"10 in version 0.20 to 100 in 0.22.\", FutureWarning)\n"
     ]
    }
   ],
   "source": [
    "\n",
    "\n",
    "ks_rf4 = RandomForestClassifier().fit(X_tr4,y_tr4)"
   ]
  },
  {
   "cell_type": "code",
   "execution_count": 120,
   "metadata": {},
   "outputs": [
    {
     "data": {
      "text/plain": [
       "array([[760, 295],\n",
       "       [502, 430]], dtype=int64)"
      ]
     },
     "execution_count": 120,
     "metadata": {},
     "output_type": "execute_result"
    }
   ],
   "source": [
    "y_p_t_RF4 = ks_rf4.predict(X_t4)\n",
    "y_p_tr_RF4 = ks_rf4.predict(X_tr4)\n",
    "confusion_matrix(y_t4,y_p_t_RF4)"
   ]
  },
  {
   "cell_type": "code",
   "execution_count": 119,
   "metadata": {},
   "outputs": [
    {
     "data": {
      "image/png": "[encoded data removed]",
      "text/plain": [
       "<Figure size 576x432 with 1 Axes>"
      ]
     },
     "metadata": {},
     "output_type": "display_data"
    }
   ],
   "source": [
    "y_pred_proba_RF4 = ks_rf4.predict_proba(X_t4)[:,1]\n",
    "\n",
    "logit_roc_auc = roc_auc_score(y_t4, y_p_t_RF4)\n",
    "\n",
    "fpr, tpr, thresholds = roc_curve(y_t4, y_pred_proba_RF4)\n",
    "\n",
    "plt.figure(figsize=(8,6))\n",
    "plt.plot(fpr, tpr, color='c' ,label='Logistic Regression (area = %0.2f)' % logit_roc_auc)\n",
    "plt.plot([0, 1], [0, 1],'r--')\n",
    "plt.xlim([0.0, 1.0])\n",
    "plt.ylim([0.0, 1.05])\n",
    "plt.xlabel('False Positive Rate',fontsize=16)\n",
    "plt.ylabel('True Positive Rate',fontsize=16)\n",
    "plt.title('Time to ROC: Receiver Operating Characteristic\\nOutliers Removed - Random Forest',fontsize=24)\n",
    "plt.legend(loc=\"lower right\",fontsize=16)\n",
    "plt.savefig('Log_ROC')\n",
    "plt.show()"
   ]
  },
  {
   "cell_type": "code",
   "execution_count": 121,
   "metadata": {},
   "outputs": [
    {
     "name": "stdout",
     "output_type": "stream",
     "text": [
      "Acc Score on traning set: 0.9821316219957217\n",
      "Acc Score on testing set: 0.5988928032209361\n",
      "\n",
      "Balanced Acc Score on traning set: 0.9809165092819586\n",
      "Balanced Acc Score on testing set: 0.5908762687386856\n",
      "\n",
      "Precision Score on training set: 0.9954916877993801\n",
      "Precision Score on testing set: 0.593103448275862\n",
      "\n",
      "Recall Score on training set: 0.9655643618474993\n",
      "Recall Score on testing set: 0.4613733905579399\n",
      "\n",
      "F1 Score on training set: 0.980299667036626\n",
      "F1 Score on testing set: 0.5190102595051298\n"
     ]
    }
   ],
   "source": [
    "acc_score_tr3 = accuracy_score(y_tr4, y_p_tr_RF4)\n",
    "acc_score_t3 = accuracy_score(y_t4, y_p_t_RF4)\n",
    "\n",
    "print(\"Acc Score on traning set: {}\".format(acc_score_tr3))\n",
    "print(\"Acc Score on testing set: {}\".format(acc_score_t3)) \n",
    "print(\"\")\n",
    "\n",
    "bacc_score_tr3 = balanced_accuracy_score(y_tr4, y_p_tr_RF4)\n",
    "bacc_score_t3 = balanced_accuracy_score(y_t4, y_p_t_RF4)\n",
    "\n",
    "print(\"Balanced Acc Score on traning set: {}\".format(bacc_score_tr3))\n",
    "print(\"Balanced Acc Score on testing set: {}\".format(bacc_score_t3)) \n",
    "print(\"\")\n",
    "\n",
    "precision_tr3 = precision_score(y_tr4, y_p_tr_RF4)\n",
    "precision_t3 = precision_score(y_t4, y_p_t_RF4)\n",
    "\n",
    "print(\"Precision Score on training set: {}\".format(precision_tr3))\n",
    "print(\"Precision Score on testing set: {}\".format(precision_t3)) \n",
    "print(\"\")\n",
    "\n",
    "recall_tr3 = recall_score(y_tr4, y_p_tr_RF4)\n",
    "recall_t3 = recall_score(y_t4, y_p_t_RF4)\n",
    "\n",
    "print(\"Recall Score on training set: {}\".format(recall_tr3))\n",
    "print(\"Recall Score on testing set: {}\".format(recall_t3)) \n",
    "print(\"\")\n",
    "\n",
    "f1_score_tr = f1_score(y_tr4, y_p_tr_RF4)\n",
    "f1_score_t = f1_score(y_t4, y_p_t_RF4)\n",
    "               \n",
    "print(\"F1 Score on training set: {}\".format(f1_score_tr))\n",
    "print(\"F1 Score on testing set: {}\".format(f1_score_t)) "
   ]
  },
  {
   "cell_type": "code",
   "execution_count": null,
   "metadata": {},
   "outputs": [],
   "source": []
  },
  {
   "cell_type": "markdown",
   "metadata": {},
   "source": [
    "# Support Vector Machines"
   ]
  },
  {
   "cell_type": "code",
   "execution_count": 1,
   "metadata": {},
   "outputs": [],
   "source": [
    "from sklearn import svm"
   ]
  },
  {
   "cell_type": "code",
   "execution_count": 2,
   "metadata": {},
   "outputs": [
    {
     "ename": "NameError",
     "evalue": "name 'X_tr1' is not defined",
     "output_type": "error",
     "traceback": [
      "\u001b[1;31m---------------------------------------------------------------------------\u001b[0m",
      "\u001b[1;31mNameError\u001b[0m                                 Traceback (most recent call last)",
      "\u001b[1;32m<ipython-input-2-e14e0986ef43>\u001b[0m in \u001b[0;36m<module>\u001b[1;34m\u001b[0m\n\u001b[0;32m      1\u001b[0m \u001b[0mclf\u001b[0m \u001b[1;33m=\u001b[0m \u001b[0msvm\u001b[0m\u001b[1;33m.\u001b[0m\u001b[0mSVC\u001b[0m\u001b[1;33m(\u001b[0m\u001b[0mgamma\u001b[0m\u001b[1;33m=\u001b[0m\u001b[1;34m'auto'\u001b[0m\u001b[1;33m)\u001b[0m\u001b[1;33m\u001b[0m\u001b[1;33m\u001b[0m\u001b[0m\n\u001b[1;32m----> 2\u001b[1;33m \u001b[0mclf\u001b[0m\u001b[1;33m.\u001b[0m\u001b[0mfit\u001b[0m\u001b[1;33m(\u001b[0m\u001b[0mX_tr1\u001b[0m\u001b[1;33m,\u001b[0m \u001b[0my_tr1\u001b[0m\u001b[1;33m)\u001b[0m\u001b[1;33m\u001b[0m\u001b[1;33m\u001b[0m\u001b[0m\n\u001b[0m",
      "\u001b[1;31mNameError\u001b[0m: name 'X_tr1' is not defined"
     ]
    }
   ],
   "source": [
    "clf = svm.SVC(gamma='auto')\n",
    "clf.fit(X_tr1, y_tr1)"
   ]
  },
  {
   "cell_type": "code",
   "execution_count": null,
   "metadata": {},
   "outputs": [],
   "source": [
    "clf.score(X_t1, y_t1)"
   ]
  },
  {
   "cell_type": "code",
   "execution_count": 4,
   "metadata": {},
   "outputs": [
    {
     "ename": "NameError",
     "evalue": "name 'pd' is not defined",
     "output_type": "error",
     "traceback": [
      "\u001b[1;31m---------------------------------------------------------------------------\u001b[0m",
      "\u001b[1;31mNameError\u001b[0m                                 Traceback (most recent call last)",
      "\u001b[1;32m<ipython-input-4-b238de2fd2ee>\u001b[0m in \u001b[0;36m<module>\u001b[1;34m\u001b[0m\n\u001b[0;32m      1\u001b[0m \u001b[1;33m\u001b[0m\u001b[0m\n\u001b[0;32m      2\u001b[0m \u001b[1;33m\u001b[0m\u001b[0m\n\u001b[1;32m----> 3\u001b[1;33m \u001b[0mpd\u001b[0m\u001b[1;33m.\u001b[0m\u001b[0mDataFrame\u001b[0m\u001b[1;33m(\u001b[0m\u001b[1;33m)\u001b[0m\u001b[1;33m\u001b[0m\u001b[1;33m\u001b[0m\u001b[0m\n\u001b[0m",
      "\u001b[1;31mNameError\u001b[0m: name 'pd' is not defined"
     ]
    }
   ],
   "source": [
    "\n",
    "\n",
    "pd.DataFrame()"
   ]
  },
  {
   "cell_type": "code",
   "execution_count": null,
   "metadata": {},
   "outputs": [],
   "source": []
  }
 ],
 "metadata": {
  "kernelspec": {
   "display_name": "Python 3",
   "language": "python",
   "name": "python3"
  },
  "language_info": {
   "codemirror_mode": {
    "name": "ipython",
    "version": 3
   },
   "file_extension": ".py",
   "mimetype": "text/x-python",
   "name": "python",
   "nbconvert_exporter": "python",
   "pygments_lexer": "ipython3",
   "version": "3.7.3"
  }
 },
 "nbformat": 4,
 "nbformat_minor": 2
}
